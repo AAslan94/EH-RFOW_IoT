{
 "cells": [
  {
   "cell_type": "code",
   "execution_count": 1,
   "id": "793ff67b-d431-4608-b1ab-6118462d6e6e",
   "metadata": {},
   "outputs": [
    {
     "data": {
      "image/png": "[encoded data removed]",
      "text/plain": [
       "<Figure size 600x600 with 1 Axes>"
      ]
     },
     "metadata": {},
     "output_type": "display_data"
    }
   ],
   "source": [
    "import numpy as np\n",
    "from libow8 import sensor_net\n",
    "import matplotlib.pyplot as plt\n",
    "import owutils as ut\n",
    "from design_handle import designs\n",
    "from pyswarms.single.global_best import GlobalBestPSO\n"
   ]
  },
  {
   "cell_type": "markdown",
   "id": "5eb5e719-cd4d-4b65-be7d-7e3973fc9872",
   "metadata": {},
   "source": [
    "In this scenario a room of 10x10x3 m is considered.\n",
    "\n",
    "ZigBee nodes equiped with solar panels gather data from 3 sensors (each) and transfer them to the central node (star topology).\n",
    "\n",
    "1 window (2x2m)\n",
    "\n",
    "25 LEDs on the ceiling (6W each) ~ 550 lumens avg\n",
    "\n",
    "sensors: \n",
    "GAS SENSORS MQ-2 Voltage: (5V) Power Consumption: (0.8W)  I = (0.16 A) data = 3 bytes\n",
    "\n",
    "\n",
    "DHT11: Voltage: (5V) Current: (0.2mA) data = 2 bytes\n",
    "\n",
    "TSL2561 light sensor (broadband & IR): Voltage: (5V), Current: (0.5mA), data = 2 bytes\n",
    "\n",
    "data = 7 bytes\n",
    "\n",
    "6 Bytes PHY Header + 5 bytes MAC Header + 7 PAYLOAD + 2 MAC FOOTER (FCS) = 20 BYTES -> 40 SYMBOLS -> 2 TIMESLOTS\n",
    "\n"
   ]
  },
  {
   "cell_type": "code",
   "execution_count": 2,
   "id": "ca34bac5-f75c-4a54-a8f2-3c5921a02795",
   "metadata": {},
   "outputs": [],
   "source": [
    "KEY = 'e_solar'\n",
    "params_d = designs[KEY] "
   ]
  },
  {
   "cell_type": "code",
   "execution_count": 3,
   "id": "bf5effde-7cfa-4cb2-836b-d3c5b09a27b7",
   "metadata": {},
   "outputs": [],
   "source": [
    "h_ww = None\n",
    "r_sens = None\n",
    "n_particles = 20\n",
    "def sensor_ar(x,params_d = None): \n",
    "    global h_ww\n",
    "    global r_sens\n",
    "    global n_particles\n",
    "    r_sensor = np.tile(r_sens,(n_particles,1)) \n",
    "    nR =ut.spher_to_cart_ar(1, x[:,0], x[:,1]).T\n",
    "    params_d['r_sensor'] = r_sensor\n",
    "    params_d['nR_sensor'] = nR\n",
    "    #params_d['nS_sensor'] = nR\n",
    "    l = sensor_net( **params_d ) \n",
    "    l.calch(h_ww = h_ww)\n",
    "    l.light_sim()\n",
    "    h_ww = l.h_ww\n",
    "    fitness = np.sum(np.sum(l.Pin_sm_diff,axis = 0),axis = 1) + np.sum(l.Pin_sm,axis = 0) #+ l.Pin_sa #LOS + Diffuse + Ambient\n",
    "    return fitness "
   ]
  },
  {
   "cell_type": "code",
   "execution_count": 4,
   "id": "c3714583-f2ae-4777-a1be-0045ab22d712",
   "metadata": {},
   "outputs": [],
   "source": [
    "def fit_function(x):\n",
    "    f = sensor_ar(x,params_d=params_d)\n",
    "    g = 1/f\n",
    "    g = np.array(g)\n",
    "    g = g.reshape(x.shape[0])\n",
    "    print(g)\n",
    "    return g"
   ]
  },
  {
   "cell_type": "code",
   "execution_count": 5,
   "id": "febfc46e-0feb-4b5f-9a0b-09e24f55f995",
   "metadata": {
    "jp-MarkdownHeadingCollapsed": true
   },
   "outputs": [
    {
     "name": "stderr",
     "output_type": "stream",
     "text": [
      "2024-12-23 18:19:47,761 - pyswarms.single.global_best - INFO - Optimize for 20 iters with {'c1': 0.5, 'c2': 0.3, 'w': 0.8}\n",
      "pyswarms.single.global_best:   5%|█▎                        |1/20, best_cost=405"
     ]
    },
    {
     "name": "stdout",
     "output_type": "stream",
     "text": [
      "[ 863.0292517   614.06793389  405.84193531 1648.2834185   460.10785778\n",
      "  576.18188621  422.69632718  415.16576432  506.59578508  444.93392508\n",
      "  577.30253196  729.18704443  561.22613833  461.7874      405.43898751\n",
      " 1270.06600546  741.20992464 1311.71496862  874.78784694  421.43817484]\n"
     ]
    },
    {
     "name": "stderr",
     "output_type": "stream",
     "text": [
      "pyswarms.single.global_best:  10%|██▌                       |2/20, best_cost=389"
     ]
    },
    {
     "name": "stdout",
     "output_type": "stream",
     "text": [
      "[ 473.97105112  389.461076    392.54441924  459.94746779  621.43675715\n",
      " 1100.72993195  422.33086713  512.12848637  407.86333641  457.70784519\n",
      "  637.38833514  939.13786038  475.16138475  645.24927148  389.20757255\n",
      " 1371.74069412  746.37194639 1244.43083375  430.67286035  584.84947165]\n"
     ]
    },
    {
     "name": "stderr",
     "output_type": "stream",
     "text": [
      "pyswarms.single.global_best:  15%|███▉                      |3/20, best_cost=389"
     ]
    },
    {
     "name": "stdout",
     "output_type": "stream",
     "text": [
      "[ 675.83869447  489.79654506  434.47966883  513.13927698 1270.88208423\n",
      " 1084.50535021  431.7075401   573.92011657  393.53993019  487.49865762\n",
      "  535.34705951  767.63419068  640.2728775   694.6812659   418.43825208\n",
      " 1038.10459476  607.43286827  994.99480471  471.87927837  800.79426578]\n"
     ]
    },
    {
     "name": "stderr",
     "output_type": "stream",
     "text": [
      "pyswarms.single.global_best:  20%|█████▏                    |4/20, best_cost=389"
     ]
    },
    {
     "name": "stdout",
     "output_type": "stream",
     "text": [
      "[ 833.2957175   439.19180835  496.99550791  496.24306208 1567.78413769\n",
      "  730.42949391  442.88550755  521.98521782  469.47470104  483.40828177\n",
      "  432.44067381  631.9323805   424.1472968   646.7178143   445.51219153\n",
      "  693.71622877  474.42276409  688.81550292  851.74776034  779.77165207]\n"
     ]
    },
    {
     "name": "stderr",
     "output_type": "stream",
     "text": [
      "pyswarms.single.global_best:  25%|██████▌                   |5/20, best_cost=389"
     ]
    },
    {
     "name": "stdout",
     "output_type": "stream",
     "text": [
      "[ 598.12744766  391.303492    489.88856696  451.45510844 1501.47303285\n",
      "  521.73560833  430.07945142  426.42675949  495.37637281  440.82552018\n",
      "  399.30320646  461.40297252  529.30683495  506.00697238  434.01493925\n",
      "  497.04463825  402.18648403  488.39206087  692.38555821  455.37392483]\n"
     ]
    },
    {
     "name": "stderr",
     "output_type": "stream",
     "text": [
      "pyswarms.single.global_best:  30%|███████▊                  |6/20, best_cost=388"
     ]
    },
    {
     "name": "stdout",
     "output_type": "stream",
     "text": [
      "[467.16351469 388.47013725 416.01373226 413.12079581 795.31338594\n",
      " 423.4780647  406.83978737 388.34743356 429.50949439 409.78894962\n",
      " 392.88679838 389.55659892 940.74962428 403.82452469 395.47094047\n",
      " 404.92139404 391.74729217 403.51897564 492.37199214 392.07188009]\n"
     ]
    },
    {
     "name": "stderr",
     "output_type": "stream",
     "text": [
      "pyswarms.single.global_best:  35%|█████████                 |7/20, best_cost=388"
     ]
    },
    {
     "name": "stdout",
     "output_type": "stream",
     "text": [
      "[1066.01224816  410.53938231  389.33419961  395.81954754  454.26925638\n",
      "  396.73869387  398.46236196  388.03345455  397.88191391  405.23037111\n",
      "  393.96840731  392.07107714  417.7795954   388.86958648  388.55699227\n",
      "  387.51217256  411.19432028  388.45488413  441.08072763  441.36149037]\n"
     ]
    },
    {
     "name": "stderr",
     "output_type": "stream",
     "text": [
      "pyswarms.single.global_best:  40%|██████████▍               |8/20, best_cost=388"
     ]
    },
    {
     "name": "stdout",
     "output_type": "stream",
     "text": [
      "[542.81453401 413.6496676  400.86721335 393.64736986 392.94350389\n",
      " 397.37836306 400.68897189 398.51741471 395.34931101 416.08607608\n",
      " 394.07503192 399.94029894 789.32932608 404.6302453  393.93819969\n",
      " 396.80524319 432.25682749 396.37196938 460.02174441 520.81967886]\n"
     ]
    },
    {
     "name": "stderr",
     "output_type": "stream",
     "text": [
      "pyswarms.single.global_best:  45%|███████████▋              |9/20, best_cost=388"
     ]
    },
    {
     "name": "stdout",
     "output_type": "stream",
     "text": [
      "[454.75098648 394.79825538 411.43884887 398.31868278 407.61068774\n",
      " 395.34286242 399.4047085  406.17804501 399.01000451 410.16638689\n",
      " 390.66953129 389.82180335 389.8358382  420.07253287 396.41866202\n",
      " 406.25983762 426.6845177  405.41555835 476.37306237 394.96121159]\n"
     ]
    },
    {
     "name": "stderr",
     "output_type": "stream",
     "text": [
      "pyswarms.single.global_best:  50%|████████████▌            |10/20, best_cost=387"
     ]
    },
    {
     "name": "stdout",
     "output_type": "stream",
     "text": [
      "[439.34578774 387.18294655 401.10132897 402.61681916 422.66442189\n",
      " 395.64882863 393.92691493 403.64655951 392.93878889 396.29027321\n",
      " 387.9701295  386.96277551 573.37543267 516.67930675 390.4260762\n",
      " 410.25219909 394.57496406 396.65272077 470.01346608 407.7459878 ]\n"
     ]
    },
    {
     "name": "stderr",
     "output_type": "stream",
     "text": [
      "pyswarms.single.global_best:  55%|█████████████▊           |11/20, best_cost=387"
     ]
    },
    {
     "name": "stdout",
     "output_type": "stream",
     "text": [
      "[825.19792679 387.52996975 390.35142102 398.2081893  417.61929522\n",
      " 396.86824406 391.77029266 394.55367944 388.52279502 389.28139556\n",
      " 387.32406449 398.97094085 394.24538058 466.49942721 386.86501673\n",
      " 393.56028694 389.88112817 387.57323023 418.18427494 578.92492658]\n"
     ]
    },
    {
     "name": "stderr",
     "output_type": "stream",
     "text": [
      "pyswarms.single.global_best:  60%|███████████████          |12/20, best_cost=386"
     ]
    },
    {
     "name": "stdout",
     "output_type": "stream",
     "text": [
      "[446.09889725 390.26867626 388.70896732 391.77326969 400.85084663\n",
      " 396.35619139 395.15739198 386.43244607 386.84665261 387.34671968\n",
      " 388.62038859 407.47543996 616.22277903 460.22329762 388.15243368\n",
      " 388.06851216 403.08896366 392.76132312 394.17824291 401.55573726]\n"
     ]
    },
    {
     "name": "stderr",
     "output_type": "stream",
     "text": [
      "pyswarms.single.global_best:  65%|████████████████▎        |13/20, best_cost=385"
     ]
    },
    {
     "name": "stdout",
     "output_type": "stream",
     "text": [
      "[437.3211989  390.26018099 393.47341627 388.99278339 388.02729105\n",
      " 393.84530945 395.82597979 386.04986043 386.74071335 387.17609784\n",
      " 389.50036976 410.18000571 385.46591952 427.71614814 389.27629515\n",
      " 392.46557998 417.34440829 401.10173826 386.3966246  400.20271873]\n"
     ]
    },
    {
     "name": "stderr",
     "output_type": "stream",
     "text": [
      "pyswarms.single.global_best:  70%|█████████████████▌       |14/20, best_cost=385"
     ]
    },
    {
     "name": "stdout",
     "output_type": "stream",
     "text": [
      "[493.17371835 387.06695462 395.38404055 387.27847227 386.10588042\n",
      " 392.40390613 391.30910009 389.99803121 386.9425848  387.96694125\n",
      " 388.89862874 391.0678971  602.09490631 624.60946888 387.80322862\n",
      " 396.2289878  403.97976087 401.52944065 393.35118806 616.6314782 ]\n"
     ]
    },
    {
     "name": "stderr",
     "output_type": "stream",
     "text": [
      "pyswarms.single.global_best:  75%|██████████████████▊      |15/20, best_cost=385"
     ]
    },
    {
     "name": "stdout",
     "output_type": "stream",
     "text": [
      "[392.2944059  385.60716662 390.91357035 387.6497253  391.34890393\n",
      " 392.48979211 388.45755835 392.8051576  386.7002801  387.50603972\n",
      " 387.67893166 386.11744674 409.53339997 493.2310086  385.64062834\n",
      " 392.47489072 387.4134449  393.86198404 397.20936591 387.78578714]\n"
     ]
    },
    {
     "name": "stderr",
     "output_type": "stream",
     "text": [
      "pyswarms.single.global_best:  80%|████████████████████     |16/20, best_cost=385"
     ]
    },
    {
     "name": "stdout",
     "output_type": "stream",
     "text": [
      "[498.53887852 385.57592931 387.12343088 389.51056516 394.02372485\n",
      " 389.77217441 386.2119313  392.09733117 386.19327358 386.83328855\n",
      " 387.07439232 392.37918595 645.68380431 571.71669012 386.10602266\n",
      " 385.73153041 387.5014928  387.45562243 390.60426058 509.4430399 ]\n"
     ]
    },
    {
     "name": "stderr",
     "output_type": "stream",
     "text": [
      "pyswarms.single.global_best:  85%|█████████████████████▎   |17/20, best_cost=385"
     ]
    },
    {
     "name": "stdout",
     "output_type": "stream",
     "text": [
      "[420.16811485 386.17179113 385.50615293 389.8771585  389.69428116\n",
      " 386.79420752 385.56182788 387.48219642 385.69981832 385.95151852\n",
      " 386.67261982 398.94587622 411.29229257 484.20851979 386.84676281\n",
      " 387.1499965  389.4988509  389.44959176 386.53153757 408.18247469]\n"
     ]
    },
    {
     "name": "stderr",
     "output_type": "stream",
     "text": [
      "pyswarms.single.global_best:  90%|██████████████████████▌  |18/20, best_cost=385"
     ]
    },
    {
     "name": "stdout",
     "output_type": "stream",
     "text": [
      "[406.50818738 386.22483983 385.75661626 388.70436775 386.69953404\n",
      " 385.52922147 386.26736889 385.49019097 385.5258177  385.63207563\n",
      " 386.15717623 399.15777658 567.23724451 458.97200216 387.03329061\n",
      " 389.55681824 388.1064145  391.00151708 388.10719634 446.75433076]\n"
     ]
    },
    {
     "name": "stderr",
     "output_type": "stream",
     "text": [
      "pyswarms.single.global_best:  95%|███████████████████████▊ |19/20, best_cost=385"
     ]
    },
    {
     "name": "stdout",
     "output_type": "stream",
     "text": [
      "[412.68545077 385.89879554 386.15282627 386.91567197 385.51159656\n",
      " 385.96683833 386.84160258 386.20883055 385.62167649 385.74747348\n",
      " 385.67653484 394.01218214 428.20442457 487.37613421 386.33242286\n",
      " 388.23933957 385.55575105 390.70210457 387.74992963 389.29843012]\n"
     ]
    },
    {
     "name": "stderr",
     "output_type": "stream",
     "text": [
      "pyswarms.single.global_best: 100%|█████████████████████████|20/20, best_cost=385\n",
      "2024-12-23 18:20:23,044 - pyswarms.single.global_best - INFO - Optimization finished | best cost: 385.465919523876, best pos: [0.55063305 0.80901559]\n",
      "2024-12-23 18:20:23,052 - pyswarms.single.global_best - INFO - Optimize for 20 iters with {'c1': 0.5, 'c2': 0.3, 'w': 0.8}\n"
     ]
    },
    {
     "name": "stdout",
     "output_type": "stream",
     "text": [
      "[517.94129096 385.50650577 386.04016315 387.05661787 386.02667045\n",
      " 386.82643362 386.42280173 387.04092507 385.70754193 385.8496033\n",
      " 385.52951111 387.49106565 386.88057748 527.26765838 385.52598063\n",
      " 385.56681196 387.54512008 386.53901869 385.97448918 571.77130592]\n"
     ]
    },
    {
     "name": "stderr",
     "output_type": "stream",
     "text": [
      "pyswarms.single.global_best:   5%|█▎                        |1/20, best_cost=340"
     ]
    },
    {
     "name": "stdout",
     "output_type": "stream",
     "text": [
      "[1448.72112708  925.82853309  392.65415343  407.41308064  716.62429393\n",
      "  472.70151552  401.92326411  382.12826863  562.32522272  960.4301305\n",
      "  780.7247968   340.69093461  355.34979522  340.25949049  375.16945254\n",
      "  603.24155572  357.02195986  371.89806926  808.6464206   468.17228129]\n"
     ]
    },
    {
     "name": "stderr",
     "output_type": "stream",
     "text": [
      "pyswarms.single.global_best:  10%|██▌                       |2/20, best_cost=340"
     ]
    },
    {
     "name": "stdout",
     "output_type": "stream",
     "text": [
      "[ 451.65742635  380.11034305  676.13134861  417.07307505  369.20261905\n",
      "  733.81135404  399.33588329  715.8367268   942.21399798  411.58853307\n",
      "  383.59261261  346.46932509  383.00038475  364.76882694  429.58619905\n",
      " 1428.84648048  358.84923082  585.60618984 1494.87471299  762.69328142]\n"
     ]
    },
    {
     "name": "stderr",
     "output_type": "stream",
     "text": [
      "pyswarms.single.global_best:  15%|███▉                      |3/20, best_cost=340"
     ]
    },
    {
     "name": "stdout",
     "output_type": "stream",
     "text": [
      "[ 555.78841137  429.14727836  373.28940209  423.12031167  384.4133885\n",
      "  963.39926314  389.52933835  371.74621649  979.13327647  613.91442204\n",
      "  479.29079779  356.05473809  565.55096631  388.90033382  471.71740252\n",
      "  383.01883203  358.71689502 1118.79843641 1591.54770096 1090.44683445]\n"
     ]
    },
    {
     "name": "stderr",
     "output_type": "stream",
     "text": [
      "pyswarms.single.global_best:  20%|█████▏                    |4/20, best_cost=340"
     ]
    },
    {
     "name": "stdout",
     "output_type": "stream",
     "text": [
      "[ 548.70047505  415.67793577  376.09282018  531.38730545  513.81519697\n",
      "  738.55076849  392.24829602  362.68432151  466.14186224  885.43656264\n",
      "  472.16741596  346.65869795  652.60789448  375.36584869  416.04047016\n",
      "  381.30325186  353.83225129 1321.86339533 1008.90312214 1124.20728409]\n"
     ]
    },
    {
     "name": "stderr",
     "output_type": "stream",
     "text": [
      "pyswarms.single.global_best:  25%|██████▌                   |5/20, best_cost=340"
     ]
    },
    {
     "name": "stdout",
     "output_type": "stream",
     "text": [
      "[423.61291483 389.84213925 359.63904919 530.66456336 586.1140514\n",
      " 664.48302994 389.61418715 355.81561527 357.07937749 765.02010412\n",
      " 412.35040829 340.84587641 430.71859687 349.87157989 352.1892402\n",
      " 339.81521585 346.18471958 962.93239487 448.90296577 597.86361239]\n"
     ]
    },
    {
     "name": "stderr",
     "output_type": "stream",
     "text": [
      "pyswarms.single.global_best:  30%|███████▊                  |6/20, best_cost=340"
     ]
    },
    {
     "name": "stdout",
     "output_type": "stream",
     "text": [
      "[361.51596607 377.06154437 358.61017049 423.47703919 455.08606918\n",
      " 496.8238327  363.65121178 356.87453258 370.27815415 608.58352798\n",
      " 376.12543812 340.2462486  353.97473724 340.13853407 349.41795764\n",
      " 408.37238088 340.35238532 528.43620935 346.43293039 439.6626409 ]\n"
     ]
    },
    {
     "name": "stderr",
     "output_type": "stream",
     "text": [
      "pyswarms.single.global_best:  35%|█████████                 |7/20, best_cost=340"
     ]
    },
    {
     "name": "stdout",
     "output_type": "stream",
     "text": [
      "[353.76521147 353.87803478 362.85921123 387.72732362 381.92770343\n",
      " 394.71346378 350.70836997 361.35522806 349.7676217  440.94620176\n",
      " 368.76727615 343.4533061  373.65306307 348.74899514 370.36287708\n",
      " 574.20556093 340.5533634  383.89176203 725.10224344 380.29082933]\n"
     ]
    },
    {
     "name": "stderr",
     "output_type": "stream",
     "text": [
      "pyswarms.single.global_best:  40%|██████████▍               |8/20, best_cost=340"
     ]
    },
    {
     "name": "stdout",
     "output_type": "stream",
     "text": [
      "[ 364.93355381  343.34944785  364.74215765  361.85470643 1704.95328456\n",
      "  373.79901899  343.83896989  364.81032543  459.50944957  379.63687747\n",
      "  374.43222592  344.24535683  510.1596897   354.00247592  370.78548777\n",
      "  346.5034701   341.46620864 1054.82195705  372.09741797  937.53762727]\n"
     ]
    },
    {
     "name": "stderr",
     "output_type": "stream",
     "text": [
      "pyswarms.single.global_best:  45%|███████████▋              |9/20, best_cost=340"
     ]
    },
    {
     "name": "stdout",
     "output_type": "stream",
     "text": [
      "[498.36925584 340.19467073 361.44116796 354.22020447 591.73823191\n",
      " 699.22378731 342.55356169 360.34169451 406.57158718 824.44764589\n",
      " 370.68182363 342.0464668  401.02400225 348.05949693 353.32021275\n",
      " 479.58872744 340.27356546 464.20970027 973.67026843 378.55700102]\n"
     ]
    },
    {
     "name": "stderr",
     "output_type": "stream",
     "text": [
      "pyswarms.single.global_best:  50%|████████████▌            |10/20, best_cost=340"
     ]
    },
    {
     "name": "stdout",
     "output_type": "stream",
     "text": [
      "[ 368.95277204  342.28861204  356.23975599  356.07096736 1411.06741069\n",
      "  368.50304701  345.12027687  354.16424255  378.91195154  356.57750433\n",
      "  361.14733934  340.40281575  341.37258073  341.20381225  340.57851246\n",
      "  411.81016711  339.96294214  990.55340131  391.69471561  627.93308025]\n"
     ]
    },
    {
     "name": "stderr",
     "output_type": "stream",
     "text": [
      "pyswarms.single.global_best:  55%|█████████████▊           |11/20, best_cost=340"
     ]
    },
    {
     "name": "stdout",
     "output_type": "stream",
     "text": [
      "[451.17140859 343.88661508 350.06230757 359.72601367 398.08583262\n",
      " 344.74392098 346.2493106  354.16177412 396.52532244 630.5626833\n",
      " 350.428981   340.49590821 371.25037238 340.64337935 342.73242439\n",
      " 375.59210301 340.19493842 406.1699847  439.74547389 340.22046558]\n"
     ]
    },
    {
     "name": "stderr",
     "output_type": "stream",
     "text": [
      "pyswarms.single.global_best:  60%|███████████████          |12/20, best_cost=340"
     ]
    },
    {
     "name": "stdout",
     "output_type": "stream",
     "text": [
      "[511.99163318 343.71254658 343.36752289 401.74047184 494.19914649\n",
      " 612.71920121 341.92361691 353.73906319 520.34378114 342.1452421\n",
      " 341.81792841 340.74830329 581.62021561 345.6189359  349.2697463\n",
      " 379.353359   340.25248628 658.22072029 488.0184681  433.81727444]\n"
     ]
    },
    {
     "name": "stderr",
     "output_type": "stream",
     "text": [
      "pyswarms.single.global_best:  65%|████████████████▎        |13/20, best_cost=340"
     ]
    },
    {
     "name": "stdout",
     "output_type": "stream",
     "text": [
      "[346.62920896 341.22557135 340.23710174 395.2617821  790.46023106\n",
      " 355.31246421 340.14593782 352.08647141 517.01134885 430.66551032\n",
      " 341.33264801 340.64556581 354.31277878 345.12488865 348.4602152\n",
      " 438.92162822 340.14195395 371.66668953 744.13556728 367.60230854]\n"
     ]
    },
    {
     "name": "stderr",
     "output_type": "stream",
     "text": [
      "pyswarms.single.global_best:  70%|█████████████████▌       |14/20, best_cost=340"
     ]
    },
    {
     "name": "stdout",
     "output_type": "stream",
     "text": [
      "[588.89661129 339.86715187 339.90134248 382.9720353  394.57115514\n",
      " 544.92249736 340.261187   350.24970051 466.0170114  345.7720865\n",
      " 345.83390459 339.8318791  360.83274837 340.21540519 344.57215624\n",
      " 372.3984862  339.97472704 564.2895568  359.59569076 397.20963293]\n"
     ]
    },
    {
     "name": "stderr",
     "output_type": "stream",
     "text": [
      "pyswarms.single.global_best:  75%|██████████████████▊      |15/20, best_cost=340"
     ]
    },
    {
     "name": "stdout",
     "output_type": "stream",
     "text": [
      "[ 424.53427317  341.6437509   340.87082479  368.2016154   701.70993155\n",
      "  345.69115832  340.85309481  348.14676206  445.18586678  488.19325146\n",
      "  346.97706505  339.88066011  461.05739818  340.49780999  342.14580716\n",
      "  395.79838533  339.84338701  384.56134683 1157.69510559  368.0217145 ]\n"
     ]
    },
    {
     "name": "stderr",
     "output_type": "stream",
     "text": [
      "pyswarms.single.global_best:  80%|████████████████████     |16/20, best_cost=340"
     ]
    },
    {
     "name": "stdout",
     "output_type": "stream",
     "text": [
      "[350.95781254 343.34564547 341.34952676 428.83659567 378.94190538\n",
      " 512.02395218 340.49723638 347.61876671 466.46396702 356.38042261\n",
      " 345.3026004  340.1691369  340.25005145 343.31280056 341.41928879\n",
      " 490.10185723 339.91004532 887.38338517 935.15942567 392.93601942]\n"
     ]
    },
    {
     "name": "stderr",
     "output_type": "stream",
     "text": [
      "pyswarms.single.global_best:  85%|█████████████████████▎   |17/20, best_cost=340"
     ]
    },
    {
     "name": "stdout",
     "output_type": "stream",
     "text": [
      "[ 553.29009486  341.55404645  340.68935452  382.74762004  846.56286963\n",
      "  346.9085506   339.91446171  345.18371665  437.73647118  347.77855709\n",
      "  342.47015122  340.47812553  497.95223941  343.64250377  345.85410399\n",
      "  505.8008949   340.04500143 1303.07737623  399.59547646  343.08027588]\n"
     ]
    },
    {
     "name": "stderr",
     "output_type": "stream",
     "text": [
      "pyswarms.single.global_best:  90%|██████████████████████▌  |18/20, best_cost=340"
     ]
    },
    {
     "name": "stdout",
     "output_type": "stream",
     "text": [
      "[ 363.5508806   340.08724276  339.9369527   395.6834363   391.52201308\n",
      "  381.80213057  340.24689238  343.97158106  402.04565332  599.13718655\n",
      "  340.25865231  339.90475575  342.42811031  341.61601621  351.64629747\n",
      "  497.5444414   340.09834305 1019.70323535  664.3951576   523.19445169]\n"
     ]
    },
    {
     "name": "stderr",
     "output_type": "stream",
     "text": [
      "pyswarms.single.global_best:  95%|███████████████████████▊ |19/20, best_cost=340"
     ]
    },
    {
     "name": "stdout",
     "output_type": "stream",
     "text": [
      "[344.18978054 340.10738048 339.79582366 391.04828664 806.92492628\n",
      " 355.78247969 340.41777131 342.56321347 497.53663759 394.47366517\n",
      " 339.84686069 339.78498036 431.19663642 339.89001294 349.59606209\n",
      " 421.70850017 339.94224134 772.94973475 945.2767219  347.15364993]\n"
     ]
    },
    {
     "name": "stderr",
     "output_type": "stream",
     "text": [
      "pyswarms.single.global_best: 100%|█████████████████████████|20/20, best_cost=340\n",
      "2024-12-23 18:20:54,952 - pyswarms.single.global_best - INFO - Optimization finished | best cost: 339.78107469178326, best pos: [0.46522683 0.77586081]\n",
      "2024-12-23 18:20:54,959 - pyswarms.single.global_best - INFO - Optimize for 20 iters with {'c1': 0.5, 'c2': 0.3, 'w': 0.8}\n"
     ]
    },
    {
     "name": "stdout",
     "output_type": "stream",
     "text": [
      "[503.71711851 340.64988592 340.16708122 365.70894479 408.52485229\n",
      " 454.89341202 340.33555149 341.43838667 445.39230887 344.67368911\n",
      " 340.32273224 339.99601487 340.15785582 340.28330352 344.02632386\n",
      " 451.63259803 339.78107469 520.84616636 401.34706442 386.8845516 ]\n"
     ]
    },
    {
     "name": "stderr",
     "output_type": "stream",
     "text": [
      "pyswarms.single.global_best:   5%|█▎                        |1/20, best_cost=324"
     ]
    },
    {
     "name": "stdout",
     "output_type": "stream",
     "text": [
      "[ 364.19545281  324.40882358  430.52959471  357.83066235  336.02179148\n",
      " 1492.26997951  683.41452501  750.25720424  327.5957004   532.77151336\n",
      "  531.44953837  418.41864231  514.33181904  527.73186533  518.07586554\n",
      " 1499.19608359  654.00785429  862.46319735  531.67467492  576.15633959]\n"
     ]
    },
    {
     "name": "stderr",
     "output_type": "stream",
     "text": [
      "pyswarms.single.global_best:  10%|██▌                       |2/20, best_cost=323"
     ]
    },
    {
     "name": "stdout",
     "output_type": "stream",
     "text": [
      "[ 611.80566855  334.80054611  519.9800256   398.87855124  649.31450838\n",
      "  402.88444359  333.71217043  855.85465307  322.75794989  330.95279418\n",
      "  338.46962418  834.53271791 1073.29827069  552.87310343  702.11554232\n",
      "  463.31557729  810.64972104 1108.80792742  335.17852204  921.04472064]\n"
     ]
    },
    {
     "name": "stderr",
     "output_type": "stream",
     "text": [
      "pyswarms.single.global_best:  15%|███▉                      |3/20, best_cost=323"
     ]
    },
    {
     "name": "stdout",
     "output_type": "stream",
     "text": [
      "[ 808.47644685  332.41182131  450.80455913  417.23347084 1309.57188038\n",
      "  497.72370748  387.24638522 1008.44686388  351.02911291  334.13020259\n",
      "  403.78147237  338.62371644 1070.820009    487.7845617   810.15096872\n",
      "  753.29620231  825.43590855 1016.03729283  423.30057464  671.80828688]\n"
     ]
    },
    {
     "name": "stderr",
     "output_type": "stream",
     "text": [
      "pyswarms.single.global_best:  20%|█████▏                    |4/20, best_cost=319"
     ]
    },
    {
     "name": "stdout",
     "output_type": "stream",
     "text": [
      "[621.53975306 319.11931228 383.40127711 377.40624533 724.9703387\n",
      " 498.43687927 408.82806595 908.63110337 382.85701031 346.15862568\n",
      " 397.06722957 352.82619438 636.50713675 397.64466578 585.88773874\n",
      " 788.84972456 581.55477439 808.29490516 455.51731658 383.27931955]\n"
     ]
    },
    {
     "name": "stderr",
     "output_type": "stream",
     "text": [
      "pyswarms.single.global_best:  25%|██████▌                   |5/20, best_cost=315"
     ]
    },
    {
     "name": "stdout",
     "output_type": "stream",
     "text": [
      "[367.96387749 315.13467227 339.89343074 334.3480213  344.29658227\n",
      " 425.99606379 389.66188723 685.98027301 364.90210374 334.83988453\n",
      " 341.99655031 341.9494165  403.83368372 334.57736413 429.29260801\n",
      " 457.82448485 399.49617711 555.34687555 366.44686681 314.72038828]\n"
     ]
    },
    {
     "name": "stderr",
     "output_type": "stream",
     "text": [
      "pyswarms.single.global_best:  30%|███████▊                  |6/20, best_cost=314"
     ]
    },
    {
     "name": "stdout",
     "output_type": "stream",
     "text": [
      "[317.11716366 316.29928548 318.76546686 319.01428761 499.56255919\n",
      " 388.0748395  354.35211566 508.37518481 325.56906032 325.38376331\n",
      " 342.6320743  320.12724752 332.55701772 314.28517611 347.19299502\n",
      " 334.59435382 324.2115499  390.65050596 361.4862966  326.49850636]\n"
     ]
    },
    {
     "name": "stderr",
     "output_type": "stream",
     "text": [
      "pyswarms.single.global_best:  35%|█████████                 |7/20, best_cost=312"
     ]
    },
    {
     "name": "stdout",
     "output_type": "stream",
     "text": [
      "[327.98172692 320.05449465 312.81078254 316.93257068 316.66437675\n",
      " 359.39291151 334.42442902 370.63980465 313.0604341  320.53460947\n",
      " 352.38105075 311.84157508 508.59282177 313.31735533 324.50840527\n",
      " 311.99584752 319.95175383 332.06196507 372.55575282 669.00226281]\n"
     ]
    },
    {
     "name": "stderr",
     "output_type": "stream",
     "text": [
      "pyswarms.single.global_best:  40%|██████████▍               |8/20, best_cost=312"
     ]
    },
    {
     "name": "stdout",
     "output_type": "stream",
     "text": [
      "[ 331.06056495  316.64374376  314.1117594   317.88973502  385.80076915\n",
      "  337.13903813 1231.58053084  328.43449558  315.65224572  320.29582631\n",
      " 1542.688658    317.06588094  318.78096594  317.64588862  329.07836584\n",
      "  320.73618259  332.37311359  318.8534162   336.14529496  440.44851967]\n"
     ]
    },
    {
     "name": "stderr",
     "output_type": "stream",
     "text": [
      "pyswarms.single.global_best:  45%|███████████▋              |9/20, best_cost=312"
     ]
    },
    {
     "name": "stdout",
     "output_type": "stream",
     "text": [
      "[322.75915796 313.03522868 317.18182262 319.24687186 313.14731413\n",
      " 332.38758275 529.86814928 624.0198055  318.6208938  324.0894725\n",
      " 869.77729579 321.396164   641.25505501 318.5788083  635.11313238\n",
      " 325.09455054 329.85130742 321.84449131 963.1838136  313.83213582]\n"
     ]
    },
    {
     "name": "stderr",
     "output_type": "stream",
     "text": [
      "pyswarms.single.global_best:  50%|████████████▌            |10/20, best_cost=312"
     ]
    },
    {
     "name": "stdout",
     "output_type": "stream",
     "text": [
      "[ 311.83728988  314.99053636  318.14673582  316.73717603  493.55650465\n",
      "  704.48028133 1434.89991629  340.75198572  314.7801504   327.13283972\n",
      "  416.69529024  319.91166777  397.36419268  316.51631984  349.44616436\n",
      "  318.07109889  321.71641092  321.8110262   339.94559331  568.43362308]\n"
     ]
    },
    {
     "name": "stderr",
     "output_type": "stream",
     "text": [
      "pyswarms.single.global_best:  55%|█████████████▊           |11/20, best_cost=312"
     ]
    },
    {
     "name": "stdout",
     "output_type": "stream",
     "text": [
      "[317.65241955 318.28926958 315.92086574 313.60588625 316.14426966\n",
      " 403.00459941 348.20330873 619.28390504 311.92206705 324.88255917\n",
      " 888.55791481 313.57838576 416.50081281 313.10056294 325.37376372\n",
      " 312.05629766 314.90413768 317.07193621 476.00656614 319.83943171]\n"
     ]
    },
    {
     "name": "stderr",
     "output_type": "stream",
     "text": [
      "pyswarms.single.global_best:  60%|███████████████          |12/20, best_cost=312"
     ]
    },
    {
     "name": "stdout",
     "output_type": "stream",
     "text": [
      "[321.21619686 318.51449361 313.00441945 311.8822038  436.22345386\n",
      " 321.34772139 444.12292375 349.56574607 312.79561009 318.67480983\n",
      " 397.29385931 311.85565533 337.35445154 312.63640651 413.50300835\n",
      " 319.093854   315.5405471  313.29652348 837.75345654 515.2527011 ]\n"
     ]
    },
    {
     "name": "stderr",
     "output_type": "stream",
     "text": [
      "pyswarms.single.global_best:  65%|████████████████▎        |13/20, best_cost=312"
     ]
    },
    {
     "name": "stdout",
     "output_type": "stream",
     "text": [
      "[ 316.7560176   318.1197255   311.83374206  312.44904079  656.3725983\n",
      "  378.03957449  682.01290259  705.14687429  314.80780467  314.43319212\n",
      "  912.93399935  313.2378401   416.69321528  314.11658046  323.07615158\n",
      "  325.37390832  317.80495984  311.93413924 1024.85716503  313.02276583]\n"
     ]
    },
    {
     "name": "stderr",
     "output_type": "stream",
     "text": [
      "pyswarms.single.global_best:  70%|█████████████████▌       |14/20, best_cost=312"
     ]
    },
    {
     "name": "stdout",
     "output_type": "stream",
     "text": [
      "[311.85289689 315.38958736 312.56805586 313.48916362 316.04668576\n",
      " 331.49187334 333.83558205 327.75842673 313.83351495 313.65836225\n",
      " 377.6910572  314.34425294 331.02880472 315.25869291 364.30678617\n",
      " 316.35006353 315.29412213 313.2997676  492.44253508 453.36727261]\n"
     ]
    },
    {
     "name": "stderr",
     "output_type": "stream",
     "text": [
      "pyswarms.single.global_best:  75%|██████████████████▊      |15/20, best_cost=312"
     ]
    },
    {
     "name": "stdout",
     "output_type": "stream",
     "text": [
      "[314.59013444 312.78330159 313.75810953 313.39045728 331.02163422\n",
      " 349.71203776 475.86655779 458.27097205 312.99270467 314.94822145\n",
      " 607.82837952 312.73480959 714.89577488 314.21994766 322.43367548\n",
      " 311.98412371 313.09805184 314.26347952 346.92069628 316.21454624]\n"
     ]
    },
    {
     "name": "stderr",
     "output_type": "stream",
     "text": [
      "pyswarms.single.global_best:  80%|████████████████████     |16/20, best_cost=312"
     ]
    },
    {
     "name": "stdout",
     "output_type": "stream",
     "text": [
      "[317.77065374 312.5258958  313.40824578 312.46062139 457.0229946\n",
      " 326.35774419 816.56826969 326.34742806 312.88144004 316.2218293\n",
      " 969.54660523 311.8412235  323.92281172 312.28625633 407.86360834\n",
      " 312.98461283 313.40283281 313.13555115 331.53415596 589.3341648 ]\n"
     ]
    },
    {
     "name": "stderr",
     "output_type": "stream",
     "text": [
      "pyswarms.single.global_best:  85%|█████████████████████▎   |17/20, best_cost=312"
     ]
    },
    {
     "name": "stdout",
     "output_type": "stream",
     "text": [
      "[ 317.5939386   313.44963971  312.41538632  311.85797184  550.86885812\n",
      "  403.684902   1035.39649281  422.33713564  313.14907937  316.63008562\n",
      "  355.65703511  312.15735619  335.02670131  311.91638856  312.45250649\n",
      "  315.15353959  314.50538272  311.93189364  348.77505932  325.49408088]\n"
     ]
    },
    {
     "name": "stderr",
     "output_type": "stream",
     "text": [
      "pyswarms.single.global_best:  90%|██████████████████████▌  |18/20, best_cost=312"
     ]
    },
    {
     "name": "stdout",
     "output_type": "stream",
     "text": [
      "[313.49477059 313.62796565 311.88991596 312.30329127 327.81495166\n",
      " 314.59370042 839.03063678 317.59058608 312.71266281 314.87990061\n",
      " 674.16068081 312.65122801 563.73208883 312.50184567 476.47767647\n",
      " 315.02284233 314.66567803 311.9732906  414.80823787 569.70898551]\n"
     ]
    },
    {
     "name": "stderr",
     "output_type": "stream",
     "text": [
      "pyswarms.single.global_best:  95%|███████████████████████▊ |19/20, best_cost=312"
     ]
    },
    {
     "name": "stdout",
     "output_type": "stream",
     "text": [
      "[311.91100907 312.7044429  312.16842666 312.8356702  326.41497839\n",
      " 333.41095915 809.14973779 620.40925925 312.42400339 312.49426863\n",
      " 375.9542049  312.48039595 461.99002104 312.81821522 313.42645279\n",
      " 312.08359091 313.21685819 312.45983243 634.2252781  315.70511996]\n"
     ]
    },
    {
     "name": "stderr",
     "output_type": "stream",
     "text": [
      "pyswarms.single.global_best: 100%|█████████████████████████|20/20, best_cost=312\n",
      "2024-12-23 18:21:26,502 - pyswarms.single.global_best - INFO - Optimization finished | best cost: 311.83374205613694, best pos: [0.36528918 0.79535026]\n",
      "2024-12-23 18:21:26,508 - pyswarms.single.global_best - INFO - Optimize for 20 iters with {'c1': 0.5, 'c2': 0.3, 'w': 0.8}\n"
     ]
    },
    {
     "name": "stdout",
     "output_type": "stream",
     "text": [
      "[312.22721091 312.02124936 312.39392019 312.87300675 521.39598663\n",
      " 575.04401501 503.64261855 342.72836102 312.44583721 312.37025783\n",
      " 578.3901399  311.93446563 319.84697125 312.36503597 501.5849199\n",
      " 312.55608828 312.95376073 312.8748761  323.33627664 471.20520854]\n"
     ]
    },
    {
     "name": "stderr",
     "output_type": "stream",
     "text": [
      "pyswarms.single.global_best:   5%|█▎                        |1/20, best_cost=299"
     ]
    },
    {
     "name": "stdout",
     "output_type": "stream",
     "text": [
      "[414.79700745 355.14822902 321.46432598 298.63799193 316.83847432\n",
      " 299.80978622 854.84428279 407.86570382 902.62783179 387.26546386\n",
      " 311.73276105 314.01978702 324.90283042 436.92907931 319.54740627\n",
      " 345.3337484  385.21653949 677.38322727 709.79743668 395.54833061]\n"
     ]
    },
    {
     "name": "stderr",
     "output_type": "stream",
     "text": [
      "pyswarms.single.global_best:  10%|██▌                       |2/20, best_cost=298"
     ]
    },
    {
     "name": "stdout",
     "output_type": "stream",
     "text": [
      "[600.53971847 474.93752445 315.97352355 376.29763075 401.85361402\n",
      " 298.1522943  917.27540785 671.90324653 313.1777144  503.97389689\n",
      " 365.09322927 417.39084073 443.48486927 518.16713289 497.72112677\n",
      " 437.79248779 550.62138557 867.28258239 325.3989823  415.61144419]\n"
     ]
    },
    {
     "name": "stderr",
     "output_type": "stream",
     "text": [
      "pyswarms.single.global_best:  15%|███▉                      |3/20, best_cost=298"
     ]
    },
    {
     "name": "stdout",
     "output_type": "stream",
     "text": [
      "[682.91435173 441.57536316 305.96197717 408.20605768 531.43526445\n",
      " 299.46388864 625.89711181 800.90942484 351.55567196 660.95332403\n",
      " 399.26784303 449.40847063 597.04780713 512.86075017 646.88842579\n",
      " 509.75048087 641.39392104 872.17583474 488.85375786 484.7144973 ]\n"
     ]
    },
    {
     "name": "stderr",
     "output_type": "stream",
     "text": [
      "pyswarms.single.global_best:  20%|█████▏                    |4/20, best_cost=298"
     ]
    },
    {
     "name": "stdout",
     "output_type": "stream",
     "text": [
      "[587.9373652  355.21277745 300.90713126 323.67067253 539.98280946\n",
      " 300.86751381 353.70893517 578.7832351  376.83195071 649.82707582\n",
      " 437.19237373 394.00969817 454.01591205 393.2018463  460.199255\n",
      " 460.80563743 488.03581028 738.76532973 497.26329526 446.61541221]\n"
     ]
    },
    {
     "name": "stderr",
     "output_type": "stream",
     "text": [
      "pyswarms.single.global_best:  25%|██████▌                   |5/20, best_cost=295"
     ]
    },
    {
     "name": "stdout",
     "output_type": "stream",
     "text": [
      "[445.94024202 299.64225446 302.22176405 298.24873303 345.65326036\n",
      " 300.57440987 294.7114832  359.34861132 352.20190442 498.58951837\n",
      " 419.97511665 319.60224511 343.72469222 317.49124195 321.62335183\n",
      " 338.34005529 365.19940259 566.2510379  356.4272282  333.19387946]\n"
     ]
    },
    {
     "name": "stderr",
     "output_type": "stream",
     "text": [
      "pyswarms.single.global_best:  30%|███████▊                  |6/20, best_cost=295"
     ]
    },
    {
     "name": "stdout",
     "output_type": "stream",
     "text": [
      "[337.18398002 295.56808479 303.10530837 616.30804167 296.48548542\n",
      " 298.1898566  649.23797291 298.82525645 325.26511497 377.57685012\n",
      " 355.27611892 302.02318899 932.65606666 302.8616917  779.29414803\n",
      " 300.31978833 304.07232192 370.59889078 319.01532999 297.65746804]\n"
     ]
    },
    {
     "name": "stderr",
     "output_type": "stream",
     "text": [
      "pyswarms.single.global_best:  35%|█████████                 |7/20, best_cost=295"
     ]
    },
    {
     "name": "stdout",
     "output_type": "stream",
     "text": [
      "[301.42879255 607.49293207 300.30480938 310.81924841 548.14548478\n",
      " 296.12734131 336.11148995 302.70092507 308.58343052 308.55919155\n",
      " 313.93674221 300.77576126 436.28640465 608.2437701  428.43068553\n",
      " 306.01424746 299.41173793 303.44988795 306.56539984 297.19288459]\n"
     ]
    },
    {
     "name": "stderr",
     "output_type": "stream",
     "text": [
      "pyswarms.single.global_best:  40%|██████████▍               |8/20, best_cost=294"
     ]
    },
    {
     "name": "stdout",
     "output_type": "stream",
     "text": [
      "[300.69923923 337.03394072 297.45119528 492.75167021 425.29715413\n",
      " 295.30226024 653.96290604 613.42433862 828.11752478 293.62367337\n",
      " 904.77261546 648.12436033 318.69533875 373.0530545  308.58468548\n",
      " 567.68436009 619.95692642 294.49787443 703.24318724 302.61604459]\n"
     ]
    },
    {
     "name": "stderr",
     "output_type": "stream",
     "text": [
      "pyswarms.single.global_best:  45%|███████████▋              |9/20, best_cost=294"
     ]
    },
    {
     "name": "stdout",
     "output_type": "stream",
     "text": [
      "[608.03197692 298.90651622 294.45054952 298.93396151 297.96855509\n",
      " 295.22015925 333.59411667 304.7810111  393.68928016 298.25393549\n",
      " 495.85753197 304.7275247  680.41340765 295.35887862 620.79025858\n",
      " 308.95465562 411.56255094 304.03123849 370.5027298  309.42688963]\n"
     ]
    },
    {
     "name": "stderr",
     "output_type": "stream",
     "text": [
      "pyswarms.single.global_best:  50%|████████████▌            |10/20, best_cost=294"
     ]
    },
    {
     "name": "stdout",
     "output_type": "stream",
     "text": [
      "[357.04097919 417.73319253 293.65339163 327.04638791 399.72478638\n",
      " 294.75364757 302.18047966 490.69820686 728.94952332 301.80224458\n",
      " 311.25685041 416.71011683 315.0821001  468.02956594 306.81845292\n",
      " 554.76299848 302.97383126 637.38857213 304.39728133 306.00088804]\n"
     ]
    },
    {
     "name": "stderr",
     "output_type": "stream",
     "text": [
      "pyswarms.single.global_best:  55%|█████████████▊           |11/20, best_cost=294"
     ]
    },
    {
     "name": "stdout",
     "output_type": "stream",
     "text": [
      "[293.89814229 294.65006225 294.74465608 594.14808019 294.06866781\n",
      " 294.54695863 422.80762139 294.41809188 314.57639069 299.79640861\n",
      " 542.46359911 548.62437765 462.28094709 296.57756875 365.55278641\n",
      " 301.10271893 577.91839447 327.27731295 349.62411457 308.3032112 ]\n"
     ]
    },
    {
     "name": "stderr",
     "output_type": "stream",
     "text": [
      "pyswarms.single.global_best:  60%|███████████████          |12/20, best_cost=294"
     ]
    },
    {
     "name": "stdout",
     "output_type": "stream",
     "text": [
      "[526.57624311 502.89707228 295.6035994  313.08471592 444.60625957\n",
      " 294.45121882 301.32439174 376.42874971 456.94771081 296.66576754\n",
      " 297.94429136 481.15146885 295.10216302 344.54121454 489.95912947\n",
      " 317.10155796 305.87889004 305.32879214 300.31253492 298.64971377]\n"
     ]
    },
    {
     "name": "stderr",
     "output_type": "stream",
     "text": [
      "pyswarms.single.global_best:  65%|████████████████▎        |13/20, best_cost=294"
     ]
    },
    {
     "name": "stdout",
     "output_type": "stream",
     "text": [
      "[307.07204345 296.97300319 294.70700211 499.59746872 301.83608044\n",
      " 294.36254997 540.24950377 300.62199171 305.47811457 295.56101626\n",
      " 427.17861228 417.9505701  495.33635028 298.35016769 409.80355324\n",
      " 460.90027724 481.40702398 410.03404814 390.86688662 375.75009042]\n"
     ]
    },
    {
     "name": "stderr",
     "output_type": "stream",
     "text": [
      "pyswarms.single.global_best:  70%|█████████████████▌       |14/20, best_cost=294"
     ]
    },
    {
     "name": "stdout",
     "output_type": "stream",
     "text": [
      "[620.33643109 451.52413916 293.80037141 601.18669289 506.22491361\n",
      " 294.08636083 295.68163177 358.74834974 316.53776762 297.48881856\n",
      " 295.749298   400.51545922 304.62648934 396.94147645 335.64924848\n",
      " 535.28881458 303.5064081  301.50839323 645.08187466 297.72655041]\n"
     ]
    },
    {
     "name": "stderr",
     "output_type": "stream",
     "text": [
      "pyswarms.single.global_best:  75%|██████████████████▊      |15/20, best_cost=294"
     ]
    },
    {
     "name": "stdout",
     "output_type": "stream",
     "text": [
      "[321.03364461 296.02495394 293.65872008 419.62093129 296.26647418\n",
      " 293.77288696 382.79318837 297.63149864 530.96234631 297.87740859\n",
      " 513.46571934 486.5099895  502.70578969 298.02284339 317.8310539\n",
      " 486.74495153 330.23725468 587.48343844 297.92581958 358.59427249]\n"
     ]
    },
    {
     "name": "stderr",
     "output_type": "stream",
     "text": [
      "pyswarms.single.global_best:  80%|████████████████████     |16/20, best_cost=294"
     ]
    },
    {
     "name": "stdout",
     "output_type": "stream",
     "text": [
      "[305.69106737 484.84612439 293.93432056 338.37500924 434.91960027\n",
      " 293.60742833 297.2452757  410.63113719 295.24236908 297.36853436\n",
      " 315.02044935 431.41559752 298.27579223 368.04450619 328.84544442\n",
      " 435.57986153 507.99896795 293.77001206 405.37763608 312.85499413]\n"
     ]
    },
    {
     "name": "stderr",
     "output_type": "stream",
     "text": [
      "pyswarms.single.global_best:  85%|█████████████████████▎   |17/20, best_cost=294"
     ]
    },
    {
     "name": "stdout",
     "output_type": "stream",
     "text": [
      "[393.88213402 294.1678738  293.93645988 317.12476927 296.52000652\n",
      " 293.60750306 388.6606796  294.21951306 414.8463962  294.0907804\n",
      " 612.54119152 342.83615014 335.6911498  570.51337287 400.32895881\n",
      " 466.52234903 295.64738483 347.28821327 294.31179142 314.0823752 ]\n"
     ]
    },
    {
     "name": "stderr",
     "output_type": "stream",
     "text": [
      "pyswarms.single.global_best:  90%|██████████████████████▌  |18/20, best_cost=294"
     ]
    },
    {
     "name": "stdout",
     "output_type": "stream",
     "text": [
      "[293.80818618 412.24673904 293.72055312 309.93979974 345.92337934\n",
      " 293.65817208 294.34665184 398.34300544 294.51566864 294.06463979\n",
      " 303.52753455 332.36910971 610.38029838 301.82869697 534.77185034\n",
      " 492.37274155 411.8582505  488.3532567  399.9016775  330.49586727]\n"
     ]
    },
    {
     "name": "stderr",
     "output_type": "stream",
     "text": [
      "pyswarms.single.global_best:  95%|███████████████████████▊ |19/20, best_cost=294"
     ]
    },
    {
     "name": "stdout",
     "output_type": "stream",
     "text": [
      "[460.26790854 294.07417762 293.61467568 325.48999356 298.6960217\n",
      " 293.68577056 407.6838529  294.3751662  484.90131212 294.93715451\n",
      " 466.7806816  367.12578481 314.64366074 308.17043538 523.48632142\n",
      " 455.03051657 293.72147891 299.51901388 293.62675893 310.28460918]\n"
     ]
    },
    {
     "name": "stderr",
     "output_type": "stream",
     "text": [
      "pyswarms.single.global_best: 100%|█████████████████████████|20/20, best_cost=294\n",
      "2024-12-23 18:21:58,409 - pyswarms.single.global_best - INFO - Optimization finished | best cost: 293.6074283279327, best pos: [0.29815315 0.75846682]\n",
      "2024-12-23 18:21:58,415 - pyswarms.single.global_best - INFO - Optimize for 20 iters with {'c1': 0.5, 'c2': 0.3, 'w': 0.8}\n"
     ]
    },
    {
     "name": "stdout",
     "output_type": "stream",
     "text": [
      "[295.20249153 475.09809411 293.67250427 392.7487588  397.49955493\n",
      " 293.65704887 294.87563745 489.36757778 293.72314116 294.75046772\n",
      " 293.72375929 410.51430667 507.75976129 435.07564343 504.56030024\n",
      " 440.29203674 449.57010442 322.87023729 449.28570511 301.32071744]\n"
     ]
    },
    {
     "name": "stderr",
     "output_type": "stream",
     "text": [
      "pyswarms.single.global_best:   5%|█▎                        |1/20, best_cost=281"
     ]
    },
    {
     "name": "stdout",
     "output_type": "stream",
     "text": [
      "[455.98524847 355.21667534 408.74274283 422.30974522 288.14175289\n",
      " 367.741554   759.40591649 281.59583498 297.59026521 668.10014509\n",
      " 282.1911796  355.12495221 312.05437587 281.16373275 331.25268661\n",
      " 354.89425087 390.81809874 419.85971433 308.30631787 493.07166681]\n"
     ]
    },
    {
     "name": "stderr",
     "output_type": "stream",
     "text": [
      "pyswarms.single.global_best:  10%|██▌                       |2/20, best_cost=281"
     ]
    },
    {
     "name": "stdout",
     "output_type": "stream",
     "text": [
      "[286.63662303 693.3160071  387.70080838 287.77665142 286.60432852\n",
      " 537.94681174 311.93288158 282.60774382 460.66823493 290.41310233\n",
      " 294.63698474 355.803726   330.72558085 284.4314131  369.81091863\n",
      " 437.00869566 287.04195253 734.48889379 491.47801874 988.94955114]\n"
     ]
    },
    {
     "name": "stderr",
     "output_type": "stream",
     "text": [
      "pyswarms.single.global_best:  15%|███▉                      |3/20, best_cost=281"
     ]
    },
    {
     "name": "stdout",
     "output_type": "stream",
     "text": [
      "[304.85906192 289.47288997 346.17863038 305.37598478 295.92103511\n",
      " 731.68369149 386.69155041 286.48656621 485.58608917 339.77804075\n",
      " 297.93241146 314.81441754 318.44941317 287.57486544 339.36758487\n",
      " 399.70236178 299.33479835 573.28310497 773.95140761 796.14258207]\n"
     ]
    },
    {
     "name": "stderr",
     "output_type": "stream",
     "text": [
      "pyswarms.single.global_best:  20%|█████▏                    |4/20, best_cost=281"
     ]
    },
    {
     "name": "stdout",
     "output_type": "stream",
     "text": [
      "[317.39248827 298.66315174 319.32580178 321.95057931 312.51179465\n",
      " 560.0316652  420.41218134 288.72564222 359.91026334 343.83656793\n",
      " 295.77082589 293.44403033 307.48157269 283.84143157 297.18448868\n",
      " 312.96664262 313.73322334 380.30913437 565.2165223  371.59170174]\n"
     ]
    },
    {
     "name": "stderr",
     "output_type": "stream",
     "text": [
      "pyswarms.single.global_best:  25%|██████▌                   |5/20, best_cost=281"
     ]
    },
    {
     "name": "stdout",
     "output_type": "stream",
     "text": [
      "[315.79697631 294.27050445 297.92175552 306.47804824 312.16191315\n",
      " 339.62902988 456.89482785 281.37340287 293.93831941 302.59433605\n",
      " 281.29277599 282.1682858  292.05746597 280.75657953 282.35581841\n",
      " 282.55508563 291.64717879 294.81417358 302.7969321  283.91939339]\n"
     ]
    },
    {
     "name": "stderr",
     "output_type": "stream",
     "text": [
      "pyswarms.single.global_best:  30%|███████▊                  |6/20, best_cost=281"
     ]
    },
    {
     "name": "stdout",
     "output_type": "stream",
     "text": [
      "[284.68482342 288.79285106 289.24403772 288.04010426 315.53592812\n",
      " 283.52891938 316.35224794 281.23142414 671.3543893  292.08916286\n",
      " 282.00892119 281.09303457 283.94776647 280.77993241 284.5873524\n",
      " 282.84234664 280.86692339 280.8151756  288.43282589 695.09875927]\n"
     ]
    },
    {
     "name": "stderr",
     "output_type": "stream",
     "text": [
      "pyswarms.single.global_best:  35%|█████████                 |7/20, best_cost=281"
     ]
    },
    {
     "name": "stdout",
     "output_type": "stream",
     "text": [
      "[285.0348966  284.48224512 286.52650353 283.96444876 318.80698824\n",
      " 590.86752164 287.72631414 284.99663196 396.4923299  298.67476436\n",
      " 286.04428741 285.32054913 282.00547853 281.47601791 287.52200565\n",
      " 286.84682521 283.62559634 637.08430438 415.11032266 371.67813722]\n"
     ]
    },
    {
     "name": "stderr",
     "output_type": "stream",
     "text": [
      "pyswarms.single.global_best:  40%|██████████▍               |8/20, best_cost=281"
     ]
    },
    {
     "name": "stdout",
     "output_type": "stream",
     "text": [
      "[286.91864928 282.75942101 284.23349361 586.8007175  316.64100189\n",
      " 299.3668815  463.91627676 286.0874666  288.4319259  293.66977439\n",
      " 287.01700683 286.03108986 282.71461661 281.72918738 302.82861445\n",
      " 291.63148946 286.57014373 320.23724819 283.39831607 305.83610345]\n"
     ]
    },
    {
     "name": "stderr",
     "output_type": "stream",
     "text": [
      "pyswarms.single.global_best:  45%|███████████▋              |9/20, best_cost=281"
     ]
    },
    {
     "name": "stdout",
     "output_type": "stream",
     "text": [
      "[283.19119925 282.51078335 282.10950093 422.08546899 312.2059676\n",
      " 512.33102832 287.40323488 319.44239624 287.75011111 289.34169776\n",
      " 282.01995561 286.16719009 283.82671337 281.35908085 285.50503394\n",
      " 285.24308727 284.29164813 615.2735103  371.01452291 527.18639833]\n"
     ]
    },
    {
     "name": "stderr",
     "output_type": "stream",
     "text": [
      "pyswarms.single.global_best:  50%|████████████▌            |10/20, best_cost=280"
     ]
    },
    {
     "name": "stdout",
     "output_type": "stream",
     "text": [
      "[280.79522741 282.54685181 282.70388438 283.87184785 311.11803413\n",
      " 296.3217308  437.08071618 283.267483   437.5466869  290.86840328\n",
      " 280.85047401 283.47777537 282.22862654 280.37239091 291.1315993\n",
      " 303.22140305 281.76884087 285.80013898 283.03606472 297.31049929]\n"
     ]
    },
    {
     "name": "stderr",
     "output_type": "stream",
     "text": [
      "pyswarms.single.global_best:  55%|█████████████▊           |11/20, best_cost=280"
     ]
    },
    {
     "name": "stdout",
     "output_type": "stream",
     "text": [
      "[280.3619819  281.82442312 283.69147833 500.00216587 315.25949017\n",
      " 392.30060565 282.2120037  318.72265788 282.85666283 291.95971663\n",
      " 285.37999759 281.28184474 281.19559393 281.40061078 338.57901727\n",
      " 283.16532093 280.88867804 410.6503062  392.81416834 532.17128024]\n"
     ]
    },
    {
     "name": "stderr",
     "output_type": "stream",
     "text": [
      "pyswarms.single.global_best:  60%|███████████████          |12/20, best_cost=280"
     ]
    },
    {
     "name": "stdout",
     "output_type": "stream",
     "text": [
      "[282.0360585  281.05499891 283.1205362  296.07140052 296.47635344\n",
      " 735.59126161 434.52227373 281.52482063 458.49148959 296.96350954\n",
      " 287.25841222 280.43662196 282.55747781 282.18706894 310.28645664\n",
      " 351.07009998 283.08753196 283.14288477 286.78971438 307.3615839 ]\n"
     ]
    },
    {
     "name": "stderr",
     "output_type": "stream",
     "text": [
      "pyswarms.single.global_best:  65%|████████████████▎        |13/20, best_cost=280"
     ]
    },
    {
     "name": "stdout",
     "output_type": "stream",
     "text": [
      "[283.34089038 280.51887301 282.16886632 616.35907582 294.41167862\n",
      " 305.47817797 280.33609719 315.73181409 291.02455532 296.39494992\n",
      " 286.36884909 281.13290832 283.48494962 281.50228445 317.97359687\n",
      " 292.65963339 285.45786172 459.45009612 522.77085222 426.65729607]\n"
     ]
    },
    {
     "name": "stderr",
     "output_type": "stream",
     "text": [
      "pyswarms.single.global_best:  70%|█████████████████▌       |14/20, best_cost=280"
     ]
    },
    {
     "name": "stdout",
     "output_type": "stream",
     "text": [
      "[283.45779253 280.22952451 281.8071129  280.96921988 305.25344676\n",
      " 431.57085505 396.03158012 280.90593839 537.36893529 287.21356126\n",
      " 282.40805902 281.48134517 282.11954795 280.34209882 321.71782445\n",
      " 362.88220016 284.8081182  284.18363402 281.28122173 303.51227305]\n"
     ]
    },
    {
     "name": "stderr",
     "output_type": "stream",
     "text": [
      "pyswarms.single.global_best:  75%|██████████████████▊      |15/20, best_cost=280"
     ]
    },
    {
     "name": "stdout",
     "output_type": "stream",
     "text": [
      "[281.14697239 280.2819909  281.90407991 346.05060701 314.92156743\n",
      " 902.17980343 280.91108566 310.53542039 327.53762123 281.61681922\n",
      " 280.34592276 280.82478219 280.57098154 280.41311765 343.05135366\n",
      " 286.66633937 282.57104589 409.22833618 320.10973448 443.49626536]\n"
     ]
    },
    {
     "name": "stderr",
     "output_type": "stream",
     "text": [
      "pyswarms.single.global_best:  80%|████████████████████     |16/20, best_cost=280"
     ]
    },
    {
     "name": "stdout",
     "output_type": "stream",
     "text": [
      "[280.27842508 280.30177801 281.87617943 583.07796332 314.97205413\n",
      " 284.39042087 416.47917776 286.80558741 282.03756844 280.67938699\n",
      " 281.24795184 280.44692855 280.69748533 280.48424767 289.94772712\n",
      " 336.66184683 280.43284467 282.48381876 437.0434983  284.87217334]\n"
     ]
    },
    {
     "name": "stderr",
     "output_type": "stream",
     "text": [
      "pyswarms.single.global_best:  85%|█████████████████████▎   |17/20, best_cost=280"
     ]
    },
    {
     "name": "stdout",
     "output_type": "stream",
     "text": [
      "[280.80025712 280.28804274 281.33989345 281.34322392 311.95312727\n",
      " 415.48017916 624.10444307 285.40323114 431.78053967 283.77594934\n",
      " 281.93735373 280.43517533 280.94428564 280.31990444 280.96327178\n",
      " 281.15245932 280.59062973 477.47889125 568.50315617 490.39165349]\n"
     ]
    },
    {
     "name": "stderr",
     "output_type": "stream",
     "text": [
      "pyswarms.single.global_best:  90%|██████████████████████▌  |18/20, best_cost=280"
     ]
    },
    {
     "name": "stdout",
     "output_type": "stream",
     "text": [
      "[281.3115872  280.26962119 280.74641354 359.9189791  308.21357303\n",
      " 439.00656045 450.24523566 300.33153784 283.39771784 285.77928698\n",
      " 281.46489205 280.53803234 281.16999475 280.30082872 284.68651803\n",
      " 311.20781278 280.97576945 281.54121807 438.29996024 311.48084108]\n"
     ]
    },
    {
     "name": "stderr",
     "output_type": "stream",
     "text": [
      "pyswarms.single.global_best:  95%|███████████████████████▊ |19/20, best_cost=280"
     ]
    },
    {
     "name": "stdout",
     "output_type": "stream",
     "text": [
      "[ 281.26933473  280.28438207  280.38739263  518.77057442  308.78595637\n",
      "  884.11257735  353.35196978  312.63152325  465.53038001  282.05486903\n",
      "  280.89911216  280.65213338  281.3975447   280.53408166  307.49663305\n",
      "  280.96082947  280.71833216  351.86746088  360.70448017 1069.81881358]\n"
     ]
    },
    {
     "name": "stderr",
     "output_type": "stream",
     "text": [
      "pyswarms.single.global_best: 100%|█████████████████████████|20/20, best_cost=280\n",
      "2024-12-23 18:22:32,150 - pyswarms.single.global_best - INFO - Optimization finished | best cost: 280.20653077416813, best pos: [0.27884796 0.79789749]\n",
      "2024-12-23 18:22:32,160 - pyswarms.single.global_best - INFO - Optimize for 20 iters with {'c1': 0.5, 'c2': 0.3, 'w': 0.8}\n"
     ]
    },
    {
     "name": "stdout",
     "output_type": "stream",
     "text": [
      "[280.7186178  280.28824081 280.34400281 284.8267649  312.91826753\n",
      " 762.74576043 339.45451576 305.81605385 280.62220407 280.20653077\n",
      " 280.38908065 280.59557961 280.90688204 280.61262738 306.4072407\n",
      " 301.96641789 280.36050118 284.55721555 313.77278143 422.78312848]\n"
     ]
    },
    {
     "name": "stderr",
     "output_type": "stream",
     "text": [
      "pyswarms.single.global_best:   5%|█▎                        |1/20, best_cost=275"
     ]
    },
    {
     "name": "stdout",
     "output_type": "stream",
     "text": [
      "[378.50158156 618.78781069 275.35936623 277.51938201 953.29448411\n",
      " 296.5875735  484.25977986 385.54852304 291.49714091 590.03039268\n",
      " 438.59782242 507.61705168 705.69685989 556.66156361 281.51792791\n",
      " 276.65743668 677.07629685 305.25799287 314.2526404  547.4512268 ]\n"
     ]
    },
    {
     "name": "stderr",
     "output_type": "stream",
     "text": [
      "pyswarms.single.global_best:  10%|██▌                       |2/20, best_cost=273"
     ]
    },
    {
     "name": "stdout",
     "output_type": "stream",
     "text": [
      "[ 273.03157471  274.55047228  276.79580803  304.89003244 1019.77110854\n",
      "  456.10806014  522.66057298  411.78425609  325.93094751  659.46304934\n",
      "  281.02882057  858.81567459  313.75956634  457.26173892  283.03330579\n",
      "  284.11533232  280.43953484  377.97625744  331.29543973  272.54979621]\n"
     ]
    },
    {
     "name": "stderr",
     "output_type": "stream",
     "text": [
      "pyswarms.single.global_best:  15%|███▉                      |3/20, best_cost=273"
     ]
    },
    {
     "name": "stdout",
     "output_type": "stream",
     "text": [
      "[290.49883747 279.70091642 276.45224929 312.38348784 851.30031207\n",
      " 274.58333382 462.22137731 405.75750597 336.60684808 731.2138979\n",
      " 374.94593963 799.65210511 420.16371409 453.72895714 285.25410529\n",
      " 296.961453   300.46827941 396.98038516 327.95001567 299.66046435]\n"
     ]
    },
    {
     "name": "stderr",
     "output_type": "stream",
     "text": [
      "pyswarms.single.global_best:  20%|█████▏                    |4/20, best_cost=273"
     ]
    },
    {
     "name": "stdout",
     "output_type": "stream",
     "text": [
      "[340.97830428 283.3784839  272.72412864 296.51736559 492.81781278\n",
      " 298.2808287  359.56271579 331.55414013 351.60687816 603.82164025\n",
      " 495.76852034 548.62102345 421.27076176 369.83562828 281.20813446\n",
      " 294.91736711 324.30841658 340.99808357 317.1013389  334.2248166 ]\n"
     ]
    },
    {
     "name": "stderr",
     "output_type": "stream",
     "text": [
      "pyswarms.single.global_best:  25%|██████▌                   |5/20, best_cost=271"
     ]
    },
    {
     "name": "stdout",
     "output_type": "stream",
     "text": [
      "[355.20702393 277.15203867 271.31107832 272.16150412 340.78610971\n",
      " 320.19658803 289.34935246 283.53828704 326.82932209 475.54166973\n",
      " 460.15058509 387.68527603 380.42947053 287.14743921 275.61560471\n",
      " 279.94813005 333.78096165 296.64300914 297.90663964 328.81056157]\n"
     ]
    },
    {
     "name": "stderr",
     "output_type": "stream",
     "text": [
      "pyswarms.single.global_best:  30%|███████▊                  |6/20, best_cost=271"
     ]
    },
    {
     "name": "stdout",
     "output_type": "stream",
     "text": [
      "[305.4983173  272.22342668 273.59649592 273.34872908 281.80401804\n",
      " 319.85589616 276.87196542 271.36304402 278.33524582 408.087917\n",
      " 334.28502943 292.62576718 331.55828967 271.94016012 271.94876261\n",
      " 272.92032468 323.3075861  274.98949207 276.57907288 298.41925371]\n"
     ]
    },
    {
     "name": "stderr",
     "output_type": "stream",
     "text": [
      "pyswarms.single.global_best:  35%|█████████                 |7/20, best_cost=271"
     ]
    },
    {
     "name": "stdout",
     "output_type": "stream",
     "text": [
      "[ 271.28407362  271.44906924  274.69290849  691.9123378   271.48594277\n",
      "  278.69304902  278.59861698  628.55530463  276.04813401  333.81351541\n",
      " 1036.85072852  273.47693249  297.68948933  799.15331442  271.53040184\n",
      "  274.15203939  291.65713995  271.87790874  271.51142681  273.14638836]\n"
     ]
    },
    {
     "name": "stderr",
     "output_type": "stream",
     "text": [
      "pyswarms.single.global_best:  40%|██████████▍               |8/20, best_cost=271"
     ]
    },
    {
     "name": "stdout",
     "output_type": "stream",
     "text": [
      "[531.53050521 272.4127858  272.18241999 385.78883098 275.48149824\n",
      " 273.58261773 278.47918069 283.91022359 690.1337208  295.90579993\n",
      " 360.87071683 275.33331365 281.49130913 414.73032293 272.34782373\n",
      " 275.19460577 271.82434427 273.70158116 274.90211917 274.49355598]\n"
     ]
    },
    {
     "name": "stderr",
     "output_type": "stream",
     "text": [
      "pyswarms.single.global_best:  45%|███████████▋              |9/20, best_cost=271"
     ]
    },
    {
     "name": "stdout",
     "output_type": "stream",
     "text": [
      "[286.22755713 272.85331563 271.5636129  663.65160826 701.1573507\n",
      " 564.14357335 278.92827161 401.35262462 358.46189497 280.84465746\n",
      " 615.97160856 924.8696684  275.78829288 278.49103767 272.48948649\n",
      " 273.69511525 651.11019815 274.89798021 278.35928427 545.34535786]\n"
     ]
    },
    {
     "name": "stderr",
     "output_type": "stream",
     "text": [
      "pyswarms.single.global_best:  50%|████████████▌            |10/20, best_cost=271"
     ]
    },
    {
     "name": "stdout",
     "output_type": "stream",
     "text": [
      "[453.01109094 272.19922302 272.17764764 338.40617897 478.66424607\n",
      " 325.76875838 276.43456351 638.0767436  565.99684818 711.6953804\n",
      " 682.98804938 369.17711235 751.63201672 471.83188678 272.39010541\n",
      " 272.05435048 365.14070031 278.18123303 277.0017435  341.09770077]\n"
     ]
    },
    {
     "name": "stderr",
     "output_type": "stream",
     "text": [
      "pyswarms.single.global_best:  55%|█████████████▊           |11/20, best_cost=271"
     ]
    },
    {
     "name": "stdout",
     "output_type": "stream",
     "text": [
      "[274.13720307 271.56973662 272.8745139  458.78926873 272.79744804\n",
      " 523.11313008 276.1189876  272.77512269 740.59838065 341.97503123\n",
      " 959.09119088 297.30238394 281.01391211 277.9838561  271.71122857\n",
      " 271.41726975 272.79463462 284.77026899 271.9930761  273.01461405]\n"
     ]
    },
    {
     "name": "stderr",
     "output_type": "stream",
     "text": [
      "pyswarms.single.global_best:  60%|███████████████          |12/20, best_cost=271"
     ]
    },
    {
     "name": "stdout",
     "output_type": "stream",
     "text": [
      "[406.39233598 271.4472172  271.69527788 284.4775755  536.11726211\n",
      " 570.06278674 275.84562501 328.76008725 361.49516588 272.16809663\n",
      " 304.96605947 470.4273976  346.69166373 385.46726168 271.44561439\n",
      " 271.95349133 467.29552712 275.92844758 283.76803559 544.92937144]\n"
     ]
    },
    {
     "name": "stderr",
     "output_type": "stream",
     "text": [
      "pyswarms.single.global_best:  65%|████████████████▎        |13/20, best_cost=271"
     ]
    },
    {
     "name": "stdout",
     "output_type": "stream",
     "text": [
      "[271.3960258  271.72103478 271.2790692  339.96963244 283.44727324\n",
      " 601.03624911 274.59525101 630.71772968 295.54903988 458.03730002\n",
      " 442.37793441 319.05435307 469.44318193 882.14815557 271.58315797\n",
      " 272.75792047 302.70122509 301.73181967 292.35939332 326.75055398]\n"
     ]
    },
    {
     "name": "stderr",
     "output_type": "stream",
     "text": [
      "pyswarms.single.global_best:  70%|█████████████████▌       |14/20, best_cost=271"
     ]
    },
    {
     "name": "stdout",
     "output_type": "stream",
     "text": [
      "[367.59964989 271.68515376 271.77537603 996.54707661 562.68575497\n",
      " 585.84306541 275.94974821 272.13732769 278.73053416 290.50632292\n",
      " 659.13243607 460.1482565  453.87330041 282.21982867 271.76749611\n",
      " 272.93063585 275.59707519 272.17287207 282.59570789 271.37509061]\n"
     ]
    },
    {
     "name": "stderr",
     "output_type": "stream",
     "text": [
      "pyswarms.single.global_best:  75%|██████████████████▊      |15/20, best_cost=271"
     ]
    },
    {
     "name": "stdout",
     "output_type": "stream",
     "text": [
      "[273.06529402 271.38515991 272.36150972 274.86667035 276.21936726\n",
      " 641.58837368 296.7010488  290.43987489 278.71069062 535.68417351\n",
      " 572.92073207 278.41116214 405.54917672 299.00669401 271.5046883\n",
      " 271.77904678 435.30077613 293.6680021  271.69067686 483.22521414]\n"
     ]
    },
    {
     "name": "stderr",
     "output_type": "stream",
     "text": [
      "pyswarms.single.global_best:  80%|████████████████████     |16/20, best_cost=271"
     ]
    },
    {
     "name": "stdout",
     "output_type": "stream",
     "text": [
      "[342.56623109 271.27095803 272.62062339 464.3174677  435.93412206\n",
      " 556.08962106 300.51923288 362.38431718 307.6662466  272.78481341\n",
      " 422.47947349 362.39566123 396.01252471 530.66970566 271.29362437\n",
      " 271.28785902 273.76390514 277.12277171 285.08612984 283.08234955]\n"
     ]
    },
    {
     "name": "stderr",
     "output_type": "stream",
     "text": [
      "pyswarms.single.global_best:  85%|█████████████████████▎   |17/20, best_cost=271"
     ]
    },
    {
     "name": "stdout",
     "output_type": "stream",
     "text": [
      "[273.15461724 271.29183393 272.04766751 540.29072686 696.84873464\n",
      " 582.36323667 297.52973801 386.49130187 391.89025143 301.86571163\n",
      " 389.0308305  578.52771794 434.85481256 776.56274206 271.33633849\n",
      " 271.81491387 418.04637396 280.24328084 280.26569403 465.27293145]\n"
     ]
    },
    {
     "name": "stderr",
     "output_type": "stream",
     "text": [
      "pyswarms.single.global_best:  90%|██████████████████████▌  |18/20, best_cost=271"
     ]
    },
    {
     "name": "stdout",
     "output_type": "stream",
     "text": [
      "[382.28850207 271.35267744 271.50312432 503.11918156 357.01243834\n",
      " 392.93227471 290.51389097 340.93082983 741.34231846 445.43302063\n",
      " 365.8457506  275.88973951 441.12376838 789.23576758 271.44983446\n",
      " 272.29119364 271.31037872 279.06634087 271.62585514 272.36784916]\n"
     ]
    },
    {
     "name": "stderr",
     "output_type": "stream",
     "text": [
      "pyswarms.single.global_best:  95%|███████████████████████▊ |19/20, best_cost=271"
     ]
    },
    {
     "name": "stdout",
     "output_type": "stream",
     "text": [
      "[272.34534727 271.33572381 271.28346542 415.66846741 534.6244215\n",
      " 291.37076286 294.50313826 291.7123115  563.00448188 591.89622012\n",
      " 425.085418   326.3443855  417.80918626 527.87918157 271.46628597\n",
      " 272.20610146 362.14509607 281.81755656 287.11788712 321.40465733]\n"
     ]
    },
    {
     "name": "stderr",
     "output_type": "stream",
     "text": [
      "pyswarms.single.global_best: 100%|█████████████████████████|20/20, best_cost=271\n",
      "2024-12-23 18:23:08,414 - pyswarms.single.global_best - INFO - Optimization finished | best cost: 271.27095802671295, best pos: [0.21275648 0.77366006]\n",
      "2024-12-23 18:23:08,421 - pyswarms.single.global_best - INFO - Optimize for 20 iters with {'c1': 0.5, 'c2': 0.3, 'w': 0.8}\n"
     ]
    },
    {
     "name": "stdout",
     "output_type": "stream",
     "text": [
      "[453.84002129 271.28114214 271.56807609 464.10994306 274.34124566\n",
      " 275.20084617 292.53352239 280.2516029  342.94944214 272.49503807\n",
      " 559.70053653 689.89373158 366.1075191  418.63123053 271.28818045\n",
      " 271.62676464 272.67683934 289.99615597 273.0697939  486.71065552]\n"
     ]
    },
    {
     "name": "stderr",
     "output_type": "stream",
     "text": [
      "pyswarms.single.global_best:   5%|█▎                        |1/20, best_cost=268"
     ]
    },
    {
     "name": "stdout",
     "output_type": "stream",
     "text": [
      "[301.47392414 364.31455926 272.54202414 287.42707286 350.08641108\n",
      " 269.62831757 730.87028927 365.59320941 428.75498097 290.09033852\n",
      " 321.95855539 650.60620809 438.17327767 437.45952392 386.89140158\n",
      " 267.72862774 609.22288128 401.36906023 355.74733433 622.4698001 ]\n"
     ]
    },
    {
     "name": "stderr",
     "output_type": "stream",
     "text": [
      "pyswarms.single.global_best:  10%|██▌                       |2/20, best_cost=268"
     ]
    },
    {
     "name": "stdout",
     "output_type": "stream",
     "text": [
      "[316.41824151 463.24842647 303.78375736 328.50961064 396.51138103\n",
      " 310.19174489 671.30200473 562.24782595 590.92335921 392.43556354\n",
      " 365.80286682 283.84984668 470.61610889 268.11129573 415.15402667\n",
      " 303.65355669 630.43348265 478.06573429 514.50123845 923.10519109]\n"
     ]
    },
    {
     "name": "stderr",
     "output_type": "stream",
     "text": [
      "pyswarms.single.global_best:  15%|███▉                      |3/20, best_cost=268"
     ]
    },
    {
     "name": "stdout",
     "output_type": "stream",
     "text": [
      "[314.63742582 498.28976908 379.96879019 325.58986749 414.68700578\n",
      " 352.06746038 423.98735763 622.76455301 487.15525672 404.07813961\n",
      " 342.92136636 333.79704515 405.07801585 309.57340727 401.71297566\n",
      " 391.01926492 545.20866453 367.37813187 527.0816277  609.55333021]\n"
     ]
    },
    {
     "name": "stderr",
     "output_type": "stream",
     "text": [
      "pyswarms.single.global_best:  20%|█████▏                    |4/20, best_cost=268"
     ]
    },
    {
     "name": "stdout",
     "output_type": "stream",
     "text": [
      "[283.76440867 439.25852669 344.87465986 316.09849003 327.93758575\n",
      " 321.90760779 282.61458518 430.65979956 359.10502955 378.06945751\n",
      " 304.77315973 323.67988871 312.758848   345.99927949 346.29035426\n",
      " 369.7102981  419.3233053  289.94677175 434.45466981 344.82893239]\n"
     ]
    },
    {
     "name": "stderr",
     "output_type": "stream",
     "text": [
      "pyswarms.single.global_best:  25%|██████▌                   |5/20, best_cost=267"
     ]
    },
    {
     "name": "stdout",
     "output_type": "stream",
     "text": [
      "[268.59410088 315.50948433 288.10947424 277.06087887 276.94553541\n",
      " 277.32631632 532.86528682 322.82928188 273.86991284 309.90505979\n",
      " 271.05030639 287.88813601 275.54872627 355.76942837 294.21917377\n",
      " 281.86274856 300.4827683  267.04432721 312.30978398 292.03963219]\n"
     ]
    },
    {
     "name": "stderr",
     "output_type": "stream",
     "text": [
      "pyswarms.single.global_best:  30%|███████▊                  |6/20, best_cost=265"
     ]
    },
    {
     "name": "stdout",
     "output_type": "stream",
     "text": [
      "[265.18143334 284.77058973 270.17348303 273.43161544 936.49999782\n",
      " 787.47069762 272.10132778 275.84111166 266.94901381 281.1289079\n",
      " 649.37893384 287.42419778 724.4349077  296.35272804 281.40870935\n",
      " 267.92242512 274.93676564 266.24373895 268.26335844 271.61107309]\n"
     ]
    },
    {
     "name": "stderr",
     "output_type": "stream",
     "text": [
      "pyswarms.single.global_best:  35%|█████████                 |7/20, best_cost=265"
     ]
    },
    {
     "name": "stdout",
     "output_type": "stream",
     "text": [
      "[266.46359409 851.38476947 656.09147744 801.07795658 360.37250086\n",
      " 326.31197142 411.29717145 269.46290249 573.10626704 704.84403568\n",
      " 329.15237313 271.46614925 352.84533835 817.33237801 269.58708244\n",
      " 740.30753099 271.34384141 717.74245407 520.96814847 730.70784135]\n"
     ]
    },
    {
     "name": "stderr",
     "output_type": "stream",
     "text": [
      "pyswarms.single.global_best:  40%|██████████▍               |8/20, best_cost=265"
     ]
    },
    {
     "name": "stdout",
     "output_type": "stream",
     "text": [
      "[267.61456478 377.81246514 343.55628513 572.78598812 707.51693434\n",
      " 517.16136128 630.52101576 772.57510667 300.96795923 337.06158806\n",
      " 733.59956869 267.45289907 681.90097449 337.68811799 627.65258191\n",
      " 269.70583254 925.63930597 416.489197   283.94300265 305.99570301]\n"
     ]
    },
    {
     "name": "stderr",
     "output_type": "stream",
     "text": [
      "pyswarms.single.global_best:  45%|███████████▋              |9/20, best_cost=265"
     ]
    },
    {
     "name": "stdout",
     "output_type": "stream",
     "text": [
      "[267.04640704 272.94345793 267.3824977  321.33329296 292.86453669\n",
      " 270.61597799 624.25977695 301.20724791 502.0942835  268.04572032\n",
      " 306.51051893 908.31566283 334.67434229 495.48788394 278.1567024\n",
      " 389.61962062 474.10937737 289.99660166 530.41804539 471.68742748]\n"
     ]
    },
    {
     "name": "stderr",
     "output_type": "stream",
     "text": [
      "pyswarms.single.global_best:  50%|████████████▌            |10/20, best_cost=265"
     ]
    },
    {
     "name": "stdout",
     "output_type": "stream",
     "text": [
      "[265.23620456 566.01327433 407.64806514 683.01344963 556.9126389\n",
      " 397.2768604  558.11169699 446.64614759 267.15467082 367.40870382\n",
      " 417.51642311 326.49685542 267.90925328 265.23295664 407.51039544\n",
      " 607.25472336 279.17727281 267.7728328  292.39628031 271.1983807 ]\n"
     ]
    },
    {
     "name": "stderr",
     "output_type": "stream",
     "text": [
      "pyswarms.single.global_best:  55%|█████████████▊           |11/20, best_cost=265"
     ]
    },
    {
     "name": "stdout",
     "output_type": "stream",
     "text": [
      "[265.95999459 266.50312505 955.46459196 339.12314335 269.87788269\n",
      " 586.52051688 560.5751132  267.76061682 326.13981324 816.10471479\n",
      " 798.4253733  536.73659552 443.95187112 324.48305923 266.68657207\n",
      " 616.33533211 470.0867475  460.36255487 510.01952553 397.93272932]\n"
     ]
    },
    {
     "name": "stderr",
     "output_type": "stream",
     "text": [
      "pyswarms.single.global_best:  60%|███████████████          |12/20, best_cost=265"
     ]
    },
    {
     "name": "stdout",
     "output_type": "stream",
     "text": [
      "[268.72991013 345.76988768 296.13675355 540.81326278 337.33737215\n",
      " 273.49989956 453.34691008 351.85620122 462.52827758 595.16271822\n",
      " 305.85800334 268.42335593 266.30711744 468.10654372 421.15188665\n",
      " 644.37645561 267.78098267 267.13629974 270.73061794 583.7655739 ]\n"
     ]
    },
    {
     "name": "stderr",
     "output_type": "stream",
     "text": [
      "pyswarms.single.global_best:  65%|████████████████▎        |13/20, best_cost=265"
     ]
    },
    {
     "name": "stdout",
     "output_type": "stream",
     "text": [
      "[279.50401797 654.94841431 428.07859218 277.22256781 610.7166915\n",
      " 375.40991323 362.75383831 628.84543427 480.11432337 464.34241672\n",
      " 441.99414366 325.04245855 340.40039628 462.92348362 270.74999099\n",
      " 497.55643277 366.21778522 395.28169024 378.98206574 269.3062158 ]\n"
     ]
    },
    {
     "name": "stderr",
     "output_type": "stream",
     "text": [
      "pyswarms.single.global_best:  70%|█████████████████▌       |14/20, best_cost=265"
     ]
    },
    {
     "name": "stdout",
     "output_type": "stream",
     "text": [
      "[279.11860445 268.64779346 632.05007758 431.21575233 911.84582031\n",
      " 568.20898202 316.22408209 267.55395353 426.11779408 383.62807492\n",
      " 492.11139572 394.9465375  628.97413123 451.03982655 405.69237247\n",
      " 296.96114501 266.6508865  265.0584409  631.76739795 371.94796056]\n"
     ]
    },
    {
     "name": "stderr",
     "output_type": "stream",
     "text": [
      "pyswarms.single.global_best:  75%|██████████████████▊      |15/20, best_cost=265"
     ]
    },
    {
     "name": "stdout",
     "output_type": "stream",
     "text": [
      "[265.64687733 335.57163535 596.88126273 682.72808543 631.24661639\n",
      " 273.57091437 319.43986175 273.06230949 400.01294225 441.02145943\n",
      " 471.89898423 667.02904773 265.51716923 397.27752624 266.6684503\n",
      " 265.1536262  476.55175179 381.96995064 268.59299535 266.53847253]\n"
     ]
    },
    {
     "name": "stderr",
     "output_type": "stream",
     "text": [
      "pyswarms.single.global_best:  80%|████████████████████     |16/20, best_cost=265"
     ]
    },
    {
     "name": "stdout",
     "output_type": "stream",
     "text": [
      "[275.21801993 464.30434303 575.19398589 269.60775848 336.67537515\n",
      " 380.44351333 322.18722197 333.42121463 356.847765   512.91284654\n",
      " 443.92430475 519.210879   284.67589525 308.84175807 350.17348443\n",
      " 268.50057229 269.17052876 267.27608534 308.89482538 360.39417535]\n"
     ]
    },
    {
     "name": "stderr",
     "output_type": "stream",
     "text": [
      "pyswarms.single.global_best:  85%|█████████████████████▎   |17/20, best_cost=265"
     ]
    },
    {
     "name": "stdout",
     "output_type": "stream",
     "text": [
      "[267.45088805 589.77490983 410.12966328 302.72865452 270.62578454\n",
      " 526.95725709 338.49040709 369.84051971 335.18394173 520.64024075\n",
      " 459.24723098 332.65933928 362.67586961 280.05459491 267.01409888\n",
      " 292.59285583 395.20797885 328.28523394 386.49821929 265.71336456]\n"
     ]
    },
    {
     "name": "stderr",
     "output_type": "stream",
     "text": [
      "pyswarms.single.global_best:  90%|██████████████████████▌  |18/20, best_cost=265"
     ]
    },
    {
     "name": "stdout",
     "output_type": "stream",
     "text": [
      "[273.39007616 558.59277531 385.05340532 393.96972166 268.75239951\n",
      " 695.04646662 417.64406845 363.20617514 295.35289055 724.63475306\n",
      " 365.39470204 290.52135156 453.34000953 277.72009812 453.38138647\n",
      " 374.95380344 265.55620861 562.48822752 460.16109365 392.76493988]\n"
     ]
    },
    {
     "name": "stderr",
     "output_type": "stream",
     "text": [
      "pyswarms.single.global_best:  95%|███████████████████████▊ |19/20, best_cost=265"
     ]
    },
    {
     "name": "stdout",
     "output_type": "stream",
     "text": [
      "[265.04909202 411.76324892 367.11637547 442.67777114 276.85281025\n",
      " 693.64225334 512.81850806 363.84046627 286.24838247 278.88166017\n",
      " 296.86208904 310.98102833 267.62813496 300.83617385 270.33630406\n",
      " 512.47115521 355.98854564 265.31800914 671.63042797 269.60164866]\n"
     ]
    },
    {
     "name": "stderr",
     "output_type": "stream",
     "text": [
      "pyswarms.single.global_best: 100%|█████████████████████████|20/20, best_cost=265\n",
      "2024-12-23 18:23:40,943 - pyswarms.single.global_best - INFO - Optimization finished | best cost: 265.04909202267413, best pos: [0.16582013 0.92159505]\n",
      "2024-12-23 18:23:40,950 - pyswarms.single.global_best - INFO - Optimize for 20 iters with {'c1': 0.5, 'c2': 0.3, 'w': 0.8}\n"
     ]
    },
    {
     "name": "stdout",
     "output_type": "stream",
     "text": [
      "[277.73938974 314.75420053 355.49224213 386.19460064 332.76147358\n",
      " 944.95389641 492.29601868 343.24198897 290.9419898  349.76724144\n",
      " 287.90160621 332.3929051  295.59290284 328.46595129 337.82758397\n",
      " 394.72571249 668.89694862 322.2463051  271.29247363 466.73994832]\n"
     ]
    },
    {
     "name": "stderr",
     "output_type": "stream",
     "text": [
      "pyswarms.single.global_best:   5%|█▎                        |1/20, best_cost=262"
     ]
    },
    {
     "name": "stdout",
     "output_type": "stream",
     "text": [
      "[363.47327024 359.23995634 565.49232361 270.93610389 357.86817016\n",
      " 261.77102428 262.89073894 317.75521701 266.75614202 314.19379267\n",
      " 704.05832626 649.94609596 569.75954925 267.10904487 620.53352428\n",
      " 344.51721366 263.55962829 713.58117065 477.03500908 305.84620054]\n"
     ]
    },
    {
     "name": "stderr",
     "output_type": "stream",
     "text": [
      "pyswarms.single.global_best:  10%|██▌                       |2/20, best_cost=262"
     ]
    },
    {
     "name": "stdout",
     "output_type": "stream",
     "text": [
      "[558.62065133 608.18523876 262.52387536 393.65655831 622.66104932\n",
      " 261.65106293 268.45115753 382.82005616 327.09879101 386.40024516\n",
      " 269.47565143 261.96608078 279.35775206 273.93607345 281.92295676\n",
      " 427.91188232 292.42811205 293.98676462 485.4613247  333.07400326]\n"
     ]
    },
    {
     "name": "stderr",
     "output_type": "stream",
     "text": [
      "pyswarms.single.global_best:  15%|███▉                      |3/20, best_cost=262"
     ]
    },
    {
     "name": "stdout",
     "output_type": "stream",
     "text": [
      "[673.5247427  616.84403095 277.57826139 551.4736983  688.0253528\n",
      " 264.7054573  272.15772061 395.64692815 347.94282088 423.61708832\n",
      " 283.66758831 271.32640852 345.75519944 278.37738418 325.4866656\n",
      " 408.29243439 335.7784598  370.06288676 421.12131335 357.04434426]\n"
     ]
    },
    {
     "name": "stderr",
     "output_type": "stream",
     "text": [
      "pyswarms.single.global_best:  20%|█████▏                    |4/20, best_cost=262"
     ]
    },
    {
     "name": "stdout",
     "output_type": "stream",
     "text": [
      "[386.97202058 385.45087562 288.81081937 397.58189955 592.69033253\n",
      " 265.86978483 270.50925044 346.00810761 334.53261532 363.26703015\n",
      " 287.69234776 284.41652991 361.50486996 272.53234426 323.99818054\n",
      " 353.99151614 328.46591461 413.31145544 328.15549861 347.50421459]\n"
     ]
    },
    {
     "name": "stderr",
     "output_type": "stream",
     "text": [
      "pyswarms.single.global_best:  25%|██████▌                   |5/20, best_cost=262"
     ]
    },
    {
     "name": "stdout",
     "output_type": "stream",
     "text": [
      "[286.50287343 270.87703392 285.80892902 275.90575148 370.80459962\n",
      " 265.00440085 266.18946635 299.46032593 274.04727293 288.00485525\n",
      " 282.59651844 281.2499928  297.27596314 264.05335076 308.30358734\n",
      " 301.19545075 293.64448113 325.67070051 280.23687336 315.45232369]\n"
     ]
    },
    {
     "name": "stderr",
     "output_type": "stream",
     "text": [
      "pyswarms.single.global_best:  30%|███████▊                  |6/20, best_cost=261"
     ]
    },
    {
     "name": "stdout",
     "output_type": "stream",
     "text": [
      "[262.52773302 606.95367889 270.52642874 672.86027838 284.51709665\n",
      " 263.54025729 262.38062358 267.88837765 652.95082224 262.89923818\n",
      " 264.13688149 264.31118371 261.50289972 261.36567098 283.42359099\n",
      " 267.2285799  262.73137157 272.5731168  262.36544567 292.38787824]\n"
     ]
    },
    {
     "name": "stderr",
     "output_type": "stream",
     "text": [
      "pyswarms.single.global_best:  35%|█████████                 |7/20, best_cost=261"
     ]
    },
    {
     "name": "stdout",
     "output_type": "stream",
     "text": [
      "[509.63926432 278.73376131 261.46095457 286.15553786 700.48075952\n",
      " 262.93404233 261.34701329 691.21821545 307.39645548 666.18808318\n",
      " 262.29438738 262.41982937 521.86202535 695.54341619 267.83110554\n",
      " 262.06701257 583.20035662 262.50230389 684.85727813 268.03016841]\n"
     ]
    },
    {
     "name": "stderr",
     "output_type": "stream",
     "text": [
      "pyswarms.single.global_best:  40%|██████████▍               |8/20, best_cost=261"
     ]
    },
    {
     "name": "stdout",
     "output_type": "stream",
     "text": [
      "[270.4905896  511.06441917 576.22575959 399.32952539 301.94636431\n",
      " 262.37640963 261.46527775 391.29841952 515.37679375 345.07324645\n",
      " 572.98984335 596.76292235 311.17686026 334.354857   821.64985586\n",
      " 599.54925481 376.4879694  549.61898957 373.06657926 261.45308698]\n"
     ]
    },
    {
     "name": "stderr",
     "output_type": "stream",
     "text": [
      "pyswarms.single.global_best:  45%|███████████▋              |9/20, best_cost=261"
     ]
    },
    {
     "name": "stdout",
     "output_type": "stream",
     "text": [
      "[408.18325859 262.9703628  311.33522278 690.75628289 504.83046746\n",
      " 261.81358052 261.78630336 265.5043132  765.46016142 263.42869955\n",
      " 284.60705178 296.04244265 612.30281435 566.16887342 363.18181201\n",
      " 270.06558161 263.33670393 285.56283021 261.38845677 664.28724831]\n"
     ]
    },
    {
     "name": "stderr",
     "output_type": "stream",
     "text": [
      "pyswarms.single.global_best:  50%|████████████▌            |10/20, best_cost=261"
     ]
    },
    {
     "name": "stdout",
     "output_type": "stream",
     "text": [
      "[677.77512234 346.67073953 540.04025605 317.76369607 265.00186224\n",
      " 261.50880012 261.71167591 467.09776745 274.98663034 427.74129273\n",
      " 483.58935855 441.40508878 273.62320252 266.0245966  263.72247876\n",
      " 342.32574291 435.22429998 495.5914955  370.2668868  274.74594265]\n"
     ]
    },
    {
     "name": "stderr",
     "output_type": "stream",
     "text": [
      "pyswarms.single.global_best:  55%|█████████████▊           |11/20, best_cost=261"
     ]
    },
    {
     "name": "stdout",
     "output_type": "stream",
     "text": [
      "[262.33697221 576.62261349 266.88665563 562.84067865 382.61898404\n",
      " 261.39278376 261.32888592 263.90278377 370.35321008 264.0675732\n",
      " 572.46650463 261.3797264  388.62651802 346.92217989 427.45723034\n",
      " 660.01519584 267.57431223 270.57930585 262.07093585 365.21364069]\n"
     ]
    },
    {
     "name": "stderr",
     "output_type": "stream",
     "text": [
      "pyswarms.single.global_best:  60%|███████████████          |12/20, best_cost=261"
     ]
    },
    {
     "name": "stdout",
     "output_type": "stream",
     "text": [
      "[284.25176672 511.86345656 360.2300791  266.46306487 264.64418419\n",
      " 261.44459024 261.353526   384.34590408 663.92628987 442.96476428\n",
      " 664.84466291 323.42064778 567.10975061 415.96877354 269.44361091\n",
      " 273.33302525 435.73016086 383.25425672 345.60528514 502.53701181]\n"
     ]
    },
    {
     "name": "stderr",
     "output_type": "stream",
     "text": [
      "pyswarms.single.global_best:  65%|████████████████▎        |13/20, best_cost=261"
     ]
    },
    {
     "name": "stdout",
     "output_type": "stream",
     "text": [
      "[376.4657128  530.42407695 507.96369599 445.88323417 446.70743839\n",
      " 261.46603124 261.51390131 261.67654898 549.88479031 261.90863473\n",
      " 415.19574462 518.57335411 606.59248769 262.4966733  458.52709323\n",
      " 382.83699538 262.55510336 569.91642079 262.29033799 546.24814094]\n"
     ]
    },
    {
     "name": "stderr",
     "output_type": "stream",
     "text": [
      "pyswarms.single.global_best:  70%|█████████████████▌       |14/20, best_cost=261"
     ]
    },
    {
     "name": "stdout",
     "output_type": "stream",
     "text": [
      "[397.41635074 521.88866804 445.83921975 750.16558061 280.11030246\n",
      " 261.43813844 261.44066173 338.24166481 520.03721121 374.21817067\n",
      " 329.30309185 261.27793652 446.35134441 316.91218124 263.42978527\n",
      " 262.09716292 364.42123951 262.61936327 363.52047326 378.58116644]\n"
     ]
    },
    {
     "name": "stderr",
     "output_type": "stream",
     "text": [
      "pyswarms.single.global_best:  75%|██████████████████▊      |15/20, best_cost=261"
     ]
    },
    {
     "name": "stdout",
     "output_type": "stream",
     "text": [
      "[407.74700131 405.32221415 326.7075817  262.98235076 579.44299591\n",
      " 261.34905752 261.36454228 608.56551351 458.82280785 531.70559026\n",
      " 293.86618461 307.29760871 355.30955398 500.22404984 385.41495901\n",
      " 344.52406676 261.43970158 286.56446044 262.99207804 283.17353722]\n"
     ]
    },
    {
     "name": "stderr",
     "output_type": "stream",
     "text": [
      "pyswarms.single.global_best:  80%|████████████████████     |16/20, best_cost=261"
     ]
    },
    {
     "name": "stdout",
     "output_type": "stream",
     "text": [
      "[313.59326645 419.32484092 273.35315693 290.92014141 292.09421483\n",
      " 261.34587328 261.33423278 649.95161971 382.23216463 808.17715146\n",
      " 300.31638149 560.01640908 329.24336542 268.34348195 261.32617148\n",
      " 261.32297517 377.57039473 394.44786733 445.30483788 266.60273738]\n"
     ]
    },
    {
     "name": "stderr",
     "output_type": "stream",
     "text": [
      "pyswarms.single.global_best:  85%|█████████████████████▎   |17/20, best_cost=261"
     ]
    },
    {
     "name": "stdout",
     "output_type": "stream",
     "text": [
      "[275.22605471 399.76613263 266.57946007 357.94832059 490.90533848\n",
      " 261.33411638 261.36242553 615.24778771 410.10626249 270.46937316\n",
      " 337.88953704 289.13127243 338.0957327  373.09644514 359.39227311\n",
      " 399.61533553 261.32385541 411.74577186 264.9890907  269.39672229]\n"
     ]
    },
    {
     "name": "stderr",
     "output_type": "stream",
     "text": [
      "pyswarms.single.global_best:  90%|██████████████████████▌  |18/20, best_cost=261"
     ]
    },
    {
     "name": "stdout",
     "output_type": "stream",
     "text": [
      "[272.59918913 394.10382968 276.65625478 369.385567   639.74641198\n",
      " 261.33800583 261.39963001 262.44747098 439.11980848 341.9516845\n",
      " 387.32227395 503.22961821 336.3863553  581.66221649 262.09373277\n",
      " 261.90084886 373.00942045 348.46380679 383.38302733 293.42817407]\n"
     ]
    },
    {
     "name": "stderr",
     "output_type": "stream",
     "text": [
      "pyswarms.single.global_best:  95%|███████████████████████▊ |19/20, best_cost=261"
     ]
    },
    {
     "name": "stdout",
     "output_type": "stream",
     "text": [
      "[296.64420663 359.15340507 307.91971384 383.23211819 491.02010256\n",
      " 261.33953491 261.40226185 275.80367408 374.27605161 569.54423749\n",
      " 368.0099611  261.77640325 298.90482629 466.03005863 410.30003752\n",
      " 327.84054986 261.47631174 359.10315845 648.03554248 365.728786  ]\n"
     ]
    },
    {
     "name": "stderr",
     "output_type": "stream",
     "text": [
      "pyswarms.single.global_best: 100%|█████████████████████████|20/20, best_cost=261\n",
      "2024-12-23 18:24:14,077 - pyswarms.single.global_best - INFO - Optimization finished | best cost: 261.27793652064884, best pos: [0.10986278 0.86812848]\n",
      "2024-12-23 18:24:14,083 - pyswarms.single.global_best - INFO - Optimize for 20 iters with {'c1': 0.5, 'c2': 0.3, 'w': 0.8}\n"
     ]
    },
    {
     "name": "stdout",
     "output_type": "stream",
     "text": [
      "[360.59831401 297.069433   321.99925331 413.40030487 358.34759663\n",
      " 261.33422132 261.32667776 392.09192357 320.13792345 298.77780563\n",
      " 377.11891973 294.56015682 289.92376927 377.5519282  264.24429397\n",
      " 551.728561   349.91914212 465.55605821 282.40545774 473.78533089]\n"
     ]
    },
    {
     "name": "stderr",
     "output_type": "stream",
     "text": [
      "pyswarms.single.global_best:   5%|█▎                        |1/20, best_cost=260"
     ]
    },
    {
     "name": "stdout",
     "output_type": "stream",
     "text": [
      "[708.41615519 262.8406173  361.23982711 412.73745307 471.96387737\n",
      " 264.05729887 271.1625546  386.05362784 293.51260926 318.46752211\n",
      " 552.30025303 323.97716616 422.76241455 499.76446289 349.62030949\n",
      " 394.02553089 259.75554536 354.0135124  599.88152748 268.17165486]\n"
     ]
    },
    {
     "name": "stderr",
     "output_type": "stream",
     "text": [
      "pyswarms.single.global_best:  10%|██▌                       |2/20, best_cost=259"
     ]
    },
    {
     "name": "stdout",
     "output_type": "stream",
     "text": [
      "[281.07788583 275.65932646 468.90809282 434.28424769 464.06671195\n",
      " 295.810076   378.07631186 451.02802426 331.4716975  380.07205641\n",
      " 598.3031809  359.24126653 259.2942569  426.0402725  350.51171923\n",
      " 388.49064264 266.48062093 359.10065053 294.43994702 332.74998584]\n"
     ]
    },
    {
     "name": "stderr",
     "output_type": "stream",
     "text": [
      "pyswarms.single.global_best:  15%|███▉                      |3/20, best_cost=259"
     ]
    },
    {
     "name": "stdout",
     "output_type": "stream",
     "text": [
      "[333.86562604 272.15222766 442.77338366 391.60081027 441.85443271\n",
      " 325.80864331 441.986239   419.23356816 305.93817668 408.56561293\n",
      " 414.86765201 373.3989741  273.2211901  351.34417381 340.71815001\n",
      " 351.69572323 266.01535597 339.3476533  430.63353378 371.57611526]\n"
     ]
    },
    {
     "name": "stderr",
     "output_type": "stream",
     "text": [
      "pyswarms.single.global_best:  20%|█████▏                    |4/20, best_cost=259"
     ]
    },
    {
     "name": "stdout",
     "output_type": "stream",
     "text": [
      "[322.35936428 261.47123617 356.68060519 342.5314562  363.99757068\n",
      " 295.98734351 357.3713733  368.32850172 273.38205504 325.18835537\n",
      " 320.0480066  312.41781268 291.76508319 282.04026403 330.6470325\n",
      " 313.83340767 262.66932917 306.09324817 575.63575813 319.734617  ]\n"
     ]
    },
    {
     "name": "stderr",
     "output_type": "stream",
     "text": [
      "pyswarms.single.global_best:  25%|██████▌                   |5/20, best_cost=259"
     ]
    },
    {
     "name": "stdout",
     "output_type": "stream",
     "text": [
      "[282.01845665 259.15708044 310.59090216 298.28058234 283.10661109\n",
      " 259.66821541 279.17309289 315.10164996 260.11530699 279.20661567\n",
      " 263.26059795 279.66575539 276.99886914 259.6718795  315.96124921\n",
      " 291.38859985 259.45775889 281.88441573 510.28402487 273.10595036]\n"
     ]
    },
    {
     "name": "stderr",
     "output_type": "stream",
     "text": [
      "pyswarms.single.global_best:  30%|███████▊                  |6/20, best_cost=259"
     ]
    },
    {
     "name": "stdout",
     "output_type": "stream",
     "text": [
      "[264.96273561 627.45490028 272.75779694 272.30997503 259.57789939\n",
      " 489.5227202  714.71214307 272.46577746 626.80239036 264.54733896\n",
      " 560.41309698 262.80780361 260.79893143 601.96529685 279.94888513\n",
      " 279.31770176 721.04124379 264.41429495 383.61840258 259.59422576]\n"
     ]
    },
    {
     "name": "stderr",
     "output_type": "stream",
     "text": [
      "pyswarms.single.global_best:  35%|█████████                 |7/20, best_cost=259"
     ]
    },
    {
     "name": "stdout",
     "output_type": "stream",
     "text": [
      "[259.41299774 446.91511209 259.53153    260.91511629 555.22535574\n",
      " 304.84415011 405.06917019 259.21155876 279.15495644 259.35613119\n",
      " 291.08174127 259.12030934 598.20736017 320.91206941 259.60535138\n",
      " 266.72908367 311.79348227 259.11736157 307.08439709 577.45041806]\n"
     ]
    },
    {
     "name": "stderr",
     "output_type": "stream",
     "text": [
      "pyswarms.single.global_best:  40%|██████████▍               |8/20, best_cost=259"
     ]
    },
    {
     "name": "stdout",
     "output_type": "stream",
     "text": [
      "[657.58149504 287.27441481 608.98818837 744.468737   302.64097146\n",
      " 259.80491795 267.45966163 601.8031289  415.39770088 578.02705938\n",
      " 575.25991212 614.5780481  325.76988978 752.13670062 582.12848699\n",
      " 260.96090617 457.64160239 698.32949568 263.1888737  397.82839294]\n"
     ]
    },
    {
     "name": "stderr",
     "output_type": "stream",
     "text": [
      "pyswarms.single.global_best:  45%|███████████▋              |9/20, best_cost=259"
     ]
    },
    {
     "name": "stdout",
     "output_type": "stream",
     "text": [
      "[272.81360723 622.60206739 335.7570374  292.99675288 630.24894392\n",
      " 477.83080619 479.95473315 275.27597479 264.52343216 287.4239809\n",
      " 268.69358751 306.89970594 259.98985499 272.61403834 276.56324155\n",
      " 259.28614249 263.49713225 576.40938429 611.37111177 263.52605176]\n"
     ]
    },
    {
     "name": "stderr",
     "output_type": "stream",
     "text": [
      "pyswarms.single.global_best:  50%|████████████▌            |10/20, best_cost=259"
     ]
    },
    {
     "name": "stdout",
     "output_type": "stream",
     "text": [
      "[376.99424387 312.51480741 630.2971342  426.16256865 262.61035119\n",
      " 300.38237828 280.84808133 393.57396046 437.56241326 565.70778159\n",
      " 395.19885005 571.54790658 395.05497488 349.4127138  407.71786159\n",
      " 722.75072486 398.86196134 354.28453678 302.1361056  458.12388324]\n"
     ]
    },
    {
     "name": "stderr",
     "output_type": "stream",
     "text": [
      "pyswarms.single.global_best:  55%|█████████████▊           |11/20, best_cost=259"
     ]
    },
    {
     "name": "stdout",
     "output_type": "stream",
     "text": [
      "[532.37163506 479.44786518 267.55924548 262.16370367 324.81545544\n",
      " 259.99124767 562.28293906 806.77388586 260.34555941 268.34086018\n",
      " 671.42375525 270.1650789  262.97619913 506.82569842 259.07023403\n",
      " 458.63335708 259.89113012 261.73063899 558.81248242 259.63897549]\n"
     ]
    },
    {
     "name": "stderr",
     "output_type": "stream",
     "text": [
      "pyswarms.single.global_best:  60%|███████████████          |12/20, best_cost=259"
     ]
    },
    {
     "name": "stdout",
     "output_type": "stream",
     "text": [
      "[466.55938871 628.47359042 325.18258694 399.90566705 409.4020613\n",
      " 509.50038003 289.47172665 288.64668902 369.40346463 343.44498874\n",
      " 283.91841935 476.53803335 360.01833701 259.35715711 347.66597765\n",
      " 260.72302875 376.5580915  401.62627716 259.15026151 333.50543865]\n"
     ]
    },
    {
     "name": "stderr",
     "output_type": "stream",
     "text": [
      "pyswarms.single.global_best:  65%|████████████████▎        |13/20, best_cost=259"
     ]
    },
    {
     "name": "stdout",
     "output_type": "stream",
     "text": [
      "[299.66752521 440.55552978 457.47161904 674.4394081  480.73244636\n",
      " 276.66390465 525.45051643 411.53723103 259.18573193 532.20366757\n",
      " 430.22298615 260.16826393 644.50545364 316.83055757 258.95980994\n",
      " 362.57462909 260.44288271 259.9666755  302.97036911 484.67696526]\n"
     ]
    },
    {
     "name": "stderr",
     "output_type": "stream",
     "text": [
      "pyswarms.single.global_best:  70%|█████████████████▌       |14/20, best_cost=259"
     ]
    },
    {
     "name": "stdout",
     "output_type": "stream",
     "text": [
      "[265.01951955 279.4831471  382.93526068 565.61138652 703.55790575\n",
      " 452.11558982 266.05034674 781.16256022 379.23539969 525.81008365\n",
      " 599.34209242 400.29407135 561.5351717  462.75180888 379.29735462\n",
      " 677.60450842 382.12058576 337.92143649 414.48644729 458.0069818 ]\n"
     ]
    },
    {
     "name": "stderr",
     "output_type": "stream",
     "text": [
      "pyswarms.single.global_best:  75%|██████████████████▊      |15/20, best_cost=259"
     ]
    },
    {
     "name": "stdout",
     "output_type": "stream",
     "text": [
      "[264.57823037 258.96896628 341.38564279 417.56488233 265.78985819\n",
      " 564.59015654 401.22213685 595.75480978 598.96864434 379.72785988\n",
      " 258.97096916 645.29541269 345.3957463  534.0625221  259.15572911\n",
      " 260.0210815  263.63842988 708.18163418 440.02098116 342.3368249 ]\n"
     ]
    },
    {
     "name": "stderr",
     "output_type": "stream",
     "text": [
      "pyswarms.single.global_best:  80%|████████████████████     |16/20, best_cost=259"
     ]
    },
    {
     "name": "stdout",
     "output_type": "stream",
     "text": [
      "[292.38972618 258.95821365 353.4582631  337.51393749 331.33727052\n",
      " 510.33845367 262.47827154 307.39047335 263.23214222 301.00339885\n",
      " 286.68657637 440.09485255 259.43846369 510.46542406 368.23083405\n",
      " 293.48260695 486.10533191 494.81897905 396.60777247 313.25230525]\n"
     ]
    },
    {
     "name": "stderr",
     "output_type": "stream",
     "text": [
      "pyswarms.single.global_best:  85%|█████████████████████▎   |17/20, best_cost=259"
     ]
    },
    {
     "name": "stdout",
     "output_type": "stream",
     "text": [
      "[368.13014301 269.97203639 323.09952031 308.67709848 395.76035893\n",
      " 384.3629858  418.20045308 261.34884805 338.03163203 299.46257815\n",
      " 365.58576461 310.59727156 653.04084392 494.57262256 526.82333726\n",
      " 449.35830205 276.27614821 299.71971426 327.62370946 296.62056349]\n"
     ]
    },
    {
     "name": "stderr",
     "output_type": "stream",
     "text": [
      "pyswarms.single.global_best:  90%|██████████████████████▌  |18/20, best_cost=259"
     ]
    },
    {
     "name": "stdout",
     "output_type": "stream",
     "text": [
      "[591.67374421 334.17544312 287.47107646 334.11335536 342.18374429\n",
      " 279.14590052 262.34963297 259.40959035 514.69460985 308.79470687\n",
      " 543.86453039 265.0482338  387.47584567 426.74505358 551.6831644\n",
      " 653.87675789 436.70406202 263.99655589 317.7117214  284.74929243]\n"
     ]
    },
    {
     "name": "stderr",
     "output_type": "stream",
     "text": [
      "pyswarms.single.global_best:  95%|███████████████████████▊ |19/20, best_cost=259"
     ]
    },
    {
     "name": "stdout",
     "output_type": "stream",
     "text": [
      "[554.74180015 480.42130275 306.75348263 333.02648787 340.05343354\n",
      " 265.38938909 407.25034712 266.04057098 469.68715821 333.57075826\n",
      " 532.16764869 267.08958706 268.29438717 345.89738252 456.26396486\n",
      " 261.82524695 266.85410169 260.28791334 309.86806279 276.42673349]\n"
     ]
    },
    {
     "name": "stderr",
     "output_type": "stream",
     "text": [
      "pyswarms.single.global_best: 100%|█████████████████████████|20/20, best_cost=259\n",
      "2024-12-23 18:24:46,240 - pyswarms.single.global_best - INFO - Optimization finished | best cost: 258.9582136516251, best pos: [0.06027943 0.71783348]\n",
      "2024-12-23 18:24:46,247 - pyswarms.single.global_best - INFO - Optimize for 20 iters with {'c1': 0.5, 'c2': 0.3, 'w': 0.8}\n"
     ]
    },
    {
     "name": "stdout",
     "output_type": "stream",
     "text": [
      "[557.07757533 518.38083072 348.49319862 332.46186029 305.23255261\n",
      " 269.54795885 259.20431292 337.75929844 664.30048971 323.65702693\n",
      " 554.6396897  273.50199378 686.33265762 361.64795036 341.04917436\n",
      " 313.352294   457.21459008 266.51861884 293.00942374 298.83167402]\n"
     ]
    },
    {
     "name": "stderr",
     "output_type": "stream",
     "text": [
      "pyswarms.single.global_best:   5%|█▎                        |1/20, best_cost=258"
     ]
    },
    {
     "name": "stdout",
     "output_type": "stream",
     "text": [
      "[511.2545476  358.99926635 336.51476496 409.49131349 511.96294033\n",
      " 258.43104553 293.73671348 261.70637818 434.50576409 271.51892048\n",
      " 258.17119972 331.22716268 301.67382327 517.0067066  648.17224601\n",
      " 257.6912107  459.45799812 278.76881651 462.78722322 360.47124146]\n"
     ]
    },
    {
     "name": "stderr",
     "output_type": "stream",
     "text": [
      "pyswarms.single.global_best:  10%|██▌                       |2/20, best_cost=258"
     ]
    },
    {
     "name": "stdout",
     "output_type": "stream",
     "text": [
      "[259.59800528 317.7706154  391.6456102  647.30273194 259.87880856\n",
      " 362.32561122 492.81292264 326.35466443 516.35395244 272.00498106\n",
      " 301.13679055 342.81704048 286.85867953 580.50812776 270.04643559\n",
      " 318.33608259 772.99953418 281.99308338 643.71423697 334.72041242]\n"
     ]
    },
    {
     "name": "stderr",
     "output_type": "stream",
     "text": [
      "pyswarms.single.global_best:  15%|███▉                      |3/20, best_cost=258"
     ]
    },
    {
     "name": "stdout",
     "output_type": "stream",
     "text": [
      "[285.97860224 274.93446021 383.193263   734.36021241 288.70043606\n",
      " 527.74270307 660.22064788 381.71005064 529.03908063 268.18533241\n",
      " 379.22389623 331.79898878 267.11243408 581.92450636 305.22891982\n",
      " 338.62796194 257.96695095 272.41266068 535.5307994  316.83256656]\n"
     ]
    },
    {
     "name": "stderr",
     "output_type": "stream",
     "text": [
      "pyswarms.single.global_best:  20%|█████▏                    |4/20, best_cost=258"
     ]
    },
    {
     "name": "stdout",
     "output_type": "stream",
     "text": [
      "[291.34216498 258.0798369  357.56624334 765.13692746 311.21909298\n",
      " 679.12839917 392.77101877 335.0385017  407.94942665 264.98282613\n",
      " 297.17336719 322.17057679 258.48744566 382.67528414 330.56382405\n",
      " 285.70966333 258.27055475 263.39746637 407.7243291  278.9413237 ]\n"
     ]
    },
    {
     "name": "stderr",
     "output_type": "stream",
     "text": [
      "pyswarms.single.global_best:  25%|██████▌                   |5/20, best_cost=258"
     ]
    },
    {
     "name": "stdout",
     "output_type": "stream",
     "text": [
      "[269.42606203 595.24785645 314.75425545 405.68884332 297.54304381\n",
      " 549.56241861 276.34626192 265.57105819 293.05690669 260.957263\n",
      " 258.86954669 289.49549494 683.9067843  282.73256781 302.16261067\n",
      " 258.95953407 258.19187968 259.36699372 327.84733659 261.60983815]\n"
     ]
    },
    {
     "name": "stderr",
     "output_type": "stream",
     "text": [
      "pyswarms.single.global_best:  30%|███████▊                  |6/20, best_cost=258"
     ]
    },
    {
     "name": "stdout",
     "output_type": "stream",
     "text": [
      "[259.08129594 347.95933349 273.84276127 286.95507893 279.43790502\n",
      " 327.46756345 634.31249279 610.64892266 257.69097451 258.216627\n",
      " 540.45837867 263.18739032 310.07609763 258.06949918 276.13724653\n",
      " 600.06988034 257.89186315 257.8072117  286.75252803 257.69994874]\n"
     ]
    },
    {
     "name": "stderr",
     "output_type": "stream",
     "text": [
      "pyswarms.single.global_best:  35%|█████████                 |7/20, best_cost=258"
     ]
    },
    {
     "name": "stdout",
     "output_type": "stream",
     "text": [
      "[717.26291453 258.76216769 257.98026344 713.95237113 264.46527744\n",
      " 258.14913504 288.61757107 332.212705   490.06865304 257.65714327\n",
      " 274.19545597 257.69628923 513.84058963 540.806664   261.4148303\n",
      " 280.23666817 257.72313898 752.04366426 266.66887385 617.72285225]\n"
     ]
    },
    {
     "name": "stderr",
     "output_type": "stream",
     "text": [
      "pyswarms.single.global_best:  40%|██████████▍               |8/20, best_cost=258"
     ]
    },
    {
     "name": "stdout",
     "output_type": "stream",
     "text": [
      "[385.4017456  430.0594205  613.02333608 322.4547552  257.62581637\n",
      " 433.25113394 482.22914392 257.71907468 287.11455083 702.23115524\n",
      " 417.47796069 577.89498836 595.29383207 289.31504099 257.68003584\n",
      " 395.35261726 257.62373775 304.63939476 258.5845337  329.92645301]\n"
     ]
    },
    {
     "name": "stderr",
     "output_type": "stream",
     "text": [
      "pyswarms.single.global_best:  45%|███████████▋              |9/20, best_cost=258"
     ]
    },
    {
     "name": "stdout",
     "output_type": "stream",
     "text": [
      "[257.69087024 725.98394119 319.86619409 645.56551198 612.1166752\n",
      " 259.08457318 280.24221906 404.33534032 541.27969885 364.10939252\n",
      " 684.69905088 338.17616398 401.60898598 551.4062449  623.47924617\n",
      " 628.61709642 257.65936075 469.84142861 715.62309771 257.91924075]\n"
     ]
    },
    {
     "name": "stderr",
     "output_type": "stream",
     "text": [
      "pyswarms.single.global_best:  50%|████████████▌            |10/20, best_cost=258"
     ]
    },
    {
     "name": "stdout",
     "output_type": "stream",
     "text": [
      "[355.62212584 269.74821391 721.71203768 258.90311919 291.13993208\n",
      " 369.89079908 523.98990592 268.21092159 260.09130976 718.75685189\n",
      " 264.9756839  257.66239297 287.45071571 281.58536116 291.53746555\n",
      " 605.33178351 257.70072873 508.55591639 301.59991265 419.64615591]\n"
     ]
    },
    {
     "name": "stderr",
     "output_type": "stream",
     "text": [
      "pyswarms.single.global_best:  55%|█████████████▊           |11/20, best_cost=258"
     ]
    },
    {
     "name": "stdout",
     "output_type": "stream",
     "text": [
      "[702.94817868 339.53211723 309.27428141 302.62624969 487.66456281\n",
      " 650.8405444  260.69974235 475.20688931 326.23070965 260.74526373\n",
      " 349.6239439  378.87550714 258.66851541 455.96730518 452.16286915\n",
      " 417.19380289 257.67961451 719.07526523 546.43352085 264.97826586]\n"
     ]
    },
    {
     "name": "stderr",
     "output_type": "stream",
     "text": [
      "pyswarms.single.global_best:  60%|███████████████          |12/20, best_cost=258"
     ]
    },
    {
     "name": "stdout",
     "output_type": "stream",
     "text": [
      "[266.19663716 478.00529351 543.17841716 424.31467161 267.36556407\n",
      " 279.94838281 345.4997394  259.46870466 506.21350166 304.0497683\n",
      " 511.91915169 259.17576613 258.25062099 725.13798807 505.8403868\n",
      " 371.81851757 257.63485763 268.85421282 259.05269696 430.11394362]\n"
     ]
    },
    {
     "name": "stderr",
     "output_type": "stream",
     "text": [
      "pyswarms.single.global_best:  65%|████████████████▎        |13/20, best_cost=258"
     ]
    },
    {
     "name": "stdout",
     "output_type": "stream",
     "text": [
      "[324.37172166 658.24840646 282.1292365  729.06187632 396.38465309\n",
      " 437.94535656 477.24315465 338.01858306 582.88495203 414.92242026\n",
      " 685.90217142 402.7341014  273.42421457 539.62694955 451.99229887\n",
      " 357.06523177 257.62274155 347.48614892 320.41080555 261.94857531]\n"
     ]
    },
    {
     "name": "stderr",
     "output_type": "stream",
     "text": [
      "pyswarms.single.global_best:  70%|█████████████████▌       |14/20, best_cost=258"
     ]
    },
    {
     "name": "stdout",
     "output_type": "stream",
     "text": [
      "[388.88921106 258.51267879 510.90383244 282.77171998 529.10185225\n",
      " 602.88459629 532.78205204 433.93958951 425.5438389  257.65090975\n",
      " 389.00230913 688.17724083 330.88993242 337.41720786 484.68961129\n",
      " 325.17370974 257.63785173 467.59318239 447.87970686 394.48249928]\n"
     ]
    },
    {
     "name": "stderr",
     "output_type": "stream",
     "text": [
      "pyswarms.single.global_best:  75%|██████████████████▊      |15/20, best_cost=258"
     ]
    },
    {
     "name": "stdout",
     "output_type": "stream",
     "text": [
      "[487.44187007 295.87753247 593.96569926 400.72943784 592.32317458\n",
      " 262.34596579 582.35017575 508.67692629 309.69461884 326.33709178\n",
      " 311.11910255 258.51021947 447.18559398 272.46729853 560.54187622\n",
      " 300.71856306 257.64767861 726.15812285 474.26646799 259.52538371]\n"
     ]
    },
    {
     "name": "stderr",
     "output_type": "stream",
     "text": [
      "pyswarms.single.global_best:  80%|████████████████████     |16/20, best_cost=258"
     ]
    },
    {
     "name": "stdout",
     "output_type": "stream",
     "text": [
      "[506.26228873 392.02184761 555.36744638 509.26243357 409.95509086\n",
      " 325.27727418 491.62868061 463.61692011 270.25889632 645.12380882\n",
      " 265.63934856 293.28297977 257.65639175 261.93341721 610.47565314\n",
      " 277.05180054 257.63829917 758.95787336 419.40654716 398.46017404]\n"
     ]
    },
    {
     "name": "stderr",
     "output_type": "stream",
     "text": [
      "pyswarms.single.global_best:  85%|█████████████████████▎   |17/20, best_cost=258"
     ]
    },
    {
     "name": "stdout",
     "output_type": "stream",
     "text": [
      "[571.23512096 532.78872348 438.17277361 374.18340468 345.638416\n",
      " 470.97883429 511.42319591 307.19712485 266.17156731 261.75687485\n",
      " 261.23851655 446.48270998 312.30967281 271.41585901 370.06191906\n",
      " 294.25934027 257.6261246  495.32419842 395.21026422 715.09086275]\n"
     ]
    },
    {
     "name": "stderr",
     "output_type": "stream",
     "text": [
      "pyswarms.single.global_best:  90%|██████████████████████▌  |18/20, best_cost=258"
     ]
    },
    {
     "name": "stdout",
     "output_type": "stream",
     "text": [
      "[718.82484923 502.30421495 299.32311906 311.44007516 297.48341444\n",
      " 259.68102859 401.61011259 265.62601369 278.93349678 323.53266112\n",
      " 273.64855016 632.76482362 487.16294661 309.09984961 287.41645819\n",
      " 317.60426563 257.62224297 311.05426593 347.64259765 258.52821528]\n"
     ]
    },
    {
     "name": "stderr",
     "output_type": "stream",
     "text": [
      "pyswarms.single.global_best:  95%|███████████████████████▊ |19/20, best_cost=258"
     ]
    },
    {
     "name": "stdout",
     "output_type": "stream",
     "text": [
      "[684.14013486 377.60608694 259.25763673 277.08779817 273.56214829\n",
      " 351.1399229  361.65805689 263.09209936 303.518051   629.69561025\n",
      " 346.30166362 257.84282559 414.8787298  401.29683045 263.6035511\n",
      " 385.62556975 257.62449161 277.21408197 400.85428743 283.87053769]\n"
     ]
    },
    {
     "name": "stderr",
     "output_type": "stream",
     "text": [
      "pyswarms.single.global_best: 100%|█████████████████████████|20/20, best_cost=258\n",
      "2024-12-23 18:25:18,622 - pyswarms.single.global_best - INFO - Optimization finished | best cost: 257.62224296891037, best pos: [0.03255941 0.74466383]\n",
      "2024-12-23 18:25:18,629 - pyswarms.single.global_best - INFO - Optimize for 20 iters with {'c1': 0.5, 'c2': 0.3, 'w': 0.8}\n"
     ]
    },
    {
     "name": "stdout",
     "output_type": "stream",
     "text": [
      "[681.37532791 273.85599222 257.96139167 274.93802392 269.43886166\n",
      " 719.31238155 297.81126808 278.56858404 422.35732154 593.25396641\n",
      " 530.94715852 286.93787562 349.58617047 496.32517175 265.73421547\n",
      " 410.58979578 257.62775569 270.47811328 339.36248009 406.76062989]\n"
     ]
    },
    {
     "name": "stderr",
     "output_type": "stream",
     "text": [
      "pyswarms.single.global_best:   5%|█▎                        |1/20, best_cost=258"
     ]
    },
    {
     "name": "stdout",
     "output_type": "stream",
     "text": [
      "[380.45696535 266.6614849  259.42234094 423.58360511 260.032004\n",
      " 324.1507544  279.95441324 265.10523832 595.32916317 597.53433436\n",
      " 264.07971545 258.37276118 367.2526917  338.67504225 257.69751717\n",
      " 436.79468504 459.07062928 288.09402951 264.1327239  685.46274278]\n"
     ]
    },
    {
     "name": "stderr",
     "output_type": "stream",
     "text": [
      "pyswarms.single.global_best:  10%|██▌                       |2/20, best_cost=258"
     ]
    },
    {
     "name": "stdout",
     "output_type": "stream",
     "text": [
      "[664.01113707 294.9289099  309.20781247 608.30871016 364.66189382\n",
      " 381.5644021  293.26554929 340.50787415 257.87510978 285.75636204\n",
      " 281.28480257 307.92248801 383.94169217 492.58822652 318.79542977\n",
      " 428.70578007 257.71131868 348.52212823 270.45443606 266.37417362]\n"
     ]
    },
    {
     "name": "stderr",
     "output_type": "stream",
     "text": [
      "pyswarms.single.global_best:  15%|███▉                      |3/20, best_cost=258"
     ]
    },
    {
     "name": "stdout",
     "output_type": "stream",
     "text": [
      "[259.24881458 313.02260759 357.77006121 506.35032547 513.74070732\n",
      " 432.53652582 283.64423972 382.53615224 262.55360896 361.01091247\n",
      " 283.5733768  340.77811484 382.12074281 583.26878595 385.48820319\n",
      " 376.78995427 272.03304193 382.03549776 268.9163013  294.33373916]\n"
     ]
    },
    {
     "name": "stderr",
     "output_type": "stream",
     "text": [
      "pyswarms.single.global_best:  20%|█████▏                    |4/20, best_cost=258"
     ]
    },
    {
     "name": "stdout",
     "output_type": "stream",
     "text": [
      "[268.55798482 284.35274875 316.26864584 352.13673662 441.31567002\n",
      " 350.18716337 266.78572333 321.4375185  263.4889536  380.05395899\n",
      " 273.95830058 337.16068689 331.8809098  461.98762785 318.49600311\n",
      " 298.8166317  287.16676754 355.60138554 262.70444937 303.74373039]\n"
     ]
    },
    {
     "name": "stderr",
     "output_type": "stream",
     "text": [
      "pyswarms.single.global_best:  25%|██████▌                   |5/20, best_cost=258"
     ]
    },
    {
     "name": "stdout",
     "output_type": "stream",
     "text": [
      "[267.8661758  266.44952528 258.65169449 268.83971107 303.75961962\n",
      " 290.92905083 258.83466988 266.93400101 259.29574275 325.09127775\n",
      " 262.18770013 282.166818   296.42599919 348.3673343  267.81746919\n",
      " 260.90915103 268.37673707 277.80833123 258.07231713 288.93778671]\n"
     ]
    },
    {
     "name": "stderr",
     "output_type": "stream",
     "text": [
      "pyswarms.single.global_best:  30%|███████▊                  |6/20, best_cost=258"
     ]
    },
    {
     "name": "stdout",
     "output_type": "stream",
     "text": [
      "[259.7757273  258.43221532 478.99458456 581.86029493 258.22646219\n",
      " 264.22061615 721.58249525 659.16387523 257.76039944 273.15028242\n",
      " 257.68750752 257.68017607 269.3550277  278.73802282 678.73972491\n",
      " 617.97110895 258.53259576 729.16851375 715.44088171 268.29504953]\n"
     ]
    },
    {
     "name": "stderr",
     "output_type": "stream",
     "text": [
      "pyswarms.single.global_best:  35%|█████████                 |7/20, best_cost=258"
     ]
    },
    {
     "name": "stdout",
     "output_type": "stream",
     "text": [
      "[763.0580979  690.45971394 267.93068712 258.35786159 478.98329817\n",
      " 747.14992118 344.80624005 270.716552   720.97780914 257.97069589\n",
      " 643.50723983 466.58944369 257.88268484 257.97225455 320.88712501\n",
      " 302.57124337 651.76645762 312.66122443 314.53197626 258.21414308]\n"
     ]
    },
    {
     "name": "stderr",
     "output_type": "stream",
     "text": [
      "pyswarms.single.global_best:  40%|██████████▍               |8/20, best_cost=258"
     ]
    },
    {
     "name": "stdout",
     "output_type": "stream",
     "text": [
      "[386.49938588 330.41655502 397.08246845 302.66759868 288.37839061\n",
      " 279.1681496  776.3767971  378.48368276 326.12785232 598.79549736\n",
      " 277.54027248 272.62466519 593.12924135 542.22967065 573.38428115\n",
      " 529.32419148 272.99768152 680.4961657  504.4128023  684.57083175]\n"
     ]
    },
    {
     "name": "stderr",
     "output_type": "stream",
     "text": [
      "pyswarms.single.global_best:  45%|███████████▋              |9/20, best_cost=258"
     ]
    },
    {
     "name": "stdout",
     "output_type": "stream",
     "text": [
      "[257.98530958 257.69675935 630.47316863 395.01615395 660.20220575\n",
      " 394.27013663 316.53753041 628.17648144 612.46059918 356.44841686\n",
      " 374.57555413 402.80693139 408.54073147 281.9479755  635.97114091\n",
      " 265.0334572  414.50388624 259.79095479 259.30856383 318.34372605]\n"
     ]
    },
    {
     "name": "stderr",
     "output_type": "stream",
     "text": [
      "pyswarms.single.global_best:  50%|████████████▌            |10/20, best_cost=258"
     ]
    },
    {
     "name": "stdout",
     "output_type": "stream",
     "text": [
      "[369.07149211 395.50497991 257.64059448 607.1809741  287.14826105\n",
      " 579.53592922 438.76757312 260.05299478 260.32849235 258.17713385\n",
      " 257.68452553 257.65415046 270.42994596 456.55411974 392.85132713\n",
      " 379.88005308 436.33481827 306.57166601 331.25947754 475.29677738]\n"
     ]
    },
    {
     "name": "stderr",
     "output_type": "stream",
     "text": [
      "pyswarms.single.global_best:  55%|█████████████▊           |11/20, best_cost=258"
     ]
    },
    {
     "name": "stdout",
     "output_type": "stream",
     "text": [
      "[259.88453197 271.33605215 278.5537667  648.00542119 457.92010465\n",
      " 258.95655274 537.17058068 319.07764799 323.80131064 402.02199957\n",
      " 347.28384936 333.36742352 459.26777871 566.19888764 271.29086459\n",
      " 257.63598379 421.67588507 407.98554502 449.96597464 676.82666034]\n"
     ]
    },
    {
     "name": "stderr",
     "output_type": "stream",
     "text": [
      "pyswarms.single.global_best:  60%|███████████████          |12/20, best_cost=258"
     ]
    },
    {
     "name": "stdout",
     "output_type": "stream",
     "text": [
      "[431.86038816 514.81406493 337.91783471 257.69821157 260.83240205\n",
      " 313.34191273 448.07531785 483.68056037 443.95452232 674.56369924\n",
      " 585.97150108 689.9608559  695.94400251 558.88842146 716.77946539\n",
      " 358.5398128  413.43871874 555.46432349 675.18149644 729.34971954]\n"
     ]
    },
    {
     "name": "stderr",
     "output_type": "stream",
     "text": [
      "pyswarms.single.global_best:  65%|████████████████▎        |13/20, best_cost=258"
     ]
    },
    {
     "name": "stdout",
     "output_type": "stream",
     "text": [
      "[269.66831423 257.62587868 354.52246038 275.79861364 365.98189138\n",
      " 401.58293731 416.25007171 260.18818837 452.30977766 535.28246763\n",
      " 257.7897334  725.91887601 257.7949327  431.33569729 357.81951497\n",
      " 484.95296811 439.80610264 719.48158674 451.44959491 571.69065576]\n"
     ]
    },
    {
     "name": "stderr",
     "output_type": "stream",
     "text": [
      "pyswarms.single.global_best:  70%|█████████████████▌       |14/20, best_cost=258"
     ]
    },
    {
     "name": "stdout",
     "output_type": "stream",
     "text": [
      "[461.25424706 297.96561523 322.78995163 348.05769218 543.94263461\n",
      " 654.34470784 432.34103859 354.2712844  635.00752862 381.96474737\n",
      " 292.8498513  485.33657387 281.47071268 414.72429758 281.61001172\n",
      " 553.66976707 478.96457949 433.02865008 394.02916105 591.57190362]\n"
     ]
    },
    {
     "name": "stderr",
     "output_type": "stream",
     "text": [
      "pyswarms.single.global_best:  75%|██████████████████▊      |15/20, best_cost=258"
     ]
    },
    {
     "name": "stdout",
     "output_type": "stream",
     "text": [
      "[268.2164158  459.85566478 299.56962628 380.3340391  262.07853449\n",
      " 257.64298173 314.07822052 586.60484674 551.12554101 280.78258446\n",
      " 401.146393   363.52769881 368.2999829  405.73288353 278.37439903\n",
      " 657.59973188 461.59891924 347.97250061 300.6321233  637.9968508 ]\n"
     ]
    },
    {
     "name": "stderr",
     "output_type": "stream",
     "text": [
      "pyswarms.single.global_best:  80%|████████████████████     |16/20, best_cost=258"
     ]
    },
    {
     "name": "stdout",
     "output_type": "stream",
     "text": [
      "[399.48403767 512.78441875 278.05831303 473.84110165 341.55739511\n",
      " 277.2550518  276.41958655 258.76761519 434.76891844 258.07695739\n",
      " 590.16111591 275.59042529 418.04346917 298.04149492 287.95734892\n",
      " 423.94745191 585.50612974 291.96142607 274.0085311  257.87893463]\n"
     ]
    },
    {
     "name": "stderr",
     "output_type": "stream",
     "text": [
      "pyswarms.single.global_best:  85%|█████████████████████▎   |17/20, best_cost=258"
     ]
    },
    {
     "name": "stdout",
     "output_type": "stream",
     "text": [
      "[489.64794036 653.82788922 274.8218966  477.18342196 595.45986159\n",
      " 404.73852389 285.01733996 311.09140873 331.69176283 258.37346636\n",
      " 266.84031319 258.88262792 362.14201959 285.46878308 309.58448629\n",
      " 289.26314976 533.93121565 283.35719639 284.35405028 292.40038207]\n"
     ]
    },
    {
     "name": "stderr",
     "output_type": "stream",
     "text": [
      "pyswarms.single.global_best:  90%|██████████████████████▌  |18/20, best_cost=258"
     ]
    },
    {
     "name": "stdout",
     "output_type": "stream",
     "text": [
      "[459.87206076 556.35977672 292.6850445  605.8130979  257.68495267\n",
      " 508.12968721 294.28256878 491.99863566 267.43747977 276.63330515\n",
      " 378.73165762 261.61710486 360.87375711 290.57357795 348.71787857\n",
      " 258.33980928 386.05800053 285.33169966 336.41558087 459.29159767]\n"
     ]
    },
    {
     "name": "stderr",
     "output_type": "stream",
     "text": [
      "pyswarms.single.global_best:  95%|███████████████████████▊ |19/20, best_cost=258"
     ]
    },
    {
     "name": "stdout",
     "output_type": "stream",
     "text": [
      "[350.15643733 557.65169928 330.61110552 480.2251409  283.30130103\n",
      " 410.85121375 345.57382873 665.35658598 260.37309361 344.5141109\n",
      " 559.46276927 293.04483382 390.73166059 295.40198565 358.64979979\n",
      " 257.699543   277.40255734 307.29725089 441.35189504 257.84235751]\n"
     ]
    },
    {
     "name": "stderr",
     "output_type": "stream",
     "text": [
      "pyswarms.single.global_best: 100%|█████████████████████████|20/20, best_cost=258\n",
      "2024-12-23 18:25:50,569 - pyswarms.single.global_best - INFO - Optimization finished | best cost: 257.6258786795538, best pos: [0.02695418 3.79159563]\n",
      "2024-12-23 18:25:50,577 - pyswarms.single.global_best - INFO - Optimize for 20 iters with {'c1': 0.5, 'c2': 0.3, 'w': 0.8}\n"
     ]
    },
    {
     "name": "stdout",
     "output_type": "stream",
     "text": [
      "[269.72263383 312.14891133 338.17552693 310.52136765 403.02728091\n",
      " 348.35678068 428.39588462 546.93135949 268.97689472 376.83680834\n",
      " 258.23515833 351.46663149 345.31357889 312.80207187 360.82034929\n",
      " 268.0464603  266.58143348 322.26303546 499.46744803 328.46806579]\n"
     ]
    },
    {
     "name": "stderr",
     "output_type": "stream",
     "text": [
      "pyswarms.single.global_best:   5%|█▎                        |1/20, best_cost=259"
     ]
    },
    {
     "name": "stdout",
     "output_type": "stream",
     "text": [
      "[259.28825273 333.40179594 306.55356806 653.85844737 276.70984467\n",
      " 305.32509351 374.92308544 269.56289982 282.05848598 276.60504117\n",
      " 405.51748005 260.78856586 259.40380769 639.33815068 316.64734533\n",
      " 566.4960635  588.05034618 772.53725681 265.35976912 262.13386096]\n"
     ]
    },
    {
     "name": "stderr",
     "output_type": "stream",
     "text": [
      "pyswarms.single.global_best:  10%|██▌                       |2/20, best_cost=259"
     ]
    },
    {
     "name": "stdout",
     "output_type": "stream",
     "text": [
      "[262.99737494 420.13485457 374.44216574 525.95214931 358.35873057\n",
      " 527.65933561 463.21015883 374.71031351 284.57011081 326.46889692\n",
      " 567.29825563 329.78902299 350.72918624 671.44416076 317.25185806\n",
      " 702.71690091 743.6905595  780.52182205 394.04764127 267.14222699]\n"
     ]
    },
    {
     "name": "stderr",
     "output_type": "stream",
     "text": [
      "pyswarms.single.global_best:  15%|███▉                      |3/20, best_cost=259"
     ]
    },
    {
     "name": "stdout",
     "output_type": "stream",
     "text": [
      "[266.6057577  400.89149006 434.55201942 358.51171601 424.54062671\n",
      " 641.69534881 395.41991012 479.11970199 288.04605563 324.16528913\n",
      " 565.89695364 337.59104952 416.84599106 469.17220498 298.92358435\n",
      " 502.10670309 620.63659684 496.97839526 700.88060215 270.5244495 ]\n"
     ]
    },
    {
     "name": "stderr",
     "output_type": "stream",
     "text": [
      "pyswarms.single.global_best:  20%|█████▏                    |4/20, best_cost=259"
     ]
    },
    {
     "name": "stdout",
     "output_type": "stream",
     "text": [
      "[266.66706245 308.55855537 456.13280777 284.73631888 313.03750938\n",
      " 414.40267122 320.1716199  322.39912119 279.10003654 285.87621564\n",
      " 456.75679709 281.31584931 348.80787972 376.55229183 279.09699019\n",
      " 323.6016658  431.46329914 354.0136506  544.15598825 268.34043122]\n"
     ]
    },
    {
     "name": "stderr",
     "output_type": "stream",
     "text": [
      "pyswarms.single.global_best:  25%|██████▌                   |5/20, best_cost=259"
     ]
    },
    {
     "name": "stdout",
     "output_type": "stream",
     "text": [
      "[263.68434912 265.92321705 459.26340157 260.90134654 264.07216774\n",
      " 286.9476799  273.12436831 262.05908981 265.45800021 264.36705386\n",
      " 370.62622627 260.01284749 265.19618304 293.50923492 265.77001387\n",
      " 261.00136487 294.57858016 288.4144712  307.62855606 260.99528835]\n"
     ]
    },
    {
     "name": "stderr",
     "output_type": "stream",
     "text": [
      "pyswarms.single.global_best:  30%|███████▊                  |6/20, best_cost=259"
     ]
    },
    {
     "name": "stdout",
     "output_type": "stream",
     "text": [
      "[260.56907139 646.52584599 383.17336443 608.16368379 610.43453144\n",
      " 769.86174191 259.29974457 510.89020379 259.66846071 259.12185495\n",
      " 313.07995932 580.43856774 496.22742156 259.76481623 259.88867437\n",
      " 488.93699117 259.45104528 262.59853014 668.2268044  762.92282495]\n"
     ]
    },
    {
     "name": "stderr",
     "output_type": "stream",
     "text": [
      "pyswarms.single.global_best:  35%|█████████                 |7/20, best_cost=259"
     ]
    },
    {
     "name": "stdout",
     "output_type": "stream",
     "text": [
      "[259.33340621 298.36679456 317.12496224 280.81864291 352.71626217\n",
      " 370.69354506 550.39479726 320.61450584 690.55304433 614.98623542\n",
      " 271.37593463 371.7507727  269.78235641 544.77859066 259.24808472\n",
      " 261.91596339 487.96883763 667.74889777 265.58905182 363.13168871]\n"
     ]
    },
    {
     "name": "stderr",
     "output_type": "stream",
     "text": [
      "pyswarms.single.global_best:  40%|██████████▍               |8/20, best_cost=259"
     ]
    },
    {
     "name": "stdout",
     "output_type": "stream",
     "text": [
      "[695.36257195 530.57558315 272.64137778 420.66936816 259.64728392\n",
      " 264.63777832 391.10810234 259.10931142 424.04522804 394.11996528\n",
      " 259.42308942 262.47650068 406.97915615 346.26127784 643.80140194\n",
      " 359.36571547 298.23021933 419.46863789 334.79739963 259.9417347 ]\n"
     ]
    },
    {
     "name": "stderr",
     "output_type": "stream",
     "text": [
      "pyswarms.single.global_best:  45%|███████████▋              |9/20, best_cost=259"
     ]
    },
    {
     "name": "stdout",
     "output_type": "stream",
     "text": [
      "[315.17323171 685.4053876  259.58267681 259.88807308 406.85110193\n",
      " 483.3859654  278.78669516 385.93234144 287.83825834 260.53655352\n",
      " 574.36556142 436.83726849 551.98864671 259.43484701 367.29001919\n",
      " 495.46657814 542.50013319 290.82270667 470.11599121 393.86922191]\n"
     ]
    },
    {
     "name": "stderr",
     "output_type": "stream",
     "text": [
      "pyswarms.single.global_best:  50%|████████████▌            |10/20, best_cost=259"
     ]
    },
    {
     "name": "stdout",
     "output_type": "stream",
     "text": [
      "[463.07807115 269.64042832 596.49224421 357.76848418 259.348689\n",
      " 265.22743526 586.81007271 272.20582471 616.11770144 393.73451528\n",
      " 331.2299694  279.90617901 545.93289673 402.65914475 259.7242365\n",
      " 261.39018887 700.07650249 260.17140573 498.69609627 259.31523012]\n"
     ]
    },
    {
     "name": "stderr",
     "output_type": "stream",
     "text": [
      "pyswarms.single.global_best:  55%|█████████████▊           |11/20, best_cost=259"
     ]
    },
    {
     "name": "stdout",
     "output_type": "stream",
     "text": [
      "[616.16172392 364.94887014 370.56934311 618.49372862 361.43185118\n",
      " 391.24379178 261.78229958 625.55762607 269.95741039 715.57511575\n",
      " 575.67741136 573.10936413 379.90452835 266.17104378 399.15818367\n",
      " 351.76688608 400.29399281 478.52911276 571.54645782 326.35254153]\n"
     ]
    },
    {
     "name": "stderr",
     "output_type": "stream",
     "text": [
      "pyswarms.single.global_best:  60%|███████████████          |12/20, best_cost=259"
     ]
    },
    {
     "name": "stdout",
     "output_type": "stream",
     "text": [
      "[616.9885812  682.9286338  282.8500683  555.82008266 260.6143191\n",
      " 259.18796771 313.9822329  260.87724554 371.95877488 261.3403887\n",
      " 259.06631232 259.07356195 337.17599332 480.62586131 270.83712393\n",
      " 259.3225919  269.40935209 281.43452268 510.62916388 702.66361966]\n"
     ]
    },
    {
     "name": "stderr",
     "output_type": "stream",
     "text": [
      "pyswarms.single.global_best:  65%|████████████████▎        |13/20, best_cost=259"
     ]
    },
    {
     "name": "stdout",
     "output_type": "stream",
     "text": [
      "[518.40427894 261.04002127 654.27143633 365.91767792 413.043271\n",
      " 344.30282227 498.483777   298.78918313 444.48644813 293.65840797\n",
      " 282.74184193 283.96928679 293.66624567 267.46642068 539.61979054\n",
      " 345.96243209 703.00958269 441.92738185 369.51845332 296.39422612]\n"
     ]
    },
    {
     "name": "stderr",
     "output_type": "stream",
     "text": [
      "pyswarms.single.global_best:  70%|█████████████████▌       |14/20, best_cost=259"
     ]
    },
    {
     "name": "stdout",
     "output_type": "stream",
     "text": [
      "[311.70516807 302.82160135 259.58997536 287.07971286 260.24908485\n",
      " 561.20035796 259.13960484 422.11206659 479.66003396 427.29678079\n",
      " 394.38414588 373.32647743 281.41878989 404.75411265 260.97173178\n",
      " 260.23715025 418.09647301 575.79800879 283.0322926  532.67337241]\n"
     ]
    },
    {
     "name": "stderr",
     "output_type": "stream",
     "text": [
      "pyswarms.single.global_best:  75%|██████████████████▊      |15/20, best_cost=259"
     ]
    },
    {
     "name": "stdout",
     "output_type": "stream",
     "text": [
      "[259.70128655 465.34025504 288.20982219 264.93480789 380.97625376\n",
      " 271.73647146 311.801775   259.00732438 435.18251792 702.17725981\n",
      " 539.40054116 633.48859719 309.31794473 467.86616567 317.66399137\n",
      " 415.06529019 297.52181295 558.49986497 268.88770313 562.74061495]\n"
     ]
    },
    {
     "name": "stderr",
     "output_type": "stream",
     "text": [
      "pyswarms.single.global_best:  80%|████████████████████     |16/20, best_cost=259"
     ]
    },
    {
     "name": "stdout",
     "output_type": "stream",
     "text": [
      "[673.41770184 568.20139537 358.65967231 268.95493498 652.90240446\n",
      " 392.87506616 459.30572493 334.86289788 364.88034204 269.51623045\n",
      " 655.21332949 267.31582334 340.50339483 463.61603168 457.73474982\n",
      " 678.61165078 262.68823974 391.91156415 281.75108044 377.78439857]\n"
     ]
    },
    {
     "name": "stderr",
     "output_type": "stream",
     "text": [
      "pyswarms.single.global_best:  85%|█████████████████████▎   |17/20, best_cost=259"
     ]
    },
    {
     "name": "stdout",
     "output_type": "stream",
     "text": [
      "[459.81603463 259.30434849 414.53969655 296.40033257 259.25418228\n",
      " 507.08386464 662.8114901  537.87181676 314.18338821 360.45007234\n",
      " 261.59811677 337.08347123 370.8929027  445.68496117 465.34756327\n",
      " 259.51400487 260.80525265 278.60986133 308.02944897 266.95252382]\n"
     ]
    },
    {
     "name": "stderr",
     "output_type": "stream",
     "text": [
      "pyswarms.single.global_best:  90%|██████████████████████▌  |18/20, best_cost=259"
     ]
    },
    {
     "name": "stdout",
     "output_type": "stream",
     "text": [
      "[355.24554982 302.29959468 413.93858591 351.75455976 275.27238697\n",
      " 607.24639036 456.63407602 614.85463595 298.32042864 596.88601609\n",
      " 305.43849395 531.16028257 320.34027675 378.04588559 344.79035099\n",
      " 285.28334067 273.06700866 259.7917451  338.57522643 673.34742054]\n"
     ]
    },
    {
     "name": "stderr",
     "output_type": "stream",
     "text": [
      "pyswarms.single.global_best:  95%|███████████████████████▊ |19/20, best_cost=259"
     ]
    },
    {
     "name": "stdout",
     "output_type": "stream",
     "text": [
      "[327.27501114 391.08085026 326.12668508 372.19136034 350.85327873\n",
      " 576.95610837 440.87277122 411.69841065 300.15658504 613.01669279\n",
      " 424.77354357 260.71900356 323.17315447 318.82593248 283.69142839\n",
      " 363.4167389  320.54725287 260.21844734 435.95302458 502.16334603]\n"
     ]
    },
    {
     "name": "stderr",
     "output_type": "stream",
     "text": [
      "pyswarms.single.global_best: 100%|█████████████████████████|20/20, best_cost=259\n",
      "2024-12-23 18:26:23,047 - pyswarms.single.global_best - INFO - Optimization finished | best cost: 259.0073243812282, best pos: [0.07566948 3.73177627]\n",
      "2024-12-23 18:26:23,056 - pyswarms.single.global_best - INFO - Optimize for 20 iters with {'c1': 0.5, 'c2': 0.3, 'w': 0.8}\n"
     ]
    },
    {
     "name": "stdout",
     "output_type": "stream",
     "text": [
      "[319.86179916 477.51102021 291.80864186 524.2453586  465.42455623\n",
      " 418.634322   448.79637448 288.95172181 305.64188975 335.5136696\n",
      " 376.52043481 329.94202172 324.63251379 323.28301493 264.47042612\n",
      " 517.36402191 372.69163791 274.31572035 646.53346767 433.28180093]\n"
     ]
    },
    {
     "name": "stderr",
     "output_type": "stream",
     "text": [
      "pyswarms.single.global_best:   5%|█▎                        |1/20, best_cost=262"
     ]
    },
    {
     "name": "stdout",
     "output_type": "stream",
     "text": [
      "[569.09202528 490.24893278 389.58267554 273.31529095 262.05661593\n",
      " 318.38631706 280.7958956  477.73585768 266.27631477 593.13285498\n",
      " 429.64507024 275.31623595 317.98549602 266.49780591 283.24644999\n",
      " 264.92176844 264.94918819 450.70222553 323.37725262 658.99427311]\n"
     ]
    },
    {
     "name": "stderr",
     "output_type": "stream",
     "text": [
      "pyswarms.single.global_best:  10%|██▌                       |2/20, best_cost=261"
     ]
    },
    {
     "name": "stdout",
     "output_type": "stream",
     "text": [
      "[275.99743168 529.43156813 395.65801346 392.52929644 269.95999838\n",
      " 389.33397352 310.39413282 261.45404213 268.14900413 264.43544656\n",
      " 669.41627553 335.93944127 332.1235607  344.17209443 457.09970569\n",
      " 276.63190172 284.11360059 528.58372319 355.39811769 261.61158897]\n"
     ]
    },
    {
     "name": "stderr",
     "output_type": "stream",
     "text": [
      "pyswarms.single.global_best:  15%|███▉                      |3/20, best_cost=261"
     ]
    },
    {
     "name": "stdout",
     "output_type": "stream",
     "text": [
      "[328.2671025  450.14402029 345.0160571  441.95225033 274.84922213\n",
      " 379.12507416 305.07657199 279.09926014 264.23238317 285.72621116\n",
      " 262.13788784 353.72849696 329.68107528 399.98059877 633.68333556\n",
      " 281.5284024  296.09006055 486.78999178 368.18608795 262.14892154]\n"
     ]
    },
    {
     "name": "stderr",
     "output_type": "stream",
     "text": [
      "pyswarms.single.global_best:  20%|█████▏                    |4/20, best_cost=261"
     ]
    },
    {
     "name": "stdout",
     "output_type": "stream",
     "text": [
      "[350.46429332 325.0563143  304.19826901 320.03334828 269.55601085\n",
      " 335.64105309 283.82693356 296.22397859 262.13798443 298.14527976\n",
      " 267.88012556 324.4730648  308.87317704 371.87312982 485.56552244\n",
      " 272.06996762 279.737242   391.04718512 338.51200069 264.77595741]\n"
     ]
    },
    {
     "name": "stderr",
     "output_type": "stream",
     "text": [
      "pyswarms.single.global_best:  25%|██████▌                   |5/20, best_cost=261"
     ]
    },
    {
     "name": "stdout",
     "output_type": "stream",
     "text": [
      "[286.26823668 270.64826858 270.69004692 264.0811726  264.07101693\n",
      " 283.00032406 270.89415545 276.40397626 265.81862713 295.73537884\n",
      " 272.78026162 277.28492088 284.68470549 282.45501762 371.86027837\n",
      " 264.77789409 264.36197982 297.21806254 326.8695098  264.06055245]\n"
     ]
    },
    {
     "name": "stderr",
     "output_type": "stream",
     "text": [
      "pyswarms.single.global_best:  30%|███████▊                  |6/20, best_cost=261"
     ]
    },
    {
     "name": "stdout",
     "output_type": "stream",
     "text": [
      "[263.9806465  671.35870456 261.86486829 546.62958432 261.33625516\n",
      " 263.29618134 264.42125334 261.67605753 268.17002437 269.24088635\n",
      " 271.7173934  261.84196575 268.62295261 715.84577275 292.55034897\n",
      " 261.99922426 261.71331182 263.73402982 332.66291657 261.45396535]\n"
     ]
    },
    {
     "name": "stderr",
     "output_type": "stream",
     "text": [
      "pyswarms.single.global_best:  35%|█████████                 |7/20, best_cost=261"
     ]
    },
    {
     "name": "stdout",
     "output_type": "stream",
     "text": [
      "[656.89124709 363.2106885  618.59833474 269.17370377 261.99611483\n",
      " 684.23255811 261.63447971 598.4458406  266.95224975 261.79289114\n",
      " 263.65107707 541.52153161 262.24767213 294.69298351 262.31932473\n",
      " 262.43661016 602.11955108 631.73247904 279.02210078 261.59225456]\n"
     ]
    },
    {
     "name": "stderr",
     "output_type": "stream",
     "text": [
      "pyswarms.single.global_best:  40%|██████████▍               |8/20, best_cost=261"
     ]
    },
    {
     "name": "stdout",
     "output_type": "stream",
     "text": [
      "[288.60562975 262.15129603 285.66726572 386.6505293  690.4941099\n",
      " 303.1525033  261.8470016  274.79240822 263.31805422 631.39775846\n",
      " 261.28763109 309.10071787 261.420883   457.68161457 546.81778202\n",
      " 676.65285365 384.23505465 319.43087224 274.30190894 262.63655452]\n"
     ]
    },
    {
     "name": "stderr",
     "output_type": "stream",
     "text": [
      "pyswarms.single.global_best:  45%|███████████▋              |9/20, best_cost=261"
     ]
    },
    {
     "name": "stdout",
     "output_type": "stream",
     "text": [
      "[420.29232343 412.50342342 409.43101878 261.53288175 507.2229449\n",
      " 553.06337159 688.23933692 436.70972771 261.39312142 284.085864\n",
      " 686.92566338 261.73617168 262.53080832 599.32745022 278.51652408\n",
      " 320.54349129 267.07983787 578.81811651 266.06885781 262.58306315]\n"
     ]
    },
    {
     "name": "stderr",
     "output_type": "stream",
     "text": [
      "pyswarms.single.global_best:  50%|████████████▌            |10/20, best_cost=261"
     ]
    },
    {
     "name": "stdout",
     "output_type": "stream",
     "text": [
      "[662.31553546 265.17940861 261.5278956  370.2992755  277.55668833\n",
      " 261.35361713 355.44851652 544.42682136 262.4001773  412.51693884\n",
      " 433.08279351 418.01218009 681.08991365 659.13843962 436.22755548\n",
      " 467.86753204 482.94612394 262.42909664 750.65064026 261.49728902]\n"
     ]
    },
    {
     "name": "stderr",
     "output_type": "stream",
     "text": [
      "pyswarms.single.global_best:  55%|█████████████▊           |11/20, best_cost=261"
     ]
    },
    {
     "name": "stdout",
     "output_type": "stream",
     "text": [
      "[275.07353574 428.58953676 339.07807365 261.98090941 511.59856674\n",
      " 306.5401321  263.06798683 555.36337901 262.85285991 514.41944346\n",
      " 267.98130356 269.59469636 343.30171146 552.06922868 641.69223705\n",
      " 614.7397555  262.15786967 321.71397375 326.85062753 261.42234396]\n"
     ]
    },
    {
     "name": "stderr",
     "output_type": "stream",
     "text": [
      "pyswarms.single.global_best:  60%|███████████████          |12/20, best_cost=261"
     ]
    },
    {
     "name": "stdout",
     "output_type": "stream",
     "text": [
      "[408.70329295 261.30353038 261.55090803 403.81437155 261.32309437\n",
      " 445.92192982 456.00311279 385.67365218 261.95970211 691.08471145\n",
      " 452.12425744 470.17544691 262.09474417 629.28901924 261.4477656\n",
      " 481.40362825 339.16890373 538.20733444 566.01372823 262.26613687]\n"
     ]
    },
    {
     "name": "stderr",
     "output_type": "stream",
     "text": [
      "pyswarms.single.global_best:  65%|████████████████▎        |13/20, best_cost=261"
     ]
    },
    {
     "name": "stdout",
     "output_type": "stream",
     "text": [
      "[261.42283086 330.86967957 403.46975317 266.63164992 313.66900073\n",
      " 604.55712971 262.05786885 301.53782295 261.26923975 700.20505818\n",
      " 639.64992553 276.57678858 367.6984343  669.94386885 285.18113891\n",
      " 400.20685972 498.71039287 262.13709026 264.2005905  263.39278599]\n"
     ]
    },
    {
     "name": "stderr",
     "output_type": "stream",
     "text": [
      "pyswarms.single.global_best:  70%|█████████████████▌       |14/20, best_cost=261"
     ]
    },
    {
     "name": "stdout",
     "output_type": "stream",
     "text": [
      "[346.53902146 261.75643909 276.51162044 476.53491855 631.35386476\n",
      " 502.29363152 306.75795463 276.92381726 261.84313864 388.23842266\n",
      " 275.24888386 466.49960427 261.70745778 264.67202915 399.87991355\n",
      " 315.01810374 261.39931932 282.49054638 334.9884429  262.50103284]\n"
     ]
    },
    {
     "name": "stderr",
     "output_type": "stream",
     "text": [
      "pyswarms.single.global_best:  75%|██████████████████▊      |15/20, best_cost=261"
     ]
    },
    {
     "name": "stdout",
     "output_type": "stream",
     "text": [
      "[261.4558673  384.91849518 499.70835376 293.54644705 262.25030381\n",
      " 321.23231354 624.95971918 287.79491609 262.42985631 297.84273755\n",
      " 409.22506542 664.49872741 403.1195461  313.37018091 261.74167465\n",
      " 301.06471529 304.22836791 345.17910731 527.11616298 261.91346267]\n"
     ]
    },
    {
     "name": "stderr",
     "output_type": "stream",
     "text": [
      "pyswarms.single.global_best:  80%|████████████████████     |16/20, best_cost=261"
     ]
    },
    {
     "name": "stdout",
     "output_type": "stream",
     "text": [
      "[398.22517536 261.29547051 261.29676529 542.87819748 308.20211539\n",
      " 267.66755796 269.04730265 324.52842718 262.29477607 285.07138137\n",
      " 652.69938348 388.95653474 261.39759308 411.53402747 370.13222304\n",
      " 292.53486205 522.99847494 354.72013447 620.51308133 261.44796021]\n"
     ]
    },
    {
     "name": "stderr",
     "output_type": "stream",
     "text": [
      "pyswarms.single.global_best:  85%|█████████████████████▎   |17/20, best_cost=261"
     ]
    },
    {
     "name": "stdout",
     "output_type": "stream",
     "text": [
      "[263.79381732 367.09721781 312.69287537 281.82449976 434.56795404\n",
      " 262.49045029 349.81510438 344.48463603 261.85612871 302.9685742\n",
      " 261.47342805 298.31227572 364.40591633 627.11201252 262.03479027\n",
      " 310.24664555 265.57115253 372.13478114 400.69403894 261.27370605]\n"
     ]
    },
    {
     "name": "stderr",
     "output_type": "stream",
     "text": [
      "pyswarms.single.global_best:  90%|██████████████████████▌  |18/20, best_cost=261"
     ]
    },
    {
     "name": "stdout",
     "output_type": "stream",
     "text": [
      "[420.85897131 640.8938983  468.9768784  436.48023749 566.04428722\n",
      " 270.24480852 448.41019143 442.84429021 261.48474725 322.02767236\n",
      " 292.73619196 267.84964005 264.32425474 261.33156234 407.83127067\n",
      " 335.17174624 354.08330146 403.22012073 291.28161713 261.31950021]\n"
     ]
    },
    {
     "name": "stderr",
     "output_type": "stream",
     "text": [
      "pyswarms.single.global_best:  95%|███████████████████████▊ |19/20, best_cost=261"
     ]
    },
    {
     "name": "stdout",
     "output_type": "stream",
     "text": [
      "[262.01348602 522.28045739 262.99538494 562.23622319 261.29026093\n",
      " 324.77481991 458.59683809 261.63395122 261.27264922 342.14410958\n",
      " 399.52382924 264.53903885 459.96579411 285.31829312 261.82870921\n",
      " 346.87536481 458.58087316 354.0191872  273.28620475 261.38320546]\n"
     ]
    },
    {
     "name": "stderr",
     "output_type": "stream",
     "text": [
      "pyswarms.single.global_best: 100%|█████████████████████████|20/20, best_cost=261\n",
      "2024-12-23 18:26:54,710 - pyswarms.single.global_best - INFO - Optimization finished | best cost: 261.26923975447687, best pos: [0.10978687 3.94801093]\n",
      "2024-12-23 18:26:54,722 - pyswarms.single.global_best - INFO - Optimize for 20 iters with {'c1': 0.5, 'c2': 0.3, 'w': 0.8}\n"
     ]
    },
    {
     "name": "stdout",
     "output_type": "stream",
     "text": [
      "[313.56851391 453.57091597 355.49276767 639.24939372 294.8573425\n",
      " 513.46737723 403.77065284 315.58399994 261.449914   396.59049329\n",
      " 550.78171079 272.87287379 266.71938859 362.271697   372.83211404\n",
      " 312.72023265 480.8523569  322.83622633 292.44942577 261.31336668]\n"
     ]
    },
    {
     "name": "stderr",
     "output_type": "stream",
     "text": [
      "pyswarms.single.global_best:   5%|█▎                        |1/20, best_cost=267"
     ]
    },
    {
     "name": "stdout",
     "output_type": "stream",
     "text": [
      "[310.84151426 549.59894455 278.04491181 720.0057809  372.56460489\n",
      " 275.09696288 533.2119718  279.87642057 290.53106942 494.72162339\n",
      " 338.67665873 383.49098676 266.66290928 357.56631938 270.34470379\n",
      " 345.64177791 583.7090901  555.92024948 429.49806464 305.1097277 ]\n"
     ]
    },
    {
     "name": "stderr",
     "output_type": "stream",
     "text": [
      "pyswarms.single.global_best:  10%|██▌                       |2/20, best_cost=267"
     ]
    },
    {
     "name": "stdout",
     "output_type": "stream",
     "text": [
      "[492.56030033 268.89337325 337.96852929 285.27671943 365.12981556\n",
      " 275.62792606 565.17580743 298.20182618 493.35042138 271.38088914\n",
      " 581.98819316 360.90006194 332.29524508 420.73239969 324.34468909\n",
      " 399.53581382 276.51445048 269.95680782 676.72993678 367.16435174]\n"
     ]
    },
    {
     "name": "stderr",
     "output_type": "stream",
     "text": [
      "pyswarms.single.global_best:  15%|███▉                      |3/20, best_cost=267"
     ]
    },
    {
     "name": "stdout",
     "output_type": "stream",
     "text": [
      "[698.81148008 281.55084309 415.16334583 329.07022597 318.2852294\n",
      " 276.31666098 417.43864672 290.87624086 655.42961969 314.37036442\n",
      " 700.63209968 358.30023182 345.45198134 438.66716617 372.38088073\n",
      " 358.7736543  328.87349018 314.33231715 611.82290061 385.35324378]\n"
     ]
    },
    {
     "name": "stderr",
     "output_type": "stream",
     "text": [
      "pyswarms.single.global_best:  20%|█████▏                    |4/20, best_cost=267"
     ]
    },
    {
     "name": "stdout",
     "output_type": "stream",
     "text": [
      "[579.778012   305.28211616 468.30887315 347.89157485 278.04031498\n",
      " 273.39144261 336.70694593 276.57567298 420.95656168 321.23220507\n",
      " 550.34918119 340.36799212 279.1066933  416.41961532 399.24239005\n",
      " 303.29099496 344.20710697 317.24587234 391.79696374 384.4799418 ]\n"
     ]
    },
    {
     "name": "stderr",
     "output_type": "stream",
     "text": [
      "pyswarms.single.global_best:  25%|██████▌                   |5/20, best_cost=267"
     ]
    },
    {
     "name": "stdout",
     "output_type": "stream",
     "text": [
      "[364.39061578 290.67079395 388.86308323 309.42122426 268.8380342\n",
      " 269.81589647 282.56354998 270.02360003 281.11967721 305.58647932\n",
      " 382.76175827 314.13772227 663.62708008 332.068412   384.4065184\n",
      " 269.31960808 304.30297435 296.98785642 279.86080775 324.8198767 ]\n"
     ]
    },
    {
     "name": "stderr",
     "output_type": "stream",
     "text": [
      "pyswarms.single.global_best:  30%|███████▊                  |6/20, best_cost=265"
     ]
    },
    {
     "name": "stdout",
     "output_type": "stream",
     "text": [
      "[274.32229067 265.12250438 318.52338883 278.31079261 268.10756286\n",
      " 268.12451162 265.21624494 275.52274223 660.5594118  275.43296768\n",
      " 302.08927266 287.22607871 316.25323218 273.59970037 269.3221912\n",
      " 266.10690513 269.61456016 276.79072048 603.95471377 282.89744315]\n"
     ]
    },
    {
     "name": "stderr",
     "output_type": "stream",
     "text": [
      "pyswarms.single.global_best:  35%|█████████                 |7/20, best_cost=265"
     ]
    },
    {
     "name": "stdout",
     "output_type": "stream",
     "text": [
      "[613.83023446 593.26051184 281.79990051 266.58136457 679.04979967\n",
      " 266.59687487 619.97516058 275.17292432 296.35270313 267.52577175\n",
      " 270.18253002 271.30629701 700.41243405 265.68106066 519.12093863\n",
      " 689.12051271 652.33865131 266.59952217 272.16163083 266.15145501]\n"
     ]
    },
    {
     "name": "stderr",
     "output_type": "stream",
     "text": [
      "pyswarms.single.global_best:  40%|██████████▍               |8/20, best_cost=265"
     ]
    },
    {
     "name": "stdout",
     "output_type": "stream",
     "text": [
      "[301.04751197 365.60053765 267.89344859 658.53477518 300.75008151\n",
      " 265.86999858 379.73986966 275.37006308 549.16840441 669.85623942\n",
      " 660.14987014 265.78662577 703.48524595 617.9208336  288.33899354\n",
      " 300.96659692 274.62643591 266.63645613 381.44160369 663.54532793]\n"
     ]
    },
    {
     "name": "stderr",
     "output_type": "stream",
     "text": [
      "pyswarms.single.global_best:  45%|███████████▋              |9/20, best_cost=265"
     ]
    },
    {
     "name": "stdout",
     "output_type": "stream",
     "text": [
      "[575.94809746 270.47980878 589.78921683 364.04418739 442.5117625\n",
      " 266.12508296 272.91210342 273.43443012 272.78229599 298.97273451\n",
      " 290.86421872 265.80302628 615.75678554 286.36537002 551.49281201\n",
      " 461.963895   395.01825538 656.18001482 267.46256787 294.86136809]\n"
     ]
    },
    {
     "name": "stderr",
     "output_type": "stream",
     "text": [
      "pyswarms.single.global_best:  50%|████████████▌            |10/20, best_cost=265"
     ]
    },
    {
     "name": "stdout",
     "output_type": "stream",
     "text": [
      "[267.89926245 503.46367811 376.2715661  264.99845399 267.47719962\n",
      " 266.02907007 512.59184436 267.9194602  424.66373789 475.85536003\n",
      " 527.09134835 266.77981718 430.1326369  402.92255618 267.83702746\n",
      " 265.32698701 613.4581967  341.17804723 323.78170659 441.83989284]\n"
     ]
    },
    {
     "name": "stderr",
     "output_type": "stream",
     "text": [
      "pyswarms.single.global_best:  55%|█████████████▊           |11/20, best_cost=265"
     ]
    },
    {
     "name": "stdout",
     "output_type": "stream",
     "text": [
      "[354.45920511 276.52465031 269.82146753 396.38955938 333.26964757\n",
      " 265.47568307 265.19579993 265.06934801 267.86739075 267.51460413\n",
      " 290.50808    266.11554011 324.41820898 505.47040012 363.63619921\n",
      " 344.28773599 266.34872933 265.86125741 652.85025395 267.37411159]\n"
     ]
    },
    {
     "name": "stderr",
     "output_type": "stream",
     "text": [
      "pyswarms.single.global_best:  60%|███████████████          |12/20, best_cost=265"
     ]
    },
    {
     "name": "stdout",
     "output_type": "stream",
     "text": [
      "[650.78716018 449.4007272  504.98787608 265.39907809 573.75207583\n",
      " 265.10764764 308.64468361 265.88721155 422.44069763 382.08038422\n",
      " 576.59927002 265.29185217 279.43461826 377.41426887 519.78636646\n",
      " 266.10893085 299.95861438 477.81796638 265.06235085 311.51824319]\n"
     ]
    },
    {
     "name": "stderr",
     "output_type": "stream",
     "text": [
      "pyswarms.single.global_best:  65%|████████████████▎        |13/20, best_cost=265"
     ]
    },
    {
     "name": "stdout",
     "output_type": "stream",
     "text": [
      "[573.57404258 603.5749293  288.93163938 346.84505297 265.17705932\n",
      " 265.12630161 563.32467118 266.22302663 269.97688158 265.64280774\n",
      " 267.25038617 264.99468507 278.20981087 288.68054049 558.27173893\n",
      " 369.96457843 469.33170992 272.87677117 291.56781061 608.96892921]\n"
     ]
    },
    {
     "name": "stderr",
     "output_type": "stream",
     "text": [
      "pyswarms.single.global_best:  70%|█████████████████▌       |14/20, best_cost=265"
     ]
    },
    {
     "name": "stdout",
     "output_type": "stream",
     "text": [
      "[512.54007192 522.64158265 538.7334525  483.1760879  307.24769383\n",
      " 265.14175873 277.0417532  265.11706935 454.34905554 349.77533478\n",
      " 320.69079796 265.17974726 309.37394778 266.36888354 464.57713939\n",
      " 266.14320449 266.66012692 443.46082497 398.46194218 265.2473585 ]\n"
     ]
    },
    {
     "name": "stderr",
     "output_type": "stream",
     "text": [
      "pyswarms.single.global_best:  75%|██████████████████▊      |15/20, best_cost=265"
     ]
    },
    {
     "name": "stdout",
     "output_type": "stream",
     "text": [
      "[373.83769209 374.44887631 708.5530678  595.11908715 493.12588657\n",
      " 265.0564261  409.64041054 265.30989449 267.49652853 266.53544092\n",
      " 461.07554535 265.25670475 365.38868125 265.54119786 320.93075009\n",
      " 435.21000311 352.42448432 267.44792377 399.81000034 294.40991626]\n"
     ]
    },
    {
     "name": "stderr",
     "output_type": "stream",
     "text": [
      "pyswarms.single.global_best:  80%|████████████████████     |16/20, best_cost=265"
     ]
    },
    {
     "name": "stdout",
     "output_type": "stream",
     "text": [
      "[321.16995639 288.89001094 271.19729394 265.11122567 582.02917172\n",
      " 265.01015686 594.53218897 266.50751813 298.9762515  447.56576293\n",
      " 266.19188005 265.05087009 410.83766151 279.50819395 291.395118\n",
      " 274.97945184 265.70577444 407.00839281 318.85220938 433.12634241]\n"
     ]
    },
    {
     "name": "stderr",
     "output_type": "stream",
     "text": [
      "pyswarms.single.global_best:  85%|█████████████████████▎   |17/20, best_cost=265"
     ]
    },
    {
     "name": "stdout",
     "output_type": "stream",
     "text": [
      "[317.49247182 279.07957455 317.48261386 297.8028572  420.72386559\n",
      " 265.00843441 637.86948642 266.30075375 433.09653896 265.03749314\n",
      " 339.15352255 265.02276128 516.39793592 353.35902624 297.3684652\n",
      " 525.89880606 374.06609526 265.71376801 295.49152963 622.85504696]\n"
     ]
    },
    {
     "name": "stderr",
     "output_type": "stream",
     "text": [
      "pyswarms.single.global_best:  90%|██████████████████████▌  |18/20, best_cost=265"
     ]
    },
    {
     "name": "stdout",
     "output_type": "stream",
     "text": [
      "[310.673802   292.08898359 437.59445799 468.36233744 307.80885167\n",
      " 265.03250608 637.99492202 266.04172491 417.86432327 335.56925785\n",
      " 267.31160725 265.11584777 596.23452737 527.21311788 313.58379087\n",
      " 292.80645884 267.51235722 395.77286007 290.69841386 672.25006157]\n"
     ]
    },
    {
     "name": "stderr",
     "output_type": "stream",
     "text": [
      "pyswarms.single.global_best:  95%|███████████████████████▊ |19/20, best_cost=265"
     ]
    },
    {
     "name": "stdout",
     "output_type": "stream",
     "text": [
      "[327.50420651 317.95306004 466.70054769 267.72537586 273.35602464\n",
      " 265.04265087 511.59385152 265.56648054 357.38839729 522.53017242\n",
      " 353.65052726 265.12237148 615.06379535 266.37195412 342.76203469\n",
      " 582.47772039 326.45606141 265.30033428 331.94577052 454.31532156]\n"
     ]
    },
    {
     "name": "stderr",
     "output_type": "stream",
     "text": [
      "pyswarms.single.global_best: 100%|█████████████████████████|20/20, best_cost=265\n",
      "2024-12-23 18:27:28,379 - pyswarms.single.global_best - INFO - Optimization finished | best cost: 264.9946850694826, best pos: [0.15875108 3.9401257 ]\n",
      "2024-12-23 18:27:28,385 - pyswarms.single.global_best - INFO - Optimize for 20 iters with {'c1': 0.5, 'c2': 0.3, 'w': 0.8}\n"
     ]
    },
    {
     "name": "stdout",
     "output_type": "stream",
     "text": [
      "[328.55837271 396.7532971  422.13244113 295.76315457 272.56844761\n",
      " 265.03532316 390.51424466 265.09068325 299.57288171 267.8122176\n",
      " 674.10680401 265.03601447 474.7036411  293.59542978 455.0843583\n",
      " 273.65736024 265.7689986  347.18857948 419.05636615 335.14320052]\n"
     ]
    },
    {
     "name": "stderr",
     "output_type": "stream",
     "text": [
      "pyswarms.single.global_best:   5%|█▎                        |1/20, best_cost=272"
     ]
    },
    {
     "name": "stdout",
     "output_type": "stream",
     "text": [
      "[272.11079613 311.05843844 274.71179655 273.46063413 281.81752092\n",
      " 336.5800591  352.07871055 557.90580745 295.11887772 468.90219121\n",
      " 284.84602656 380.4881458  323.22044849 275.48302582 350.44386457\n",
      " 603.85400251 316.63915552 283.70841518 389.75294409 411.82681601]\n"
     ]
    },
    {
     "name": "stderr",
     "output_type": "stream",
     "text": [
      "pyswarms.single.global_best:  10%|██▌                       |2/20, best_cost=272"
     ]
    },
    {
     "name": "stdout",
     "output_type": "stream",
     "text": [
      "[332.21372764 365.83366089 295.18486271 278.71172217 278.99634579\n",
      " 428.06914289 511.11927362 272.53359341 305.01432264 280.86008315\n",
      " 427.47963665 453.98615425 330.03425959 275.56340855 658.63397286\n",
      " 272.40959151 308.92486386 303.90797047 448.99444895 494.08900991]\n"
     ]
    },
    {
     "name": "stderr",
     "output_type": "stream",
     "text": [
      "pyswarms.single.global_best:  15%|███▉                      |3/20, best_cost=272"
     ]
    },
    {
     "name": "stdout",
     "output_type": "stream",
     "text": [
      "[532.11903994 346.88418477 318.37374    282.26815575 273.30995519\n",
      " 411.75653181 552.98384777 287.62722309 295.32500937 344.47606648\n",
      " 497.20440078 429.07100019 301.55411126 274.97182697 603.18574181\n",
      " 277.07794034 293.93687501 319.33561463 429.20285228 456.187511  ]\n"
     ]
    },
    {
     "name": "stderr",
     "output_type": "stream",
     "text": [
      "pyswarms.single.global_best:  20%|█████▏                    |4/20, best_cost=271"
     ]
    },
    {
     "name": "stdout",
     "output_type": "stream",
     "text": [
      "[358.88134141 345.97735786 290.23051364 282.66016522 271.29587813\n",
      " 323.88865543 490.50763698 286.28692307 283.31190216 392.27394146\n",
      " 339.50878096 367.31282498 282.1199062  272.75399031 397.40933151\n",
      " 286.00507689 303.78423951 305.44303095 330.50222998 368.33169173]\n"
     ]
    },
    {
     "name": "stderr",
     "output_type": "stream",
     "text": [
      "pyswarms.single.global_best:  25%|██████▌                   |5/20, best_cost=271"
     ]
    },
    {
     "name": "stdout",
     "output_type": "stream",
     "text": [
      "[271.32067878 343.88591552 272.15322615 275.4645752  272.49401636\n",
      " 276.07043587 373.46553357 277.6026689  275.32923457 365.57750302\n",
      " 273.76114609 311.781707   272.01804194 271.54042029 287.05781669\n",
      " 274.15279858 301.78757796 276.71987392 276.62012398 310.52560861]\n"
     ]
    },
    {
     "name": "stderr",
     "output_type": "stream",
     "text": [
      "pyswarms.single.global_best:  30%|███████▊                  |6/20, best_cost=271"
     ]
    },
    {
     "name": "stdout",
     "output_type": "stream",
     "text": [
      "[420.06603559 310.07921492 557.22332052 272.73239489 273.79573413\n",
      " 273.87135293 301.76436172 271.99359135 272.51656586 288.16652507\n",
      " 432.09401757 276.83514469 272.47148815 271.29983723 273.4894599\n",
      " 272.26828922 290.79316064 271.27675283 274.40998879 281.77368399]\n"
     ]
    },
    {
     "name": "stderr",
     "output_type": "stream",
     "text": [
      "pyswarms.single.global_best:  35%|█████████                 |7/20, best_cost=271"
     ]
    },
    {
     "name": "stdout",
     "output_type": "stream",
     "text": [
      "[274.40686184 285.07026278 282.65266321 272.16559834 272.29754321\n",
      " 531.35122594 280.19461266 272.30988273 272.43074617 274.35487422\n",
      " 272.52777279 271.7032314  273.99140702 271.80463979 454.8034126\n",
      " 647.94713731 279.21179529 274.92724733 509.02156264 271.43025286]\n"
     ]
    },
    {
     "name": "stderr",
     "output_type": "stream",
     "text": [
      "pyswarms.single.global_best:  40%|██████████▍               |8/20, best_cost=271"
     ]
    },
    {
     "name": "stdout",
     "output_type": "stream",
     "text": [
      "[ 438.55593924 1027.37108211  396.24206174  272.43482079  271.35792199\n",
      "  280.2905746   275.42777316  273.05073589  272.96070879  508.67781407\n",
      "  324.13096015  646.56296297  272.90193569  271.9910859   272.11651611\n",
      "  345.82154652  272.65324023  642.22493158  278.0654574   274.10004902]\n"
     ]
    },
    {
     "name": "stderr",
     "output_type": "stream",
     "text": [
      "pyswarms.single.global_best:  45%|███████████▋              |9/20, best_cost=271"
     ]
    },
    {
     "name": "stdout",
     "output_type": "stream",
     "text": [
      "[275.18464567 300.23006872 452.45152792 272.61915111 271.43851382\n",
      " 434.58989981 714.72040636 272.14403807 272.98474315 272.46166845\n",
      " 663.17738101 357.52137214 271.31204558 271.65500614 384.67887567\n",
      " 627.08011259 271.34243575 517.65223231 410.30684831 619.36485542]\n"
     ]
    },
    {
     "name": "stderr",
     "output_type": "stream",
     "text": [
      "pyswarms.single.global_best:  50%|████████████▌            |10/20, best_cost=271"
     ]
    },
    {
     "name": "stdout",
     "output_type": "stream",
     "text": [
      "[303.87120933 359.18552443 565.36532504 272.76998074 271.96965271\n",
      " 577.80044806 367.30253542 271.30906529 272.37884905 314.00064657\n",
      " 296.45665904 272.66943748 271.8352399  271.33826441 562.31230025\n",
      " 276.89623823 272.12479745 309.56633086 271.27918986 367.09705337]\n"
     ]
    },
    {
     "name": "stderr",
     "output_type": "stream",
     "text": [
      "pyswarms.single.global_best:  55%|█████████████▊           |11/20, best_cost=271"
     ]
    },
    {
     "name": "stdout",
     "output_type": "stream",
     "text": [
      "[441.2530074  599.59505935 458.22864368 271.79388055 272.00532803\n",
      " 660.8027909  275.0629417  271.47482812 271.69718734 562.05340199\n",
      " 531.96269782 462.0278819  272.24132926 271.29326543 281.09996294\n",
      " 356.44758113 272.79873884 619.70008077 384.16183691 277.98911565]\n"
     ]
    },
    {
     "name": "stderr",
     "output_type": "stream",
     "text": [
      "pyswarms.single.global_best:  60%|███████████████          |12/20, best_cost=271"
     ]
    },
    {
     "name": "stdout",
     "output_type": "stream",
     "text": [
      "[271.58362662 275.84495368 372.41430468 271.34137532 271.76440058\n",
      " 272.36637138 503.47037173 271.67141478 271.34465208 274.86216046\n",
      " 286.92214409 271.47216859 271.88275663 271.45144239 423.43166105\n",
      " 668.46979355 272.45077249 285.56262797 271.85139662 597.10109362]\n"
     ]
    },
    {
     "name": "stderr",
     "output_type": "stream",
     "text": [
      "pyswarms.single.global_best:  65%|████████████████▎        |13/20, best_cost=271"
     ]
    },
    {
     "name": "stdout",
     "output_type": "stream",
     "text": [
      "[338.67281642 307.76496358 307.71219094 271.30057341 271.31743198\n",
      " 301.77883191 279.7489502  271.54287445 271.31213324 374.7764818\n",
      " 492.72735543 339.73746556 271.28288841 271.56525602 271.32927264\n",
      " 640.19230681 271.85583605 471.66272896 379.4482271  298.81720139]\n"
     ]
    },
    {
     "name": "stderr",
     "output_type": "stream",
     "text": [
      "pyswarms.single.global_best:  70%|█████████████████▌       |14/20, best_cost=271"
     ]
    },
    {
     "name": "stdout",
     "output_type": "stream",
     "text": [
      "[628.02515644 474.27374151 301.25716491 271.52861219 271.33383383\n",
      " 397.76820359 442.58268857 271.3770407  271.47854211 632.06263916\n",
      " 272.55244754 275.58962699 271.41988668 271.46412475 369.15226323\n",
      " 422.85257518 271.56457774 271.7169834  271.41848906 516.69416005]\n"
     ]
    },
    {
     "name": "stderr",
     "output_type": "stream",
     "text": [
      "pyswarms.single.global_best:  75%|██████████████████▊      |15/20, best_cost=271"
     ]
    },
    {
     "name": "stdout",
     "output_type": "stream",
     "text": [
      "[271.87920559 532.71148443 313.71032895 271.61683469 271.55343819\n",
      " 273.07525597 271.5363495  271.47550746 271.59669149 273.3083512\n",
      " 308.72175609 355.29793487 271.73766686 271.33105992 272.973777\n",
      " 390.23340318 271.77168609 327.18527769 388.40204107 271.30822798]\n"
     ]
    },
    {
     "name": "stderr",
     "output_type": "stream",
     "text": [
      "pyswarms.single.global_best:  80%|████████████████████     |16/20, best_cost=271"
     ]
    },
    {
     "name": "stdout",
     "output_type": "stream",
     "text": [
      "[326.38995778 573.41562257 326.34727743 271.46448963 271.73915149\n",
      " 334.82338848 345.61206238 271.56384854 271.57165233 283.2802867\n",
      " 585.49661226 274.67182841 271.72581238 271.28042001 353.37892819\n",
      " 318.81633506 271.61338761 470.9491386  271.52995224 324.59795114]\n"
     ]
    },
    {
     "name": "stderr",
     "output_type": "stream",
     "text": [
      "pyswarms.single.global_best:  85%|█████████████████████▎   |17/20, best_cost=271"
     ]
    },
    {
     "name": "stdout",
     "output_type": "stream",
     "text": [
      "[530.62909165 555.78823463 318.88411562 271.3049899  271.57394893\n",
      " 637.32558393 490.52683747 271.61514839 271.40067372 385.31167819\n",
      " 286.64850346 523.5152639  271.40753118 271.30365632 274.82055677\n",
      " 290.91181284 271.28827858 634.05711613 379.39153845 274.10375925]\n"
     ]
    },
    {
     "name": "stderr",
     "output_type": "stream",
     "text": [
      "pyswarms.single.global_best:  90%|██████████████████████▌  |18/20, best_cost=271"
     ]
    },
    {
     "name": "stdout",
     "output_type": "stream",
     "text": [
      "[271.2717079  424.79863308 346.60030259 271.2814279  271.3644903\n",
      " 272.32852246 651.92656924 271.49360928 271.2876787  637.14329047\n",
      " 423.50619315 281.67140651 271.26539016 271.31416701 336.12132992\n",
      " 278.7925757  271.32828787 480.70921623 271.42985252 385.59840411]\n"
     ]
    },
    {
     "name": "stderr",
     "output_type": "stream",
     "text": [
      "pyswarms.single.global_best:  95%|███████████████████████▊ |19/20, best_cost=271"
     ]
    },
    {
     "name": "stdout",
     "output_type": "stream",
     "text": [
      "[323.91088961 336.85015862 356.86557895 271.33633883 271.27471391\n",
      " 327.36488671 275.1202211  271.37272172 271.32551233 275.21172701\n",
      " 601.47482136 481.41038192 271.36853042 271.30188473 644.73168566\n",
      " 280.49730811 271.44960475 332.49684482 393.99843591 278.70600518]\n"
     ]
    },
    {
     "name": "stderr",
     "output_type": "stream",
     "text": [
      "pyswarms.single.global_best: 100%|█████████████████████████|20/20, best_cost=271\n",
      "2024-12-23 18:28:00,337 - pyswarms.single.global_best - INFO - Optimization finished | best cost: 271.26539015902034, best pos: [0.20645229 3.9325495 ]\n",
      "2024-12-23 18:28:00,344 - pyswarms.single.global_best - INFO - Optimize for 20 iters with {'c1': 0.5, 'c2': 0.3, 'w': 0.8}\n"
     ]
    },
    {
     "name": "stdout",
     "output_type": "stream",
     "text": [
      "[479.37865818 307.39165407 384.55541326 271.3540487  271.36727526\n",
      " 487.5737346  276.98073756 271.34427366 271.36151421 337.17128828\n",
      " 421.00863349 271.7603289  271.39309689 271.26998764 279.34614612\n",
      " 292.27711928 271.45704498 291.01802372 278.50950371 619.12116427]\n"
     ]
    },
    {
     "name": "stderr",
     "output_type": "stream",
     "text": [
      "pyswarms.single.global_best:   5%|█▎                        |1/20, best_cost=284"
     ]
    },
    {
     "name": "stdout",
     "output_type": "stream",
     "text": [
      "[ 316.28600403  303.77071251  417.59978364  287.83773382  345.0125835\n",
      "  530.07396298  294.95901165  295.61758358  288.42207852  326.81827484\n",
      "  402.38875595  289.49345108  520.00687746  361.10213247  478.30786298\n",
      "  311.50713641  397.03746379  283.93372562 1054.28369244  459.62767807]\n"
     ]
    },
    {
     "name": "stderr",
     "output_type": "stream",
     "text": [
      "pyswarms.single.global_best:  10%|██▌                       |2/20, best_cost=284"
     ]
    },
    {
     "name": "stdout",
     "output_type": "stream",
     "text": [
      "[428.67083999 343.30499742 410.74179728 384.8161895  385.76361687\n",
      " 477.33981631 306.32431611 322.54330979 343.43169437 333.47390082\n",
      " 285.48902378 389.51256209 886.65097313 407.01719455 558.92134516\n",
      " 313.29632148 694.51716245 290.00080486 292.78544623 630.68873571]\n"
     ]
    },
    {
     "name": "stderr",
     "output_type": "stream",
     "text": [
      "pyswarms.single.global_best:  15%|███▉                      |3/20, best_cost=281"
     ]
    },
    {
     "name": "stdout",
     "output_type": "stream",
     "text": [
      "[454.70378699 338.91489635 380.91053887 534.80040486 338.14658023\n",
      " 396.14093936 281.39419574 341.43287613 360.75087783 318.25543955\n",
      " 321.55251302 425.74299563 672.14263971 348.01435587 481.79804834\n",
      " 321.86466501 286.1674571  291.91241169 296.12044761 282.67320189]\n"
     ]
    },
    {
     "name": "stderr",
     "output_type": "stream",
     "text": [
      "pyswarms.single.global_best:  20%|█████▏                    |4/20, best_cost=281"
     ]
    },
    {
     "name": "stdout",
     "output_type": "stream",
     "text": [
      "[443.24434618 308.15750581 327.45537921 406.84194932 304.17498291\n",
      " 324.9952793  343.26020456 312.1348788  307.58883627 298.25209221\n",
      " 418.60105826 439.77035625 502.63494995 302.68770015 361.82024462\n",
      " 306.39906905 288.1524184  285.35225097 295.01510907 282.10058065]\n"
     ]
    },
    {
     "name": "stderr",
     "output_type": "stream",
     "text": [
      "pyswarms.single.global_best:  25%|██████▌                   |5/20, best_cost=281"
     ]
    },
    {
     "name": "stdout",
     "output_type": "stream",
     "text": [
      "[362.96040432 288.12293489 288.64950714 287.89969132 305.89765319\n",
      " 297.44752421 287.18250064 291.71606354 285.30261778 284.4897447\n",
      " 307.23153718 320.76400524 384.10190023 342.46846231 302.89059245\n",
      " 291.7804909  301.72627312 282.11545809 297.40799434 289.61201947]\n"
     ]
    },
    {
     "name": "stderr",
     "output_type": "stream",
     "text": [
      "pyswarms.single.global_best:  30%|███████▊                  |6/20, best_cost=280"
     ]
    },
    {
     "name": "stdout",
     "output_type": "stream",
     "text": [
      "[297.75392701 282.69209327 280.73716922 597.55620546 302.0999861\n",
      " 285.46086356 348.19755108 283.4577783  666.35109543 280.34929749\n",
      " 280.86859354 789.14964994 308.61753243 346.56338951 283.65618054\n",
      " 286.00014163 314.97971639 283.04693926 302.61849103 296.06356424]\n"
     ]
    },
    {
     "name": "stderr",
     "output_type": "stream",
     "text": [
      "pyswarms.single.global_best:  35%|█████████                 |7/20, best_cost=280"
     ]
    },
    {
     "name": "stdout",
     "output_type": "stream",
     "text": [
      "[845.24863643 284.16626851 287.35908171 306.48806345 290.60831952\n",
      " 284.55010083 296.11508898 281.5002084  339.23388051 283.42354493\n",
      " 572.16419935 915.82423342 283.87036602 328.86295406 281.53638114\n",
      " 282.99369941 288.16996576 284.75152821 294.47268784 293.49282549]\n"
     ]
    },
    {
     "name": "stderr",
     "output_type": "stream",
     "text": [
      "pyswarms.single.global_best:  40%|██████████▍               |8/20, best_cost=280"
     ]
    },
    {
     "name": "stdout",
     "output_type": "stream",
     "text": [
      "[346.73010369 287.98207232 640.43191782 508.89311775 286.22656462\n",
      " 656.4702045  304.26196643 283.08997678 282.73670326 640.58110905\n",
      " 421.98718516 558.61919039 281.32194864 290.106531   287.08235437\n",
      " 284.54304724 285.54178039 283.49450162 289.33391615 284.31841517]\n"
     ]
    },
    {
     "name": "stderr",
     "output_type": "stream",
     "text": [
      "pyswarms.single.global_best:  45%|███████████▋              |9/20, best_cost=280"
     ]
    },
    {
     "name": "stdout",
     "output_type": "stream",
     "text": [
      "[656.01652675 284.43800052 300.69487207 285.15372664 286.08510321\n",
      " 394.23498256 283.20167943 284.65220316 452.90331667 330.61620176\n",
      " 298.43131396 441.41291812 287.59625962 280.52237217 638.98554508\n",
      " 284.64421717 775.49519578 281.0936913  801.11609231 280.32905278]\n"
     ]
    },
    {
     "name": "stderr",
     "output_type": "stream",
     "text": [
      "pyswarms.single.global_best:  50%|████████████▌            |10/20, best_cost=280"
     ]
    },
    {
     "name": "stdout",
     "output_type": "stream",
     "text": [
      "[302.05104433 280.77342556 492.99710742 317.98793956 287.87642079\n",
      " 282.34890126 308.30740443 282.98584624 284.3017055  640.25581788\n",
      " 283.7688143  409.03591869 601.26019306 284.3661353  341.83375485\n",
      " 282.47473149 377.52516492 280.64423927 444.61916521 281.37800671]\n"
     ]
    },
    {
     "name": "stderr",
     "output_type": "stream",
     "text": [
      "pyswarms.single.global_best:  55%|█████████████▊           |11/20, best_cost=280"
     ]
    },
    {
     "name": "stdout",
     "output_type": "stream",
     "text": [
      "[560.89985885 282.02877862 285.445835   545.58801021 288.15205952\n",
      " 385.31564178 298.16361542 281.23764581 425.90297677 280.59212083\n",
      " 495.34128106 464.21163938 315.99700168 287.73321543 285.83140792\n",
      " 281.46066558 286.10895267 282.26443573 304.08145433 282.08575476]\n"
     ]
    },
    {
     "name": "stderr",
     "output_type": "stream",
     "text": [
      "pyswarms.single.global_best:  60%|███████████████          |12/20, best_cost=280"
     ]
    },
    {
     "name": "stdout",
     "output_type": "stream",
     "text": [
      "[297.40731119 285.11862457 410.24919028 622.91221944 286.53229695\n",
      " 281.52890908 284.46470716 281.32445233 281.23573892 311.63184796\n",
      " 288.77932336 530.02850056 625.30325805 288.5581101  370.93526496\n",
      " 281.35478808 388.58408453 283.0956196  566.25392361 281.29261337]\n"
     ]
    },
    {
     "name": "stderr",
     "output_type": "stream",
     "text": [
      "pyswarms.single.global_best:  65%|████████████████▎        |13/20, best_cost=280"
     ]
    },
    {
     "name": "stdout",
     "output_type": "stream",
     "text": [
      "[579.62445425 285.19070643 553.99899902 519.20816409 282.55862794\n",
      " 387.5943011  317.78868551 282.5402757  411.9027076  425.19415632\n",
      " 469.93827827 388.74204397 280.88403735 284.88940554 283.92470902\n",
      " 281.9634415  281.26311112 281.60686973 283.40790828 280.42930856]\n"
     ]
    },
    {
     "name": "stderr",
     "output_type": "stream",
     "text": [
      "pyswarms.single.global_best:  70%|█████████████████▌       |14/20, best_cost=280"
     ]
    },
    {
     "name": "stdout",
     "output_type": "stream",
     "text": [
      "[282.54036512 283.06149616 611.65174896 540.24361706 280.5405171\n",
      " 280.98034377 323.97621443 283.05515836 287.55918114 550.19452494\n",
      " 280.43686176 321.6718902  309.366891   280.81992873 353.21172141\n",
      " 282.57273896 452.95287736 280.29240536 335.26596986 280.73231144]\n"
     ]
    },
    {
     "name": "stderr",
     "output_type": "stream",
     "text": [
      "pyswarms.single.global_best:  75%|██████████████████▊      |15/20, best_cost=280"
     ]
    },
    {
     "name": "stdout",
     "output_type": "stream",
     "text": [
      "[339.79792531 281.56136558 445.50199748 401.12576487 281.03563515\n",
      " 388.48325013 306.95874553 280.96685492 310.45381731 283.91058006\n",
      " 365.75274399 329.77199846 393.68077844 282.6755939  280.89229819\n",
      " 281.81480785 282.26605238 280.89250162 470.48933166 281.71549832]\n"
     ]
    },
    {
     "name": "stderr",
     "output_type": "stream",
     "text": [
      "pyswarms.single.global_best:  80%|████████████████████     |16/20, best_cost=280"
     ]
    },
    {
     "name": "stdout",
     "output_type": "stream",
     "text": [
      "[538.71593238 280.59318821 322.45735356 408.80068868 283.07824566\n",
      " 280.52834604 283.69916248 280.53572911 625.27309863 300.65509984\n",
      " 280.85660033 384.78198325 504.37262145 285.46357117 508.05088293\n",
      " 280.73583352 434.25784565 281.32275991 673.45450049 281.76234768]\n"
     ]
    },
    {
     "name": "stderr",
     "output_type": "stream",
     "text": [
      "pyswarms.single.global_best:  85%|█████████████████████▎   |17/20, best_cost=280"
     ]
    },
    {
     "name": "stdout",
     "output_type": "stream",
     "text": [
      "[632.87390861 280.6140805  291.20593386 328.05621568 282.68396289\n",
      " 448.91439099 284.4386336  281.05311553 289.15177999 515.23461196\n",
      " 428.11561205 427.49952269 628.13595444 286.20268848 281.69873533\n",
      " 280.29973435 283.22345391 281.22065106 449.61754764 281.37645002]\n"
     ]
    },
    {
     "name": "stderr",
     "output_type": "stream",
     "text": [
      "pyswarms.single.global_best:  90%|██████████████████████▌  |18/20, best_cost=280"
     ]
    },
    {
     "name": "stdout",
     "output_type": "stream",
     "text": [
      "[285.40548436 280.73819717 297.41788228 312.83221044 280.62431703\n",
      " 280.19366433 297.97014323 281.27623955 431.2740757  283.18982606\n",
      " 286.33693505 525.39726624 281.69128807 283.83579365 324.19052272\n",
      " 280.3928066  458.74518454 280.39000705 386.2870291  280.43207898]\n"
     ]
    },
    {
     "name": "stderr",
     "output_type": "stream",
     "text": [
      "pyswarms.single.global_best:  95%|███████████████████████▊ |19/20, best_cost=280"
     ]
    },
    {
     "name": "stdout",
     "output_type": "stream",
     "text": [
      "[289.01531649 280.60802005 324.49463041 326.55220836 280.58195969\n",
      " 386.83761541 305.8083055  280.93611435 283.94871835 388.73258428\n",
      " 519.52129817 540.58168442 300.81576772 280.26628829 590.17475241\n",
      " 280.48395939 281.82480702 280.76592811 365.23523641 280.29341453]\n"
     ]
    },
    {
     "name": "stderr",
     "output_type": "stream",
     "text": [
      "pyswarms.single.global_best: 100%|█████████████████████████|20/20, best_cost=280\n",
      "2024-12-23 18:28:32,374 - pyswarms.single.global_best - INFO - Optimization finished | best cost: 280.19366432728486, best pos: [0.27979176 3.92714694]\n",
      "2024-12-23 18:28:32,385 - pyswarms.single.global_best - INFO - Optimize for 20 iters with {'c1': 0.5, 'c2': 0.3, 'w': 0.8}\n"
     ]
    },
    {
     "name": "stdout",
     "output_type": "stream",
     "text": [
      "[396.89760359 280.37379103 464.28771635 318.91597136 281.28828119\n",
      " 280.22406817 311.67870033 280.52432744 332.53391613 610.2607437\n",
      " 281.9894582  420.21425149 385.76563066 281.87142327 280.6760932\n",
      " 280.39691251 345.58621213 281.09934852 366.07722847 280.56136149]\n"
     ]
    },
    {
     "name": "stderr",
     "output_type": "stream",
     "text": [
      "pyswarms.single.global_best:   5%|█▎                        |1/20, best_cost=307"
     ]
    },
    {
     "name": "stdout",
     "output_type": "stream",
     "text": [
      "[515.35058932 514.09423715 307.10170752 420.81513805 387.61794055\n",
      " 363.84283904 484.48367552 388.86247459 307.67573    476.32450025\n",
      " 353.05944913 605.51304745 577.54717416 918.97057086 417.3474096\n",
      " 897.55035153 354.54839655 341.40841709 727.58851671 315.88296283]\n"
     ]
    },
    {
     "name": "stderr",
     "output_type": "stream",
     "text": [
      "pyswarms.single.global_best:  10%|██▌                       |2/20, best_cost=300"
     ]
    },
    {
     "name": "stdout",
     "output_type": "stream",
     "text": [
      "[301.46458146 300.40209453 358.11880022 515.46193577 410.42302798\n",
      " 413.01184887 594.33600766 582.24403883 327.14747007 636.39143114\n",
      " 421.31598353 655.85300296 306.63820512 325.59228233 461.71501102\n",
      " 377.86907337 424.60564012 439.623562   305.00701851 366.32733001]\n"
     ]
    },
    {
     "name": "stderr",
     "output_type": "stream",
     "text": [
      "pyswarms.single.global_best:  15%|███▉                      |3/20, best_cost=294"
     ]
    },
    {
     "name": "stdout",
     "output_type": "stream",
     "text": [
      "[334.8999854  294.08404523 386.49190736 478.6064773  394.40763686\n",
      " 418.58203451 306.27843261 531.3242184  329.8205609  527.43923002\n",
      " 419.71171086 494.71793046 319.34004516 353.49474575 424.58924106\n",
      " 536.20229932 412.38406425 389.88906191 309.52453728 409.57733944]\n"
     ]
    },
    {
     "name": "stderr",
     "output_type": "stream",
     "text": [
      "pyswarms.single.global_best:  20%|█████▏                    |4/20, best_cost=294"
     ]
    },
    {
     "name": "stdout",
     "output_type": "stream",
     "text": [
      "[368.52841314 299.41686777 367.04712366 390.55674335 357.90965037\n",
      " 350.00049266 299.56333752 368.36572701 310.88008029 385.6796739\n",
      " 350.41526402 353.16696643 327.85972914 344.57696803 354.37474394\n",
      " 564.0948031  357.55219322 324.43164555 314.29140849 397.26518655]\n"
     ]
    },
    {
     "name": "stderr",
     "output_type": "stream",
     "text": [
      "pyswarms.single.global_best:  25%|██████▌                   |5/20, best_cost=294"
     ]
    },
    {
     "name": "stdout",
     "output_type": "stream",
     "text": [
      "[321.00308708 305.68649948 344.03481722 320.13713829 324.03336045\n",
      " 313.10196296 296.09748854 310.38277987 299.29140501 312.25607421\n",
      " 311.48599253 298.88072477 309.50624316 310.75321408 308.3949728\n",
      " 380.97119656 325.61348989 300.04017215 305.62476456 324.7006054 ]\n"
     ]
    },
    {
     "name": "stderr",
     "output_type": "stream",
     "text": [
      "pyswarms.single.global_best:  30%|███████▊                  |6/20, best_cost=294"
     ]
    },
    {
     "name": "stdout",
     "output_type": "stream",
     "text": [
      "[297.42956659 305.24596733 321.82364124 296.07301822 300.29968077\n",
      " 297.44353295 295.59496468 294.92459392 300.92660208 294.05550941\n",
      " 297.26541801 294.73548889 297.52760464 299.77994411 293.67996989\n",
      " 303.2127405  306.16483557 293.62720352 297.70357417 306.66112767]\n"
     ]
    },
    {
     "name": "stderr",
     "output_type": "stream",
     "text": [
      "pyswarms.single.global_best:  35%|█████████                 |7/20, best_cost=294"
     ]
    },
    {
     "name": "stdout",
     "output_type": "stream",
     "text": [
      "[613.47013894 295.73081323 308.98855952 298.85667393 293.84617492\n",
      " 293.89887069 296.60627326 632.52991767 303.32533068 298.01192463\n",
      " 294.0451591  301.58991812 293.68550761 300.78702157 300.35502669\n",
      " 300.20081288 298.25800905 296.26398299 294.30701837 680.39013576]\n"
     ]
    },
    {
     "name": "stderr",
     "output_type": "stream",
     "text": [
      "pyswarms.single.global_best:  40%|██████████▍               |8/20, best_cost=294"
     ]
    },
    {
     "name": "stdout",
     "output_type": "stream",
     "text": [
      "[299.22580859 294.012872   814.372723   301.29057583 295.52227169\n",
      " 295.7299576  296.13421287 360.10290868 300.25228404 301.12184746\n",
      " 295.90217421 303.6346421  294.3635556  300.49537271 603.21780658\n",
      " 502.84773393 300.06084702 300.36807433 293.67384128 316.87885735]\n"
     ]
    },
    {
     "name": "stderr",
     "output_type": "stream",
     "text": [
      "pyswarms.single.global_best:  45%|███████████▋              |9/20, best_cost=294"
     ]
    },
    {
     "name": "stdout",
     "output_type": "stream",
     "text": [
      "[406.54833336 298.3579013  548.04589936 297.48948841 296.50816014\n",
      " 297.41944235 294.98730412 294.72155677 296.92033975 299.35765521\n",
      " 297.70914438 299.49232395 295.69360297 298.35163529 353.26607289\n",
      " 300.56160728 302.72174621 297.04637136 294.68265378 431.81651467]\n"
     ]
    },
    {
     "name": "stderr",
     "output_type": "stream",
     "text": [
      "pyswarms.single.global_best:  50%|████████████▌            |10/20, best_cost=294"
     ]
    },
    {
     "name": "stdout",
     "output_type": "stream",
     "text": [
      "[461.27655158 303.00787388 318.42889827 293.60251942 294.89905499\n",
      " 295.120246   294.11373407 429.77215963 296.10464529 294.37419104\n",
      " 297.46002033 295.7294179  295.55131818 297.22689451 294.34864836\n",
      " 516.12968165 300.73793572 294.32099825 294.89353951 507.6591706 ]\n"
     ]
    },
    {
     "name": "stderr",
     "output_type": "stream",
     "text": [
      "pyswarms.single.global_best:  55%|█████████████▊           |11/20, best_cost=294"
     ]
    },
    {
     "name": "stdout",
     "output_type": "stream",
     "text": [
      "[529.38026016 298.06538501 500.40431685 296.34532461 294.34364196\n",
      " 293.68230078 293.71262084 294.60326758 296.74484691 294.39134784\n",
      " 295.77604849 294.47019959 294.21778682 295.99199605 460.68237206\n",
      " 295.35493482 296.17177757 293.97893498 294.04119802 523.6065544 ]\n"
     ]
    },
    {
     "name": "stderr",
     "output_type": "stream",
     "text": [
      "pyswarms.single.global_best:  60%|███████████████          |12/20, best_cost=294"
     ]
    },
    {
     "name": "stdout",
     "output_type": "stream",
     "text": [
      "[537.22579793 293.97896208 302.14201929 299.80906805 294.40788891\n",
      " 294.03058865 293.60029021 475.5980319  296.94351924 297.19512229\n",
      " 294.07547481 295.94900948 293.81549884 294.90675363 296.93535773\n",
      " 426.2100505  293.86887062 296.04322561 293.59615241 305.95350777]\n"
     ]
    },
    {
     "name": "stderr",
     "output_type": "stream",
     "text": [
      "pyswarms.single.global_best:  65%|████████████████▎        |13/20, best_cost=294"
     ]
    },
    {
     "name": "stdout",
     "output_type": "stream",
     "text": [
      "[446.68716856 294.00137228 347.91573101 299.3463148  294.81285615\n",
      " 294.96251076 293.65653525 305.26892166 294.81893312 300.28043502\n",
      " 293.73423359 298.0065679  294.57153677 294.28290404 488.41878384\n",
      " 297.82885177 294.00122306 296.93177611 293.87230496 301.63740121]\n"
     ]
    },
    {
     "name": "stderr",
     "output_type": "stream",
     "text": [
      "pyswarms.single.global_best:  70%|█████████████████▌       |14/20, best_cost=294"
     ]
    },
    {
     "name": "stdout",
     "output_type": "stream",
     "text": [
      "[333.85854777 294.68688902 521.15471733 297.09898074 294.20386142\n",
      " 295.21837682 293.68672048 577.41153414 293.92306615 299.41831403\n",
      " 294.7465868  297.02128032 295.08115411 294.52854424 293.70132578\n",
      " 363.71225281 294.34304732 294.78098408 294.16757043 459.78349437]\n"
     ]
    },
    {
     "name": "stderr",
     "output_type": "stream",
     "text": [
      "pyswarms.single.global_best:  75%|██████████████████▊      |15/20, best_cost=294"
     ]
    },
    {
     "name": "stdout",
     "output_type": "stream",
     "text": [
      "[305.4911383  294.54366975 571.95014972 294.85547607 293.67132692\n",
      " 294.76887479 293.65559863 315.30013708 293.81067443 294.41874692\n",
      " 295.14247561 294.25866333 294.41427276 295.41380857 379.24521541\n",
      " 293.70450782 293.99179866 293.63281953 294.03295203 294.88787812]\n"
     ]
    },
    {
     "name": "stderr",
     "output_type": "stream",
     "text": [
      "pyswarms.single.global_best:  80%|████████████████████     |16/20, best_cost=294"
     ]
    },
    {
     "name": "stdout",
     "output_type": "stream",
     "text": [
      "[305.35176864 293.77224683 512.02995136 293.69124382 293.66177934\n",
      " 293.79826505 293.60633178 641.17700986 293.96836787 293.96129141\n",
      " 294.9115211  293.74707323 293.83596504 295.79166429 293.9898377\n",
      " 492.63949678 293.64780096 294.00216436 293.60542149 382.17032589]\n"
     ]
    },
    {
     "name": "stderr",
     "output_type": "stream",
     "text": [
      "pyswarms.single.global_best:  85%|█████████████████████▎   |17/20, best_cost=294"
     ]
    },
    {
     "name": "stdout",
     "output_type": "stream",
     "text": [
      "[320.15192918 293.61913186 415.46817709 294.01773887 293.89187285\n",
      " 293.86813699 293.59720034 295.00242628 293.88883691 296.23192946\n",
      " 293.93323406 294.29582585 293.79431138 294.29082423 437.28426997\n",
      " 316.43119028 293.61648041 294.70048244 293.75025881 576.79919731]\n"
     ]
    },
    {
     "name": "stderr",
     "output_type": "stream",
     "text": [
      "pyswarms.single.global_best:  90%|██████████████████████▌  |18/20, best_cost=294"
     ]
    },
    {
     "name": "stdout",
     "output_type": "stream",
     "text": [
      "[344.21912527 293.89757449 450.08634262 294.59463532 294.03317329\n",
      " 294.56214965 293.64175211 377.94034345 293.76540101 298.20908503\n",
      " 293.61269982 295.13112423 293.70482539 293.9883441  293.59768209\n",
      " 305.51683865 293.74355191 294.55023143 294.05530866 300.03888093]\n"
     ]
    },
    {
     "name": "stderr",
     "output_type": "stream",
     "text": [
      "pyswarms.single.global_best:  95%|███████████████████████▊ |19/20, best_cost=294"
     ]
    },
    {
     "name": "stdout",
     "output_type": "stream",
     "text": [
      "[432.75583872 294.18181997 378.1608262  294.48091117 293.95760339\n",
      " 294.76253204 293.65986923 586.43182615 293.62870461 295.41804887\n",
      " 293.86238635 295.00099126 293.61974606 294.67039522 413.01240053\n",
      " 398.24564656 293.75786566 294.10690956 294.03383832 310.88420324]\n"
     ]
    },
    {
     "name": "stderr",
     "output_type": "stream",
     "text": [
      "pyswarms.single.global_best: 100%|█████████████████████████|20/20, best_cost=294\n",
      "2024-12-23 18:29:07,423 - pyswarms.single.global_best - INFO - Optimization finished | best cost: 293.5920071311936, best pos: [0.30694485 3.92756532]\n",
      "2024-12-23 18:29:07,430 - pyswarms.single.global_best - INFO - Optimize for 20 iters with {'c1': 0.5, 'c2': 0.3, 'w': 0.8}\n"
     ]
    },
    {
     "name": "stdout",
     "output_type": "stream",
     "text": [
      "[491.85778111 293.81811194 330.48032728 294.30390274 293.76555111\n",
      " 294.05656241 293.6381253  547.92076558 293.59200713 293.81863666\n",
      " 294.06011715 294.81363732 293.62384172 295.40702376 293.75701832\n",
      " 307.48339274 293.64975943 294.07142222 293.67581876 460.55992744]\n"
     ]
    },
    {
     "name": "stderr",
     "output_type": "stream",
     "text": [
      "pyswarms.single.global_best:   5%|█▎                        |1/20, best_cost=312"
     ]
    },
    {
     "name": "stdout",
     "output_type": "stream",
     "text": [
      "[370.27789125 325.85835451 365.77655521 353.91201223 627.22243197\n",
      " 329.14257038 688.31322197 336.52886494 371.37786021 394.41641002\n",
      " 379.83628889 361.22203819 370.12046415 336.32686837 381.50402481\n",
      " 322.26869318 628.48232823 686.17166992 311.95231749 330.17178321]\n"
     ]
    },
    {
     "name": "stderr",
     "output_type": "stream",
     "text": [
      "pyswarms.single.global_best:  10%|██▌                       |2/20, best_cost=312"
     ]
    },
    {
     "name": "stdout",
     "output_type": "stream",
     "text": [
      "[560.23867941 325.56719126 395.6979515  546.90333457 316.09746208\n",
      " 559.16387251 335.69496387 443.04864676 445.22589278 544.2482492\n",
      " 396.20888919 554.78531341 568.69511943 340.9052492  386.79628865\n",
      " 397.22517982 854.33626048 319.38268709 412.4517889  331.74187854]\n"
     ]
    },
    {
     "name": "stderr",
     "output_type": "stream",
     "text": [
      "pyswarms.single.global_best:  15%|███▉                      |3/20, best_cost=312"
     ]
    },
    {
     "name": "stdout",
     "output_type": "stream",
     "text": [
      "[639.83099094 325.73730752 397.56782429 667.62200098 390.85295711\n",
      " 618.52287734 359.1565855  524.145699   448.93195489 535.88828067\n",
      " 404.15051753 508.85281787 537.91260634 334.12273577 395.40409805\n",
      " 474.57193457 725.93814303 372.17885197 453.89340888 341.78712615]\n"
     ]
    },
    {
     "name": "stderr",
     "output_type": "stream",
     "text": [
      "pyswarms.single.global_best:  20%|█████▏                    |4/20, best_cost=312"
     ]
    },
    {
     "name": "stdout",
     "output_type": "stream",
     "text": [
      "[539.15171772 319.29148792 387.31631673 434.47475065 466.41117769\n",
      " 449.29354252 342.97722485 455.38718456 350.88086878 385.26294629\n",
      " 401.42483149 333.24893061 619.64455037 325.63452284 380.85092047\n",
      " 472.10112702 413.59199674 449.92523836 361.21338534 325.48101689]\n"
     ]
    },
    {
     "name": "stderr",
     "output_type": "stream",
     "text": [
      "pyswarms.single.global_best:  25%|██████▌                   |5/20, best_cost=312"
     ]
    },
    {
     "name": "stdout",
     "output_type": "stream",
     "text": [
      "[376.6873371  315.17063825 388.8785913  339.21126331 383.4972709\n",
      " 361.71874605 323.22943093 415.11739359 323.00604865 325.33254892\n",
      " 366.47108102 316.09261075 717.23679318 317.803314   346.10201249\n",
      " 430.86439821 336.79936275 452.84064918 318.41483486 315.11574028]\n"
     ]
    },
    {
     "name": "stderr",
     "output_type": "stream",
     "text": [
      "pyswarms.single.global_best:  30%|███████▊                  |6/20, best_cost=312"
     ]
    },
    {
     "name": "stdout",
     "output_type": "stream",
     "text": [
      "[330.94873802 312.24394408 394.95270294 312.45481454 318.33354312\n",
      " 334.21501315 315.4539049  342.15765733 330.17763938 319.51121014\n",
      " 341.26723552 331.22804779 316.24281216 312.8134801  318.76403903\n",
      " 393.44400487 333.99450374 361.4180668  324.02383357 311.94337767]\n"
     ]
    },
    {
     "name": "stderr",
     "output_type": "stream",
     "text": [
      "pyswarms.single.global_best:  35%|█████████                 |7/20, best_cost=312"
     ]
    },
    {
     "name": "stdout",
     "output_type": "stream",
     "text": [
      "[582.60426288 312.13485334 362.91549044 328.93905453 320.57340556\n",
      " 324.094933   314.25376468 889.85807793 329.17463644 628.35006314\n",
      " 323.66067472 745.43466905 334.83903044 312.72040374 311.8785153\n",
      " 352.21163659 340.57599466 314.33307257 728.73800608 312.52484322]\n"
     ]
    },
    {
     "name": "stderr",
     "output_type": "stream",
     "text": [
      "pyswarms.single.global_best:  40%|██████████▍               |8/20, best_cost=312"
     ]
    },
    {
     "name": "stdout",
     "output_type": "stream",
     "text": [
      "[332.73914456 313.34213343 343.12615846 545.38965943 333.16356011\n",
      " 323.62842758 315.95263923 417.70510635 315.66300993 313.2190588\n",
      " 313.70025455 502.98654127 648.18136984 314.0931887  314.33131045\n",
      " 325.38676908 337.92452464 330.86785428 365.67484974 313.2243708 ]\n"
     ]
    },
    {
     "name": "stderr",
     "output_type": "stream",
     "text": [
      "pyswarms.single.global_best:  45%|███████████▋              |9/20, best_cost=312"
     ]
    },
    {
     "name": "stdout",
     "output_type": "stream",
     "text": [
      "[ 600.24784485  313.9729543  1462.58118995  361.80945779  325.35521125\n",
      "  684.99504846  316.16829723 1031.99321982  312.5910688   425.46783332\n",
      "  314.64662797  353.03987114  554.20237119  314.08121518  315.85369046\n",
      "  312.68841761  331.63108438  602.24782722  333.02775629  312.84988537]\n"
     ]
    },
    {
     "name": "stderr",
     "output_type": "stream",
     "text": [
      "pyswarms.single.global_best:  50%|████████████▌            |10/20, best_cost=312"
     ]
    },
    {
     "name": "stdout",
     "output_type": "stream",
     "text": [
      "[324.0772459  312.91090266 793.03302146 312.25163105 314.57550925\n",
      " 449.91089506 314.69722902 339.91520684 314.7957265  325.77730264\n",
      " 316.09615048 325.76417477 409.4767418  313.34833631 313.32774364\n",
      " 315.42883858 327.7146525  389.00793625 406.2868669  311.90207901]\n"
     ]
    },
    {
     "name": "stderr",
     "output_type": "stream",
     "text": [
      "pyswarms.single.global_best:  55%|█████████████▊           |11/20, best_cost=312"
     ]
    },
    {
     "name": "stdout",
     "output_type": "stream",
     "text": [
      "[339.97038852 312.04760149 372.20567343 534.03112273 328.84743023\n",
      " 314.65730278 312.4003065  460.86780116 315.89988776 377.83916489\n",
      " 313.10114935 462.36346075 659.19812269 312.31327081 312.00064814\n",
      " 320.47094157 325.97300631 315.87952151 315.78201099 311.97823611]\n"
     ]
    },
    {
     "name": "stderr",
     "output_type": "stream",
     "text": [
      "pyswarms.single.global_best:  60%|███████████████          |12/20, best_cost=312"
     ]
    },
    {
     "name": "stdout",
     "output_type": "stream",
     "text": [
      "[457.60826459 311.82949924 567.65675794 350.72131817 336.01744643\n",
      " 382.33212012 311.95758915 864.30460807 315.89373145 313.75840161\n",
      " 311.85821504 330.52465724 389.82181944 311.92159977 313.82488014\n",
      " 321.02152331 323.84094153 325.73774217 332.97355304 312.36974385]\n"
     ]
    },
    {
     "name": "stderr",
     "output_type": "stream",
     "text": [
      "pyswarms.single.global_best:  65%|████████████████▎        |13/20, best_cost=312"
     ]
    },
    {
     "name": "stdout",
     "output_type": "stream",
     "text": [
      "[ 529.82971294  311.99709768  324.11117131  314.61252132  321.38246529\n",
      "  565.74459384  312.87243713  932.79960981  313.73185928  499.21364725\n",
      "  312.45944761  313.9897822  1227.57804892  312.20310314  314.78772793\n",
      "  314.80327491  322.60361397  546.17922295  543.55325148  312.3198406 ]\n"
     ]
    },
    {
     "name": "stderr",
     "output_type": "stream",
     "text": [
      "pyswarms.single.global_best:  70%|█████████████████▌       |14/20, best_cost=312"
     ]
    },
    {
     "name": "stdout",
     "output_type": "stream",
     "text": [
      "[452.33610194 312.15579243 336.98654292 478.74263474 312.29554666\n",
      " 314.54975298 313.66426881 702.2776778  312.10149114 328.00447564\n",
      " 313.43575951 581.75436011 325.66921056 312.59586237 313.23722319\n",
      " 311.90873899 320.7564512  382.04175531 374.62131287 311.82958385]\n"
     ]
    },
    {
     "name": "stderr",
     "output_type": "stream",
     "text": [
      "pyswarms.single.global_best:  75%|██████████████████▊      |15/20, best_cost=312"
     ]
    },
    {
     "name": "stdout",
     "output_type": "stream",
     "text": [
      "[345.22070316 311.9774161  430.92336807 315.14325358 313.78745017\n",
      " 463.98597526 313.58791289 536.17859059 312.78075459 325.04950466\n",
      " 312.96230779 346.88687256 807.09499787 312.32243032 312.05072572\n",
      " 313.9598663  318.98380087 313.04174125 314.85423704 312.05403426]\n"
     ]
    },
    {
     "name": "stderr",
     "output_type": "stream",
     "text": [
      "pyswarms.single.global_best:  80%|████████████████████     |16/20, best_cost=312"
     ]
    },
    {
     "name": "stdout",
     "output_type": "stream",
     "text": [
      "[332.42545823 311.82794307 316.62994932 552.23962052 317.8492082\n",
      " 312.4903829  312.11085711 583.53942674 313.30826368 479.37075017\n",
      " 312.04212896 320.80566096 419.57781127 312.00468279 312.07989206\n",
      " 314.78726351 316.63258615 519.54436645 492.47799661 312.12759021]\n"
     ]
    },
    {
     "name": "stderr",
     "output_type": "stream",
     "text": [
      "pyswarms.single.global_best:  85%|█████████████████████▎   |17/20, best_cost=312"
     ]
    },
    {
     "name": "stdout",
     "output_type": "stream",
     "text": [
      "[347.14383662 311.93554377 387.14565154 318.52784505 319.65951787\n",
      " 483.18808983 311.98100379 660.02096292 312.60050017 326.36959785\n",
      " 311.89111886 426.75126282 503.71690471 311.83825231 312.52663567\n",
      " 312.80040341 314.66944784 323.9138007  320.1525086  311.98575841]\n"
     ]
    },
    {
     "name": "stderr",
     "output_type": "stream",
     "text": [
      "pyswarms.single.global_best:  90%|██████████████████████▌  |18/20, best_cost=312"
     ]
    },
    {
     "name": "stdout",
     "output_type": "stream",
     "text": [
      "[398.56041401 312.00800616 316.48567111 521.89775643 313.28636036\n",
      " 311.97130561 312.47705491 622.05130965 311.90386489 332.69872875\n",
      " 312.26967023 321.67909966 392.79019078 311.89984121 312.24456193\n",
      " 311.9044483  312.84039791 594.20013323 630.30618095 311.85830562]\n"
     ]
    },
    {
     "name": "stderr",
     "output_type": "stream",
     "text": [
      "pyswarms.single.global_best:  95%|███████████████████████▊ |19/20, best_cost=312"
     ]
    },
    {
     "name": "stdout",
     "output_type": "stream",
     "text": [
      "[ 449.82837402  311.96322165  402.00127083  327.07319076  311.98052133\n",
      "  434.53271933  312.5895033   558.64196534  311.91240588  425.79314758\n",
      "  312.48101314  327.96453154 1031.36360484  312.00108476  311.87326733\n",
      "  311.98714066  312.89620704  327.52798301  315.87160309  311.83772139]\n"
     ]
    },
    {
     "name": "stderr",
     "output_type": "stream",
     "text": [
      "pyswarms.single.global_best: 100%|█████████████████████████|20/20, best_cost=312\n",
      "2024-12-23 18:29:40,890 - pyswarms.single.global_best - INFO - Optimization finished | best cost: 311.8279430718693, best pos: [0.37034031 3.92242056]\n",
      "2024-12-23 18:29:40,896 - pyswarms.single.global_best - INFO - Optimize for 20 iters with {'c1': 0.5, 'c2': 0.3, 'w': 0.8}\n"
     ]
    },
    {
     "name": "stdout",
     "output_type": "stream",
     "text": [
      "[398.82384978 311.86227116 314.23463317 325.02915245 314.24702958\n",
      " 312.61737579 312.2107542  534.12135616 312.19366124 320.83743596\n",
      " 312.47370228 496.93837515 319.60064421 311.99343708 311.90003886\n",
      " 312.48256877 313.20259515 559.1094466  418.55078212 311.90251856]\n"
     ]
    },
    {
     "name": "stderr",
     "output_type": "stream",
     "text": [
      "pyswarms.single.global_best:   5%|█▎                        |1/20, best_cost=347"
     ]
    },
    {
     "name": "stdout",
     "output_type": "stream",
     "text": [
      "[ 875.56893724  515.54434094  384.12552988  384.75057858  989.17485379\n",
      "  776.04244843  419.64194291  949.47924005  875.85598268  378.51172726\n",
      "  346.70391196  537.67034707  347.87076637  357.52227554 1078.34057934\n",
      "  352.84436128  351.93950779  436.35407922 1796.17878702  491.83369089]\n"
     ]
    },
    {
     "name": "stderr",
     "output_type": "stream",
     "text": [
      "pyswarms.single.global_best:  10%|██▌                       |2/20, best_cost=347"
     ]
    },
    {
     "name": "stdout",
     "output_type": "stream",
     "text": [
      "[1429.36144834  436.07769644  476.40507664  504.53889401 1548.11120759\n",
      " 1298.48621548  572.41946098  387.92612796  586.16577606  624.32265242\n",
      "  521.30812248  664.37302551  434.44712961  386.38501636 1335.59207082\n",
      "  399.14616251  363.81056707  702.57146917  480.23805315  927.71387539]\n"
     ]
    },
    {
     "name": "stderr",
     "output_type": "stream",
     "text": [
      "pyswarms.single.global_best:  15%|███▉                      |3/20, best_cost=347"
     ]
    },
    {
     "name": "stdout",
     "output_type": "stream",
     "text": [
      "[1074.58034918  403.64902442  482.4162848   640.86905029  378.7091003\n",
      "  666.02510244  359.51677706  437.9428743   547.6030445   728.19479614\n",
      "  746.25583085  550.28769865  461.60191649  401.07638538  689.80655657\n",
      "  431.71667186  465.14366882  702.48854479  428.71606838 1167.75960134]\n"
     ]
    },
    {
     "name": "stderr",
     "output_type": "stream",
     "text": [
      "pyswarms.single.global_best:  20%|█████▏                    |4/20, best_cost=347"
     ]
    },
    {
     "name": "stdout",
     "output_type": "stream",
     "text": [
      "[596.6766914  389.42631627 386.47228905 468.42709219 374.93972017\n",
      " 700.42848274 355.44377645 475.88323363 520.0206536  576.02171657\n",
      " 496.61944775 422.48142801 393.61699022 382.02401816 452.75978919\n",
      " 414.28022071 490.47708982 545.20309457 455.30032323 374.36020547]\n"
     ]
    },
    {
     "name": "stderr",
     "output_type": "stream",
     "text": [
      "pyswarms.single.global_best:  25%|██████▌                   |5/20, best_cost=345"
     ]
    },
    {
     "name": "stdout",
     "output_type": "stream",
     "text": [
      "[393.49329574 375.57656278 348.20754175 373.99723912 345.58707007\n",
      " 721.91494451 372.99468381 449.84342794 466.75229493 382.89039481\n",
      " 379.91519695 358.61732616 345.25291561 351.23342297 362.56867205\n",
      " 360.00328768 360.46234965 384.52935488 565.84249742 361.21195573]\n"
     ]
    },
    {
     "name": "stderr",
     "output_type": "stream",
     "text": [
      "pyswarms.single.global_best:  30%|███████▊                  |6/20, best_cost=340"
     ]
    },
    {
     "name": "stdout",
     "output_type": "stream",
     "text": [
      "[350.6685851  939.07987616 355.27838519 918.26573769 347.71232525\n",
      " 519.25563609 380.78428646 387.30060742 400.13723631 341.3465341\n",
      " 371.52870601 361.98772034 342.51021538 340.93808513 340.49381029\n",
      " 344.0194183  342.34843314 343.71986166 449.43625959 341.3725    ]\n"
     ]
    },
    {
     "name": "stderr",
     "output_type": "stream",
     "text": [
      "pyswarms.single.global_best:  35%|█████████                 |7/20, best_cost=340"
     ]
    },
    {
     "name": "stdout",
     "output_type": "stream",
     "text": [
      "[360.27175417 582.26957122 370.84948589 480.23985361 368.38564921\n",
      " 375.04981479 380.20142351 354.86891789 375.85273977 345.93212536\n",
      " 591.29167785 366.63401416 360.33996809 340.83141785 343.94482462\n",
      " 349.48433256 364.35560958 341.84060883 377.6061672  348.98627502]\n"
     ]
    },
    {
     "name": "stderr",
     "output_type": "stream",
     "text": [
      "pyswarms.single.global_best:  40%|██████████▍               |8/20, best_cost=340"
     ]
    },
    {
     "name": "stdout",
     "output_type": "stream",
     "text": [
      "[369.20312712 412.46068288 361.63705157 353.33847765 352.95217066\n",
      " 341.29675793 358.32812811 342.13601992 371.03965947 356.31345154\n",
      " 373.06755897 351.90112821 610.40405547 343.9480853  344.64027865\n",
      " 354.04553325 371.4041942  353.1491076  358.67413547 377.12065644]\n"
     ]
    },
    {
     "name": "stderr",
     "output_type": "stream",
     "text": [
      "pyswarms.single.global_best:  45%|███████████▋              |9/20, best_cost=340"
     ]
    },
    {
     "name": "stdout",
     "output_type": "stream",
     "text": [
      "[355.84976401 345.73712027 344.09544267 572.60379329 340.17098851\n",
      " 351.32728539 347.29445292 340.53478495 356.03314732 355.31714079\n",
      " 347.6247708  344.23226648 441.70548744 345.13838744 341.19535296\n",
      " 345.9225039  364.26356232 359.51367177 357.95865839 360.73502656]\n"
     ]
    },
    {
     "name": "stderr",
     "output_type": "stream",
     "text": [
      "pyswarms.single.global_best:  50%|████████████▌            |10/20, best_cost=340"
     ]
    },
    {
     "name": "stdout",
     "output_type": "stream",
     "text": [
      "[343.47454235 371.47330322 339.904702   360.81302584 342.89411275\n",
      " 365.60364575 342.2894469  344.55760813 343.19569009 347.71150478\n",
      " 591.64805129 342.55257693 346.75300211 344.41961344 340.47964854\n",
      " 340.63495934 351.17431756 354.8229599  361.56887844 343.5168349 ]\n"
     ]
    },
    {
     "name": "stderr",
     "output_type": "stream",
     "text": [
      "pyswarms.single.global_best:  55%|█████████████▊           |11/20, best_cost=340"
     ]
    },
    {
     "name": "stdout",
     "output_type": "stream",
     "text": [
      "[344.81275937 616.08837036 343.62670905 367.52672204 346.60436003\n",
      " 373.3615962  342.41744537 348.61780171 344.5451753  341.61136411\n",
      " 349.19453479 344.62068668 362.98757418 342.97111324 341.70394527\n",
      " 340.65447878 341.0663194  344.18364843 353.47233637 344.71563692]\n"
     ]
    },
    {
     "name": "stderr",
     "output_type": "stream",
     "text": [
      "pyswarms.single.global_best:  60%|███████████████          |12/20, best_cost=340"
     ]
    },
    {
     "name": "stdout",
     "output_type": "stream",
     "text": [
      "[347.98479169 385.77299503 344.78998486 427.7591621  342.44377599\n",
      " 347.75287692 343.41689229 346.99581006 355.52127924 351.88268056\n",
      " 672.16678395 345.57332416 489.30754024 341.27884479 342.38899328\n",
      " 342.42665406 345.12749538 339.86714093 348.40410813 352.34206978]\n"
     ]
    },
    {
     "name": "stderr",
     "output_type": "stream",
     "text": [
      "pyswarms.single.global_best:  65%|████████████████▎        |13/20, best_cost=340"
     ]
    },
    {
     "name": "stdout",
     "output_type": "stream",
     "text": [
      "[345.35194594 342.05823016 342.9602346  343.25235904 339.78486177\n",
      " 348.64253983 342.60577754 341.08043111 352.20787569 359.29687993\n",
      " 357.04340702 342.8625845  340.93611924 340.14268458 341.49697627\n",
      " 342.09129618 351.8491603  341.7645898  346.10650597 354.40268026]\n"
     ]
    },
    {
     "name": "stderr",
     "output_type": "stream",
     "text": [
      "pyswarms.single.global_best:  70%|█████████████████▌       |14/20, best_cost=340"
     ]
    },
    {
     "name": "stdout",
     "output_type": "stream",
     "text": [
      "[340.2384838  578.23324456 340.24593774 360.57838455 341.91079973\n",
      " 380.05424814 340.96093819 340.01899608 341.29737548 352.39460418\n",
      " 422.01654357 340.11029208 589.7002037  340.34471918 340.04413008\n",
      " 340.22337093 352.85181448 343.50656935 344.03405069 350.57996218]\n"
     ]
    },
    {
     "name": "stderr",
     "output_type": "stream",
     "text": [
      "pyswarms.single.global_best:  75%|██████████████████▊      |15/20, best_cost=340"
     ]
    },
    {
     "name": "stdout",
     "output_type": "stream",
     "text": [
      "[340.36281208 341.20953336 340.05211539 575.47140349 343.12025705\n",
      " 385.59513063 341.54567988 342.62203006 343.18983661 346.18704016\n",
      " 368.58681365 340.45884951 339.79611683 341.04505802 339.78868413\n",
      " 339.78077658 348.35202342 342.80697428 343.44602714 343.1864178 ]\n"
     ]
    },
    {
     "name": "stderr",
     "output_type": "stream",
     "text": [
      "pyswarms.single.global_best:  80%|████████████████████     |16/20, best_cost=340"
     ]
    },
    {
     "name": "stdout",
     "output_type": "stream",
     "text": [
      "[341.54003321 449.24056285 340.99021989 446.92854065 341.35253968\n",
      " 369.32658432 341.46834275 342.52666714 344.30216724 341.56756694\n",
      " 397.0459816  340.71348234 446.66660637 340.47881688 340.18906699\n",
      " 340.23616385 342.31392159 341.01354052 343.44210893 341.24288264]\n"
     ]
    },
    {
     "name": "stderr",
     "output_type": "stream",
     "text": [
      "pyswarms.single.global_best:  85%|█████████████████████▎   |17/20, best_cost=340"
     ]
    },
    {
     "name": "stdout",
     "output_type": "stream",
     "text": [
      "[341.97766253 359.32011966 341.54089475 356.76262932 339.91358582\n",
      " 350.47966967 341.18038604 341.14482854 343.88909132 340.88315136\n",
      " 357.06469347 340.63113898 340.14048415 340.04607169 340.44980802\n",
      " 340.67926843 344.5820905  340.18551143 343.89905554 344.67857341]\n"
     ]
    },
    {
     "name": "stderr",
     "output_type": "stream",
     "text": [
      "pyswarms.single.global_best:  90%|██████████████████████▌  |18/20, best_cost=340"
     ]
    },
    {
     "name": "stdout",
     "output_type": "stream",
     "text": [
      "[341.28421466 379.77885222 340.61314548 343.72429025 340.05166583\n",
      " 346.93122823 340.36636754 340.08161714 340.61654231 342.88465683\n",
      " 407.33190036 340.13833009 506.97877057 339.90386134 340.272648\n",
      " 340.76262726 346.74658065 341.15548834 343.80309081 347.01106667]\n"
     ]
    },
    {
     "name": "stderr",
     "output_type": "stream",
     "text": [
      "pyswarms.single.global_best:  95%|███████████████████████▊ |19/20, best_cost=340"
     ]
    },
    {
     "name": "stdout",
     "output_type": "stream",
     "text": [
      "[340.07902874 370.01637567 339.92917121 612.71250615 340.70789292\n",
      " 348.07564105 339.82699284 339.7708097  340.30826948 343.35103653\n",
      " 342.05846778 339.79980825 339.91304481 339.93677695 339.95339024\n",
      " 340.25576904 345.79436201 342.35035557 342.7125718  342.35699238]\n"
     ]
    },
    {
     "name": "stderr",
     "output_type": "stream",
     "text": [
      "pyswarms.single.global_best: 100%|█████████████████████████|20/20, best_cost=340\n",
      "2024-12-23 18:30:13,928 - pyswarms.single.global_best - INFO - Optimization finished | best cost: 339.7708096963391, best pos: [0.45404658 3.9303792 ]\n",
      "2024-12-23 18:30:13,934 - pyswarms.single.global_best - INFO - Optimize for 20 iters with {'c1': 0.5, 'c2': 0.3, 'w': 0.8}\n"
     ]
    },
    {
     "name": "stdout",
     "output_type": "stream",
     "text": [
      "[340.61120892 387.71957631 340.59822615 364.09410172 340.61407457\n",
      " 344.21504116 339.83666621 339.93984137 341.71174783 342.22875099\n",
      " 509.52363215 340.32304797 510.29545586 340.03204222 339.78485756\n",
      " 339.79091841 341.86912594 341.82804171 341.04402764 339.87042303]\n"
     ]
    },
    {
     "name": "stderr",
     "output_type": "stream",
     "text": [
      "pyswarms.single.global_best:   5%|█▎                        |1/20, best_cost=405"
     ]
    },
    {
     "name": "stdout",
     "output_type": "stream",
     "text": [
      "[ 684.82142097  472.27836521  410.51761375  428.56813371  764.99896173\n",
      "  451.97189532  471.19127977  443.92929467 1023.81593208  504.65636014\n",
      "  647.06797408  411.40239726  934.77792811  733.03009073  419.27890126\n",
      "  491.02718597  780.55713059  463.27658782  404.90483811  459.19528162]\n"
     ]
    },
    {
     "name": "stderr",
     "output_type": "stream",
     "text": [
      "pyswarms.single.global_best:  10%|██▌                       |2/20, best_cost=388"
     ]
    },
    {
     "name": "stdout",
     "output_type": "stream",
     "text": [
      "[ 710.73240139  479.8959661   408.65659336  389.29117771 1933.37059833\n",
      "  486.59779202  581.95848326  414.17508733  804.52945324  408.73088568\n",
      "  406.7268546   453.60360009 1122.28409243  424.29738947  527.41250377\n",
      "  495.66230506  442.08178721  511.7704162   388.19030254  602.26400511]\n"
     ]
    },
    {
     "name": "stderr",
     "output_type": "stream",
     "text": [
      "pyswarms.single.global_best:  15%|███▉                      |3/20, best_cost=388"
     ]
    },
    {
     "name": "stdout",
     "output_type": "stream",
     "text": [
      "[532.73656222 529.44448188 403.42196659 454.53457651 542.39907277\n",
      " 495.33400204 516.93445476 395.98660727 528.84460083 396.13150475\n",
      " 394.44097717 567.63107006 646.98371937 392.57280827 580.63476763\n",
      " 483.78502004 441.72116371 545.70150843 391.19638501 640.2160992 ]\n"
     ]
    },
    {
     "name": "stderr",
     "output_type": "stream",
     "text": [
      "pyswarms.single.global_best:  20%|█████▏                    |4/20, best_cost=388"
     ]
    },
    {
     "name": "stdout",
     "output_type": "stream",
     "text": [
      "[400.81449561 531.12589363 396.51057218 502.74942805 442.81524656\n",
      " 433.63060894 582.59961337 390.62643415 413.57321961 411.79217623\n",
      " 424.27105748 448.79813432 416.97044427 395.41369148 460.79250245\n",
      " 430.16384377 436.02564595 443.883185   398.98592037 551.57883004]\n"
     ]
    },
    {
     "name": "stderr",
     "output_type": "stream",
     "text": [
      "pyswarms.single.global_best:  25%|██████▌                   |5/20, best_cost=387"
     ]
    },
    {
     "name": "stdout",
     "output_type": "stream",
     "text": [
      "[411.34669974 447.52768654 390.98108047 464.40422335 449.61818768\n",
      " 400.67179218 545.85894931 388.37654822 387.13660792 404.6235744\n",
      " 456.29419983 393.47874282 571.55481285 412.50904742 395.06706402\n",
      " 390.50783812 425.14948611 401.44365595 389.40539637 481.30650172]\n"
     ]
    },
    {
     "name": "stderr",
     "output_type": "stream",
     "text": [
      "pyswarms.single.global_best:  30%|███████▊                  |6/20, best_cost=387"
     ]
    },
    {
     "name": "stdout",
     "output_type": "stream",
     "text": [
      "[444.34233854 393.74154017 386.84943317 406.730051   664.21946878\n",
      " 395.60114489 479.37896716 387.027372   394.34367806 393.89765923\n",
      " 478.65042148 413.55842077 655.84663356 414.1384039  387.9172591\n",
      " 390.17190615 409.54208834 386.75733273 387.32223859 415.56883499]\n"
     ]
    },
    {
     "name": "stderr",
     "output_type": "stream",
     "text": [
      "pyswarms.single.global_best:  35%|█████████                 |7/20, best_cost=386"
     ]
    },
    {
     "name": "stdout",
     "output_type": "stream",
     "text": [
      "[ 449.78101848  388.5048396   385.51841869  393.99891614  510.47686403\n",
      "  406.72936746 1616.49900169  387.54703123  398.77006646  387.55094678\n",
      "  465.91979931  654.72347937  570.70358735  388.0650461   403.06085599\n",
      "  413.80056596  392.40966086  387.13156104  394.28977377  430.98850207]\n"
     ]
    },
    {
     "name": "stderr",
     "output_type": "stream",
     "text": [
      "pyswarms.single.global_best:  40%|██████████▍               |8/20, best_cost=386"
     ]
    },
    {
     "name": "stdout",
     "output_type": "stream",
     "text": [
      "[409.1464075  402.36359492 385.83378204 396.07189832 398.63450893\n",
      " 421.8010613  841.35546625 388.03217014 397.22478109 387.82195666\n",
      " 413.84049758 426.09081368 390.01444847 389.18519    411.93911115\n",
      " 420.91339203 386.66690687 389.57297778 399.71765677 690.97883791]\n"
     ]
    },
    {
     "name": "stderr",
     "output_type": "stream",
     "text": [
      "pyswarms.single.global_best:  45%|███████████▋              |9/20, best_cost=386"
     ]
    },
    {
     "name": "stdout",
     "output_type": "stream",
     "text": [
      "[387.82697632 412.7267045  386.42390878 401.20307182 417.92360627\n",
      " 415.09009369 546.28936694 388.44806941 391.74109842 389.47753389\n",
      " 394.29059135 395.16333199 435.88674428 394.90780137 402.87367252\n",
      " 401.05282161 393.71279587 387.17318736 398.68374344 422.60101726]\n"
     ]
    },
    {
     "name": "stderr",
     "output_type": "stream",
     "text": [
      "pyswarms.single.global_best:  50%|████████████▌            |10/20, best_cost=386"
     ]
    },
    {
     "name": "stdout",
     "output_type": "stream",
     "text": [
      "[ 424.27176597  412.83979307  386.15958595  395.01430917  435.17375043\n",
      "  396.78452869 1891.47179289  388.92479109  385.85294149  389.2454417\n",
      "  404.13252686  630.91196409  533.16285667  393.8843985   387.74867406\n",
      "  387.53806457  402.89414008  385.54344999  393.97746506  413.56735839]\n"
     ]
    },
    {
     "name": "stderr",
     "output_type": "stream",
     "text": [
      "pyswarms.single.global_best:  55%|█████████████▊           |11/20, best_cost=385"
     ]
    },
    {
     "name": "stdout",
     "output_type": "stream",
     "text": [
      "[471.88451172 394.85563474 385.45688405 386.29393855 416.77587187\n",
      " 389.00579748 628.53609104 386.10957128 387.4173064  388.77324378\n",
      " 405.65602897 386.71079506 458.56109852 386.13275004 386.83401117\n",
      " 388.92365926 395.02329224 385.8573949  388.67787685 510.0092588 ]\n"
     ]
    },
    {
     "name": "stderr",
     "output_type": "stream",
     "text": [
      "pyswarms.single.global_best:  60%|███████████████          |12/20, best_cost=385"
     ]
    },
    {
     "name": "stdout",
     "output_type": "stream",
     "text": [
      "[ 448.86422841  385.8058426   385.74400009  390.37809496  396.77968328\n",
      "  394.04849518 1017.8647835   385.45492462  388.57339738  386.24580383\n",
      "  392.20746092  571.16801802  385.53412073  386.87495074  396.56711989\n",
      "  396.78733059  386.36478229  386.5383564   387.77093528  406.91259731]\n"
     ]
    },
    {
     "name": "stderr",
     "output_type": "stream",
     "text": [
      "pyswarms.single.global_best:  65%|████████████████▎        |13/20, best_cost=385"
     ]
    },
    {
     "name": "stdout",
     "output_type": "stream",
     "text": [
      "[412.15291957 390.70279794 385.87528587 400.8612871  395.44974844\n",
      " 397.64911673 442.56406525 385.94865906 386.98242913 385.48926887\n",
      " 386.94834975 388.30000756 442.29630306 390.57472229 403.70487066\n",
      " 397.09194362 386.12235976 386.02463983 391.35074785 387.06606034]\n"
     ]
    },
    {
     "name": "stderr",
     "output_type": "stream",
     "text": [
      "pyswarms.single.global_best:  70%|█████████████████▌       |14/20, best_cost=385"
     ]
    },
    {
     "name": "stdout",
     "output_type": "stream",
     "text": [
      "[388.07791179 397.71831682 385.76885707 398.55516556 408.30926437\n",
      " 397.22308367 445.46622115 386.36970127 385.71698089 386.31543665\n",
      " 390.17162526 437.03778916 493.49024869 387.81652059 396.31463366\n",
      " 393.45182574 389.58696951 385.44954013 387.61107535 416.13726715]\n"
     ]
    },
    {
     "name": "stderr",
     "output_type": "stream",
     "text": [
      "pyswarms.single.global_best:  75%|██████████████████▊      |15/20, best_cost=385"
     ]
    },
    {
     "name": "stdout",
     "output_type": "stream",
     "text": [
      "[388.24820664 391.01253493 385.45157251 389.93721928 413.16916528\n",
      " 390.34689748 582.25422617 386.51760507 387.60725967 387.06804334\n",
      " 398.57658398 475.75677045 455.29885074 385.57120588 390.60739391\n",
      " 387.96314177 391.76854101 385.82156292 385.47331249 636.6371027 ]\n"
     ]
    },
    {
     "name": "stderr",
     "output_type": "stream",
     "text": [
      "pyswarms.single.global_best:  80%|████████████████████     |16/20, best_cost=385"
     ]
    },
    {
     "name": "stdout",
     "output_type": "stream",
     "text": [
      "[396.81144605 386.24280545 385.4892813  386.53741519 407.53763627\n",
      " 387.12953521 550.17617989 385.8790183  389.28329981 386.41925385\n",
      " 397.87269002 386.18689568 390.11221566 386.25072833 386.45135791\n",
      " 385.49886656 390.07443751 386.32144771 387.2455663  389.16805786]\n"
     ]
    },
    {
     "name": "stderr",
     "output_type": "stream",
     "text": [
      "pyswarms.single.global_best:  85%|█████████████████████▎   |17/20, best_cost=385"
     ]
    },
    {
     "name": "stdout",
     "output_type": "stream",
     "text": [
      "[399.24648872 390.52815326 385.57166137 388.53724902 391.42581905\n",
      " 386.32665369 431.40699659 385.43172829 389.82123496 385.4795579\n",
      " 392.92683612 424.19862675 399.78228321 387.15518865 385.50043353\n",
      " 387.71439061 386.60822525 386.30181494 388.36139771 593.79863278]\n"
     ]
    },
    {
     "name": "stderr",
     "output_type": "stream",
     "text": [
      "pyswarms.single.global_best:  90%|██████████████████████▌  |18/20, best_cost=385"
     ]
    },
    {
     "name": "stdout",
     "output_type": "stream",
     "text": [
      "[388.73941962 394.33287803 385.54219061 389.82049732 387.57226073\n",
      " 387.18681239 417.89343901 385.76400932 386.3529542  385.65102792\n",
      " 387.19791403 627.35388716 454.18829991 386.6357023  386.32219208\n",
      " 388.76262007 385.52287646 385.94986215 387.30228465 386.90931929]\n"
     ]
    },
    {
     "name": "stderr",
     "output_type": "stream",
     "text": [
      "pyswarms.single.global_best:  95%|███████████████████████▊ |19/20, best_cost=385"
     ]
    },
    {
     "name": "stdout",
     "output_type": "stream",
     "text": [
      "[385.44527551 395.71991503 385.4531978  388.76915991 389.59581684\n",
      " 387.55184365 462.15545026 386.35769955 385.63619922 385.92428107\n",
      " 388.40747766 405.02148914 437.2840791  385.45002754 387.00876152\n",
      " 388.61138016 387.20303304 385.46911321 386.23214852 489.25210276]\n"
     ]
    },
    {
     "name": "stderr",
     "output_type": "stream",
     "text": [
      "pyswarms.single.global_best: 100%|█████████████████████████|20/20, best_cost=385\n",
      "2024-12-23 18:30:46,629 - pyswarms.single.global_best - INFO - Optimization finished | best cost: 385.43172829364016, best pos: [0.55390491 3.92841558]\n"
     ]
    },
    {
     "name": "stdout",
     "output_type": "stream",
     "text": [
      "[387.14367933 392.88223525 385.45203532 386.5416253  390.92372148\n",
      " 386.89303459 620.23327398 385.97604649 387.17779917 385.64653023\n",
      " 392.48191167 395.79961523 400.36130029 386.03789355 386.57311897\n",
      " 387.38698218 389.12585145 385.55545448 385.773489   428.22953219]\n"
     ]
    }
   ],
   "source": [
    "r_sen = designs[KEY]['r_sensor'] \n",
    "N = r_sen.shape[0]\n",
    "pos_l = [0]*N #SN Position\n",
    "pow_l = [0]*N #SN Optical Power\n",
    "op_l = [0]*N #SN Orientation\n",
    "options = {'c1': 0.5, 'c2': 0.3, 'w': 0.8}\n",
    "lb = np.array([0, 0])\n",
    "ub = np.array([np.pi/2,2*np.pi])\n",
    "for i in range(0,N):\n",
    "    r_sens = r_sen[i]\n",
    "    optimizer = GlobalBestPSO(n_particles=n_particles, dimensions=2, options=options, bounds=(lb, ub))\n",
    "    best_cost, best_pos = optimizer.optimize(fit_function, iters=20) \n",
    "    pos_l[i] = r_sens\n",
    "    pow_l[i] = 1/best_cost\n",
    "    op_l[i] = best_pos\n"
   ]
  },
  {
   "cell_type": "code",
   "execution_count": 6,
   "id": "406f4f92-2da8-4e55-8f6f-a6c6101ae546",
   "metadata": {},
   "outputs": [],
   "source": [
    "#save to not run again\n",
    "np.save('pos_l_nsun_diag.npy', pos_l)\n",
    "np.save('pow_l_nsun_diag.npy', pow_l)\n",
    "np.save('op_l_nsun_diag.npy', op_l)"
   ]
  },
  {
   "cell_type": "code",
   "execution_count": 7,
   "id": "35ebe0aa-c778-495b-878f-461c4f21206e",
   "metadata": {},
   "outputs": [],
   "source": [
    "area = 5.2 * 5.2 * 1e-4 #solar area\n",
    "pow = np.array(pow_l) #effective power incident to solar panel (daylight)\n",
    "irr = pow/area #effective irradiance incident to solar panel - to use for calculating efficiency (daylight)\n",
    "op = np.array(op_l)\n",
    "pos = np.array(pos_l)\n",
    "nor_arr =ut.spher_to_cart_ar(1, op[:,0], op[:,1]).T #optimized orientation of each solar cell (daylight)\n"
   ]
  },
  {
   "cell_type": "code",
   "execution_count": 8,
   "id": "e8298341-e497-459c-ad52-6b79450ceecc",
   "metadata": {},
   "outputs": [
    {
     "data": {
      "image/png": "[encoded data removed]",
      "text/plain": [
       "<Figure size 640x480 with 1 Axes>"
      ]
     },
     "metadata": {},
     "output_type": "display_data"
    }
   ],
   "source": [
    "plt.clf()\n",
    "plt.close('all')  \n",
    "plt.figure()       \n",
    "plt.plot(pos[:,0], np.array(pow_l)/(area), '-o')\n",
    "plt.xlabel('Position (meters)')  \n",
    "plt.ylabel('Irradiance (W/m2)')\n",
    "plt.show()\n"
   ]
  },
  {
   "cell_type": "code",
   "execution_count": 9,
   "id": "2718e6ee-e078-470c-9d77-b2ef02952e01",
   "metadata": {},
   "outputs": [
    {
     "data": {
      "image/png": "[encoded data removed]",
      "text/plain": [
       "<Figure size 640x480 with 1 Axes>"
      ]
     },
     "metadata": {},
     "output_type": "display_data"
    }
   ],
   "source": [
    "plt.clf()\n",
    "plt.close('all')  \n",
    "plt.figure()       \n",
    "plt.plot(pos[:,0], np.array(pow_l), '-o')\n",
    "plt.xlabel('Position (meters)')  \n",
    "plt.ylabel('Optical Power (W)')\n",
    "plt.show()"
   ]
  },
  {
   "cell_type": "code",
   "execution_count": 10,
   "id": "b7d76703-8577-427b-9a2e-343eea8a1773",
   "metadata": {},
   "outputs": [
    {
     "data": {
      "text/plain": [
       "20"
      ]
     },
     "execution_count": 10,
     "metadata": {},
     "output_type": "execute_result"
    }
   ],
   "source": [
    "len(pos_l)"
   ]
  },
  {
   "cell_type": "code",
   "execution_count": 11,
   "id": "61ff5d62-11b7-4c50-978a-e0696d429c38",
   "metadata": {},
   "outputs": [
    {
     "data": {
      "image/png": "[encoded data removed]",
      "text/plain": [
       "<Figure size 640x480 with 1 Axes>"
      ]
     },
     "metadata": {},
     "output_type": "display_data"
    }
   ],
   "source": [
    "import numpy as np\n",
    "import matplotlib.pyplot as plt\n",
    "from mpl_toolkits.mplot3d import Axes3D\n",
    "\n",
    "scaling_factor = 1  #\n",
    "fig = plt.figure()\n",
    "ax = fig.add_subplot(111, projection='3d')\n",
    "ax.scatter(pos[:, 0], pos[:, 1], pos[:, 2], color='b', marker='o', label='Points')\n",
    "for i in range(N):\n",
    "    ax.quiver(\n",
    "        pos[i, 0], pos[i, 1], pos[i, 2],  \n",
    "        nor_arr[i, 0], nor_arr[i, 1], nor_arr[i, 2],  \n",
    "        length=scaling_factor, color='r', arrow_length_ratio=1e-10 \n",
    "    )\n",
    "ax.set_xlabel('X axis')\n",
    "ax.set_ylabel('Y axis')\n",
    "ax.set_zlabel('Z axis')\n",
    "ax.set_title('3D Plot of Points with Direction Vectors')\n",
    "ax.set_xlim([0, 10])\n",
    "ax.set_ylim([0, 10])\n",
    "ax.set_zlim([0, 3])\n",
    "ax.view_init(20, 30)\n",
    "ax.legend()\n",
    "plt.show()\n"
   ]
  },
  {
   "cell_type": "markdown",
   "id": "222e3d98-177d-438c-98de-310981683e54",
   "metadata": {},
   "source": [
    "No sun"
   ]
  },
  {
   "cell_type": "code",
   "execution_count": null,
   "id": "52f83994-f8bd-4470-8691-b9dfb1001e3f",
   "metadata": {},
   "outputs": [],
   "source": []
  }
 ],
 "metadata": {
  "kernelspec": {
   "display_name": "phd",
   "language": "python",
   "name": "phd"
  },
  "language_info": {
   "codemirror_mode": {
    "name": "ipython",
    "version": 3
   },
   "file_extension": ".py",
   "mimetype": "text/x-python",
   "name": "python",
   "nbconvert_exporter": "python",
   "pygments_lexer": "ipython3",
   "version": "3.7.16"
  }
 },
 "nbformat": 4,
 "nbformat_minor": 5
}
